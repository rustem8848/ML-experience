{
 "cells": [
  {
   "cell_type": "markdown",
   "metadata": {
    "id": "eAsEgrPtgrYM"
   },
   "source": [
    "# **ОБЯЗАТЕЛЬНО**"
   ]
  },
  {
   "cell_type": "code",
   "execution_count": 83,
   "metadata": {
    "executionInfo": {
     "elapsed": 407,
     "status": "ok",
     "timestamp": 1709472899247,
     "user": {
      "displayName": "Rustem Khakimullin",
      "userId": "08101597593475196688"
     },
     "user_tz": -180
    },
    "id": "ecII3ff65CWP"
   },
   "outputs": [],
   "source": [
    "import numpy as np\n",
    "import math\n",
    "import seaborn as sns\n",
    "import pandas as pd\n",
    "import matplotlib.pyplot as plt"
   ]
  },
  {
   "cell_type": "markdown",
   "metadata": {
    "id": "64t-IBTFdwbG"
   },
   "source": [
    ">> ## **Загрузка данных**\n",
    "\n",
    "\n",
    "\n"
   ]
  },
  {
   "cell_type": "code",
   "execution_count": 84,
   "metadata": {
    "executionInfo": {
     "elapsed": 4,
     "status": "ok",
     "timestamp": 1709472899536,
     "user": {
      "displayName": "Rustem Khakimullin",
      "userId": "08101597593475196688"
     },
     "user_tz": -180
    },
    "id": "xSUSLXln3Iod"
   },
   "outputs": [],
   "source": [
    "#!gdown --id 1etHu1_t0R9xs1rvE9HBSZrRK7en8Hgec"
   ]
  },
  {
   "cell_type": "code",
   "execution_count": 85,
   "metadata": {
    "colab": {
     "base_uri": "https://localhost:8080/"
    },
    "executionInfo": {
     "elapsed": 3719,
     "status": "ok",
     "timestamp": 1709472903252,
     "user": {
      "displayName": "Rustem Khakimullin",
      "userId": "08101597593475196688"
     },
     "user_tz": -180
    },
    "id": "7fOFooCdpW2j",
    "outputId": "5dde4d59-b209-4406-e306-9ca3b1262c6b"
   },
   "outputs": [
    {
     "name": "stdout",
     "output_type": "stream",
     "text": [
      "--2024-03-03 13:35:00--  http://ml.xlsx/\n",
      "Resolving ml.xlsx (ml.xlsx)... failed: Name or service not known.\n",
      "wget: unable to resolve host address ‘ml.xlsx’\n",
      "--2024-03-03 13:35:00--  https://docs.google.com/uc?export=download&confirm=&id=1etHu1_t0R9xs1rvE9HBSZrRK7en8Hgec\n",
      "Resolving docs.google.com (docs.google.com)... 142.251.111.100, 142.251.111.139, 142.251.111.101, ...\n",
      "Connecting to docs.google.com (docs.google.com)|142.251.111.100|:443... connected.\n",
      "HTTP request sent, awaiting response... 303 See Other\n",
      "Location: https://drive.usercontent.google.com/download?id=1etHu1_t0R9xs1rvE9HBSZrRK7en8Hgec&export=download [following]\n",
      "--2024-03-03 13:35:00--  https://drive.usercontent.google.com/download?id=1etHu1_t0R9xs1rvE9HBSZrRK7en8Hgec&export=download\n",
      "Resolving drive.usercontent.google.com (drive.usercontent.google.com)... 172.253.62.132, 2607:f8b0:4004:c07::84\n",
      "Connecting to drive.usercontent.google.com (drive.usercontent.google.com)|172.253.62.132|:443... connected.\n",
      "HTTP request sent, awaiting response... 200 OK\n",
      "Length: 1791606 (1.7M) [application/octet-stream]\n",
      "Saving to: ‘data_for ML.xlsx’\n",
      "\n",
      "data_for ML.xlsx    100%[===================>]   1.71M  --.-KB/s    in 0.05s   \n",
      "\n",
      "2024-03-03 13:35:02 (34.1 MB/s) - ‘data_for ML.xlsx’ saved [1791606/1791606]\n",
      "\n",
      "FINISHED --2024-03-03 13:35:02--\n",
      "Total wall clock time: 1.9s\n",
      "Downloaded: 1 files, 1.7M in 0.05s (34.1 MB/s)\n"
     ]
    }
   ],
   "source": [
    "!wget --load-cookies /content/data_for ML.xlsx \"https://docs.google.com/uc?export=download&confirm=$(wget --quiet --save-cookies /content/data_for ML.xlsx --keep-session-cookies --no-check-certificate 'https://docs.google.com/uc?export=download&id=1etHu1_t0R9xs1rvE9HBSZrRK7en8Hgec' -O- | sed -rn 's/.*confirm=([0-9A-Za-z_]+).*/\\1\\n/p')&id=1etHu1_t0R9xs1rvE9HBSZrRK7en8Hgec\" -O 'data_for ML.xlsx' && rm -rf /content/data_for ML.xlsx"
   ]
  },
  {
   "cell_type": "code",
   "execution_count": 86,
   "metadata": {
    "executionInfo": {
     "elapsed": 5872,
     "status": "ok",
     "timestamp": 1709472909121,
     "user": {
      "displayName": "Rustem Khakimullin",
      "userId": "08101597593475196688"
     },
     "user_tz": -180
    },
    "id": "zjo9hi3D5COM"
   },
   "outputs": [],
   "source": [
    "df = pd.read_excel('/content/data_for ML.xlsx')"
   ]
  },
  {
   "cell_type": "code",
   "execution_count": 87,
   "metadata": {
    "executionInfo": {
     "elapsed": 31,
     "status": "ok",
     "timestamp": 1709472909122,
     "user": {
      "displayName": "Rustem Khakimullin",
      "userId": "08101597593475196688"
     },
     "user_tz": -180
    },
    "id": "zxjDyvCE5o-a"
   },
   "outputs": [],
   "source": [
    "#from google.colab import drive\n",
    "#drive.mount('/content/drive')"
   ]
  },
  {
   "cell_type": "code",
   "execution_count": 88,
   "metadata": {
    "colab": {
     "base_uri": "https://localhost:8080/",
     "height": 0
    },
    "executionInfo": {
     "elapsed": 30,
     "status": "ok",
     "timestamp": 1709472909122,
     "user": {
      "displayName": "Rustem Khakimullin",
      "userId": "08101597593475196688"
     },
     "user_tz": -180
    },
    "id": "PVWWzrYW5Cca",
    "outputId": "dd13678a-b7b0-4d55-8c6e-68d72c6a80f8"
   },
   "outputs": [
    {
     "data": {
      "application/vnd.google.colaboratory.intrinsic+json": {
       "summary": "{\n  \"name\": \"df\",\n  \"rows\": 35380,\n  \"fields\": [\n    {\n      \"column\": \"period\",\n      \"properties\": {\n        \"dtype\": \"date\",\n        \"min\": \"2019-03-31 00:00:00\",\n        \"max\": \"2022-06-30 00:00:00\",\n        \"num_unique_values\": 13,\n        \"samples\": [\n          \"2021-12-31 00:00:00\",\n          \"2021-06-30 00:00:00\",\n          \"2019-03-31 00:00:00\"\n        ],\n        \"semantic_type\": \"\",\n        \"description\": \"\"\n      }\n    },\n    {\n      \"column\": \"psk1\",\n      \"properties\": {\n        \"dtype\": \"number\",\n        \"std\": 15.317931045083315,\n        \"min\": 0.0,\n        \"max\": 518.923,\n        \"num_unique_values\": 1050,\n        \"samples\": [\n          73.531,\n          87.883,\n          84.725\n        ],\n        \"semantic_type\": \"\",\n        \"description\": \"\"\n      }\n    },\n    {\n      \"column\": \"sum1\",\n      \"properties\": {\n        \"dtype\": \"number\",\n        \"std\": 8049.4860927264435,\n        \"min\": 0.0,\n        \"max\": 526008.0,\n        \"num_unique_values\": 1140,\n        \"samples\": [\n          4857.0,\n          19342.0,\n          43538.0\n        ],\n        \"semantic_type\": \"\",\n        \"description\": \"\"\n      }\n    },\n    {\n      \"column\": \"number1\",\n      \"properties\": {\n        \"dtype\": \"number\",\n        \"std\": 17.599620234056573,\n        \"min\": 0.0,\n        \"max\": 2002.0,\n        \"num_unique_values\": 193,\n        \"samples\": [\n          21.0,\n          88.0,\n          38.0\n        ],\n        \"semantic_type\": \"\",\n        \"description\": \"\"\n      }\n    },\n    {\n      \"column\": \"psk2\",\n      \"properties\": {\n        \"dtype\": \"number\",\n        \"std\": 64.62166545810445,\n        \"min\": 0.0,\n        \"max\": 3297.132,\n        \"num_unique_values\": 17076,\n        \"samples\": [\n          141.022,\n          117.066,\n          100.274\n        ],\n        \"semantic_type\": \"\",\n        \"description\": \"\"\n      }\n    },\n    {\n      \"column\": \"sum2\",\n      \"properties\": {\n        \"dtype\": \"number\",\n        \"std\": 133269.5382471497,\n        \"min\": 0.0,\n        \"max\": 5418781.0,\n        \"num_unique_values\": 14281,\n        \"samples\": [\n          9826.0,\n          159247.0,\n          4036.0\n        ],\n        \"semantic_type\": \"\",\n        \"description\": \"\"\n      }\n    },\n    {\n      \"column\": \"number2\",\n      \"properties\": {\n        \"dtype\": \"number\",\n        \"std\": 12135.011531307076,\n        \"min\": 0.0,\n        \"max\": 634980.0,\n        \"num_unique_values\": 5649,\n        \"samples\": [\n          112.0,\n          4407.0,\n          60.0\n        ],\n        \"semantic_type\": \"\",\n        \"description\": \"\"\n      }\n    },\n    {\n      \"column\": \"portfolio_previous\",\n      \"properties\": {\n        \"dtype\": \"number\",\n        \"std\": 160789.75531720178,\n        \"min\": 0.0,\n        \"max\": 14538375.0,\n        \"num_unique_values\": 11891,\n        \"samples\": [\n          14661.0,\n          789.0,\n          5831.0\n        ],\n        \"semantic_type\": \"\",\n        \"description\": \"\"\n      }\n    },\n    {\n      \"column\": \"portfolio_current\",\n      \"properties\": {\n        \"dtype\": \"number\",\n        \"std\": 155376.8942782322,\n        \"min\": 0.0,\n        \"max\": 14538375.0,\n        \"num_unique_values\": 13245,\n        \"samples\": [\n          12015.0,\n          759.0,\n          8250.0\n        ],\n        \"semantic_type\": \"\",\n        \"description\": \"\"\n      }\n    }\n  ]\n}",
       "type": "dataframe",
       "variable_name": "df"
      },
      "text/html": [
       "\n",
       "  <div id=\"df-733ed001-2b33-4ef2-958a-4ad4c2ad3d40\" class=\"colab-df-container\">\n",
       "    <div>\n",
       "<style scoped>\n",
       "    .dataframe tbody tr th:only-of-type {\n",
       "        vertical-align: middle;\n",
       "    }\n",
       "\n",
       "    .dataframe tbody tr th {\n",
       "        vertical-align: top;\n",
       "    }\n",
       "\n",
       "    .dataframe thead th {\n",
       "        text-align: right;\n",
       "    }\n",
       "</style>\n",
       "<table border=\"1\" class=\"dataframe\">\n",
       "  <thead>\n",
       "    <tr style=\"text-align: right;\">\n",
       "      <th></th>\n",
       "      <th>period</th>\n",
       "      <th>psk1</th>\n",
       "      <th>sum1</th>\n",
       "      <th>number1</th>\n",
       "      <th>psk2</th>\n",
       "      <th>sum2</th>\n",
       "      <th>number2</th>\n",
       "      <th>portfolio_previous</th>\n",
       "      <th>portfolio_current</th>\n",
       "    </tr>\n",
       "  </thead>\n",
       "  <tbody>\n",
       "    <tr>\n",
       "      <th>0</th>\n",
       "      <td>2019-03-31</td>\n",
       "      <td>0.0</td>\n",
       "      <td>0.0</td>\n",
       "      <td>0.0</td>\n",
       "      <td>145.285</td>\n",
       "      <td>4165.0</td>\n",
       "      <td>642.0</td>\n",
       "      <td>NaN</td>\n",
       "      <td>4658.0</td>\n",
       "    </tr>\n",
       "    <tr>\n",
       "      <th>1</th>\n",
       "      <td>2019-03-31</td>\n",
       "      <td>0.0</td>\n",
       "      <td>0.0</td>\n",
       "      <td>0.0</td>\n",
       "      <td>106.396</td>\n",
       "      <td>8282.0</td>\n",
       "      <td>747.0</td>\n",
       "      <td>NaN</td>\n",
       "      <td>4255.0</td>\n",
       "    </tr>\n",
       "    <tr>\n",
       "      <th>2</th>\n",
       "      <td>2019-03-31</td>\n",
       "      <td>0.0</td>\n",
       "      <td>0.0</td>\n",
       "      <td>0.0</td>\n",
       "      <td>149.244</td>\n",
       "      <td>6528.0</td>\n",
       "      <td>905.0</td>\n",
       "      <td>NaN</td>\n",
       "      <td>4618.0</td>\n",
       "    </tr>\n",
       "    <tr>\n",
       "      <th>3</th>\n",
       "      <td>2019-03-31</td>\n",
       "      <td>0.0</td>\n",
       "      <td>0.0</td>\n",
       "      <td>0.0</td>\n",
       "      <td>146.000</td>\n",
       "      <td>1850.0</td>\n",
       "      <td>238.0</td>\n",
       "      <td>NaN</td>\n",
       "      <td>779.0</td>\n",
       "    </tr>\n",
       "    <tr>\n",
       "      <th>4</th>\n",
       "      <td>2019-03-31</td>\n",
       "      <td>0.0</td>\n",
       "      <td>0.0</td>\n",
       "      <td>0.0</td>\n",
       "      <td>150.689</td>\n",
       "      <td>15122.0</td>\n",
       "      <td>2505.0</td>\n",
       "      <td>NaN</td>\n",
       "      <td>14214.0</td>\n",
       "    </tr>\n",
       "  </tbody>\n",
       "</table>\n",
       "</div>\n",
       "    <div class=\"colab-df-buttons\">\n",
       "\n",
       "  <div class=\"colab-df-container\">\n",
       "    <button class=\"colab-df-convert\" onclick=\"convertToInteractive('df-733ed001-2b33-4ef2-958a-4ad4c2ad3d40')\"\n",
       "            title=\"Convert this dataframe to an interactive table.\"\n",
       "            style=\"display:none;\">\n",
       "\n",
       "  <svg xmlns=\"http://www.w3.org/2000/svg\" height=\"24px\" viewBox=\"0 -960 960 960\">\n",
       "    <path d=\"M120-120v-720h720v720H120Zm60-500h600v-160H180v160Zm220 220h160v-160H400v160Zm0 220h160v-160H400v160ZM180-400h160v-160H180v160Zm440 0h160v-160H620v160ZM180-180h160v-160H180v160Zm440 0h160v-160H620v160Z\"/>\n",
       "  </svg>\n",
       "    </button>\n",
       "\n",
       "  <style>\n",
       "    .colab-df-container {\n",
       "      display:flex;\n",
       "      gap: 12px;\n",
       "    }\n",
       "\n",
       "    .colab-df-convert {\n",
       "      background-color: #E8F0FE;\n",
       "      border: none;\n",
       "      border-radius: 50%;\n",
       "      cursor: pointer;\n",
       "      display: none;\n",
       "      fill: #1967D2;\n",
       "      height: 32px;\n",
       "      padding: 0 0 0 0;\n",
       "      width: 32px;\n",
       "    }\n",
       "\n",
       "    .colab-df-convert:hover {\n",
       "      background-color: #E2EBFA;\n",
       "      box-shadow: 0px 1px 2px rgba(60, 64, 67, 0.3), 0px 1px 3px 1px rgba(60, 64, 67, 0.15);\n",
       "      fill: #174EA6;\n",
       "    }\n",
       "\n",
       "    .colab-df-buttons div {\n",
       "      margin-bottom: 4px;\n",
       "    }\n",
       "\n",
       "    [theme=dark] .colab-df-convert {\n",
       "      background-color: #3B4455;\n",
       "      fill: #D2E3FC;\n",
       "    }\n",
       "\n",
       "    [theme=dark] .colab-df-convert:hover {\n",
       "      background-color: #434B5C;\n",
       "      box-shadow: 0px 1px 3px 1px rgba(0, 0, 0, 0.15);\n",
       "      filter: drop-shadow(0px 1px 2px rgba(0, 0, 0, 0.3));\n",
       "      fill: #FFFFFF;\n",
       "    }\n",
       "  </style>\n",
       "\n",
       "    <script>\n",
       "      const buttonEl =\n",
       "        document.querySelector('#df-733ed001-2b33-4ef2-958a-4ad4c2ad3d40 button.colab-df-convert');\n",
       "      buttonEl.style.display =\n",
       "        google.colab.kernel.accessAllowed ? 'block' : 'none';\n",
       "\n",
       "      async function convertToInteractive(key) {\n",
       "        const element = document.querySelector('#df-733ed001-2b33-4ef2-958a-4ad4c2ad3d40');\n",
       "        const dataTable =\n",
       "          await google.colab.kernel.invokeFunction('convertToInteractive',\n",
       "                                                    [key], {});\n",
       "        if (!dataTable) return;\n",
       "\n",
       "        const docLinkHtml = 'Like what you see? Visit the ' +\n",
       "          '<a target=\"_blank\" href=https://colab.research.google.com/notebooks/data_table.ipynb>data table notebook</a>'\n",
       "          + ' to learn more about interactive tables.';\n",
       "        element.innerHTML = '';\n",
       "        dataTable['output_type'] = 'display_data';\n",
       "        await google.colab.output.renderOutput(dataTable, element);\n",
       "        const docLink = document.createElement('div');\n",
       "        docLink.innerHTML = docLinkHtml;\n",
       "        element.appendChild(docLink);\n",
       "      }\n",
       "    </script>\n",
       "  </div>\n",
       "\n",
       "\n",
       "<div id=\"df-22fdff6c-b8a2-464e-bcfa-4def19e1f3f4\">\n",
       "  <button class=\"colab-df-quickchart\" onclick=\"quickchart('df-22fdff6c-b8a2-464e-bcfa-4def19e1f3f4')\"\n",
       "            title=\"Suggest charts\"\n",
       "            style=\"display:none;\">\n",
       "\n",
       "<svg xmlns=\"http://www.w3.org/2000/svg\" height=\"24px\"viewBox=\"0 0 24 24\"\n",
       "     width=\"24px\">\n",
       "    <g>\n",
       "        <path d=\"M19 3H5c-1.1 0-2 .9-2 2v14c0 1.1.9 2 2 2h14c1.1 0 2-.9 2-2V5c0-1.1-.9-2-2-2zM9 17H7v-7h2v7zm4 0h-2V7h2v10zm4 0h-2v-4h2v4z\"/>\n",
       "    </g>\n",
       "</svg>\n",
       "  </button>\n",
       "\n",
       "<style>\n",
       "  .colab-df-quickchart {\n",
       "      --bg-color: #E8F0FE;\n",
       "      --fill-color: #1967D2;\n",
       "      --hover-bg-color: #E2EBFA;\n",
       "      --hover-fill-color: #174EA6;\n",
       "      --disabled-fill-color: #AAA;\n",
       "      --disabled-bg-color: #DDD;\n",
       "  }\n",
       "\n",
       "  [theme=dark] .colab-df-quickchart {\n",
       "      --bg-color: #3B4455;\n",
       "      --fill-color: #D2E3FC;\n",
       "      --hover-bg-color: #434B5C;\n",
       "      --hover-fill-color: #FFFFFF;\n",
       "      --disabled-bg-color: #3B4455;\n",
       "      --disabled-fill-color: #666;\n",
       "  }\n",
       "\n",
       "  .colab-df-quickchart {\n",
       "    background-color: var(--bg-color);\n",
       "    border: none;\n",
       "    border-radius: 50%;\n",
       "    cursor: pointer;\n",
       "    display: none;\n",
       "    fill: var(--fill-color);\n",
       "    height: 32px;\n",
       "    padding: 0;\n",
       "    width: 32px;\n",
       "  }\n",
       "\n",
       "  .colab-df-quickchart:hover {\n",
       "    background-color: var(--hover-bg-color);\n",
       "    box-shadow: 0 1px 2px rgba(60, 64, 67, 0.3), 0 1px 3px 1px rgba(60, 64, 67, 0.15);\n",
       "    fill: var(--button-hover-fill-color);\n",
       "  }\n",
       "\n",
       "  .colab-df-quickchart-complete:disabled,\n",
       "  .colab-df-quickchart-complete:disabled:hover {\n",
       "    background-color: var(--disabled-bg-color);\n",
       "    fill: var(--disabled-fill-color);\n",
       "    box-shadow: none;\n",
       "  }\n",
       "\n",
       "  .colab-df-spinner {\n",
       "    border: 2px solid var(--fill-color);\n",
       "    border-color: transparent;\n",
       "    border-bottom-color: var(--fill-color);\n",
       "    animation:\n",
       "      spin 1s steps(1) infinite;\n",
       "  }\n",
       "\n",
       "  @keyframes spin {\n",
       "    0% {\n",
       "      border-color: transparent;\n",
       "      border-bottom-color: var(--fill-color);\n",
       "      border-left-color: var(--fill-color);\n",
       "    }\n",
       "    20% {\n",
       "      border-color: transparent;\n",
       "      border-left-color: var(--fill-color);\n",
       "      border-top-color: var(--fill-color);\n",
       "    }\n",
       "    30% {\n",
       "      border-color: transparent;\n",
       "      border-left-color: var(--fill-color);\n",
       "      border-top-color: var(--fill-color);\n",
       "      border-right-color: var(--fill-color);\n",
       "    }\n",
       "    40% {\n",
       "      border-color: transparent;\n",
       "      border-right-color: var(--fill-color);\n",
       "      border-top-color: var(--fill-color);\n",
       "    }\n",
       "    60% {\n",
       "      border-color: transparent;\n",
       "      border-right-color: var(--fill-color);\n",
       "    }\n",
       "    80% {\n",
       "      border-color: transparent;\n",
       "      border-right-color: var(--fill-color);\n",
       "      border-bottom-color: var(--fill-color);\n",
       "    }\n",
       "    90% {\n",
       "      border-color: transparent;\n",
       "      border-bottom-color: var(--fill-color);\n",
       "    }\n",
       "  }\n",
       "</style>\n",
       "\n",
       "  <script>\n",
       "    async function quickchart(key) {\n",
       "      const quickchartButtonEl =\n",
       "        document.querySelector('#' + key + ' button');\n",
       "      quickchartButtonEl.disabled = true;  // To prevent multiple clicks.\n",
       "      quickchartButtonEl.classList.add('colab-df-spinner');\n",
       "      try {\n",
       "        const charts = await google.colab.kernel.invokeFunction(\n",
       "            'suggestCharts', [key], {});\n",
       "      } catch (error) {\n",
       "        console.error('Error during call to suggestCharts:', error);\n",
       "      }\n",
       "      quickchartButtonEl.classList.remove('colab-df-spinner');\n",
       "      quickchartButtonEl.classList.add('colab-df-quickchart-complete');\n",
       "    }\n",
       "    (() => {\n",
       "      let quickchartButtonEl =\n",
       "        document.querySelector('#df-22fdff6c-b8a2-464e-bcfa-4def19e1f3f4 button');\n",
       "      quickchartButtonEl.style.display =\n",
       "        google.colab.kernel.accessAllowed ? 'block' : 'none';\n",
       "    })();\n",
       "  </script>\n",
       "</div>\n",
       "    </div>\n",
       "  </div>\n"
      ],
      "text/plain": [
       "      period  psk1  sum1  number1     psk2     sum2  number2  \\\n",
       "0 2019-03-31   0.0   0.0      0.0  145.285   4165.0    642.0   \n",
       "1 2019-03-31   0.0   0.0      0.0  106.396   8282.0    747.0   \n",
       "2 2019-03-31   0.0   0.0      0.0  149.244   6528.0    905.0   \n",
       "3 2019-03-31   0.0   0.0      0.0  146.000   1850.0    238.0   \n",
       "4 2019-03-31   0.0   0.0      0.0  150.689  15122.0   2505.0   \n",
       "\n",
       "   portfolio_previous  portfolio_current  \n",
       "0                 NaN             4658.0  \n",
       "1                 NaN             4255.0  \n",
       "2                 NaN             4618.0  \n",
       "3                 NaN              779.0  \n",
       "4                 NaN            14214.0  "
      ]
     },
     "execution_count": 88,
     "metadata": {},
     "output_type": "execute_result"
    }
   ],
   "source": [
    "df.head()"
   ]
  },
  {
   "cell_type": "code",
   "execution_count": 89,
   "metadata": {
    "colab": {
     "base_uri": "https://localhost:8080/"
    },
    "executionInfo": {
     "elapsed": 28,
     "status": "ok",
     "timestamp": 1709472909122,
     "user": {
      "displayName": "Rustem Khakimullin",
      "userId": "08101597593475196688"
     },
     "user_tz": -180
    },
    "id": "DNoVTL8w0f2U",
    "outputId": "50c89b9e-5ef0-469f-d146-fd027766b8cd"
   },
   "outputs": [
    {
     "data": {
      "text/plain": [
       "(35380, 9)"
      ]
     },
     "execution_count": 89,
     "metadata": {},
     "output_type": "execute_result"
    }
   ],
   "source": [
    "df.shape"
   ]
  },
  {
   "cell_type": "markdown",
   "metadata": {
    "id": "O7kbwAoSJ5r-"
   },
   "source": [
    ">>## **Работа с nan**"
   ]
  },
  {
   "cell_type": "code",
   "execution_count": 90,
   "metadata": {
    "colab": {
     "base_uri": "https://localhost:8080/"
    },
    "executionInfo": {
     "elapsed": 28,
     "status": "ok",
     "timestamp": 1709472909123,
     "user": {
      "displayName": "Rustem Khakimullin",
      "userId": "08101597593475196688"
     },
     "user_tz": -180
    },
    "id": "LZFC4ll65q83",
    "outputId": "ee69f373-ac51-4904-9903-8dfe202150e5"
   },
   "outputs": [
    {
     "data": {
      "text/plain": [
       "period                   0\n",
       "psk1                    71\n",
       "sum1                    71\n",
       "number1                 71\n",
       "psk2                    58\n",
       "sum2                    58\n",
       "number2                 58\n",
       "portfolio_previous    6225\n",
       "portfolio_current        3\n",
       "dtype: int64"
      ]
     },
     "execution_count": 90,
     "metadata": {},
     "output_type": "execute_result"
    }
   ],
   "source": [
    "df.isna().sum()"
   ]
  },
  {
   "cell_type": "markdown",
   "metadata": {
    "id": "jGUSzpV50B9I"
   },
   "source": [
    "Удаляю строки с пустым portfolio_previous, так как, думаю, что подстановка исказить результаты предсказания"
   ]
  },
  {
   "cell_type": "code",
   "execution_count": 91,
   "metadata": {
    "executionInfo": {
     "elapsed": 27,
     "status": "ok",
     "timestamp": 1709472909123,
     "user": {
      "displayName": "Rustem Khakimullin",
      "userId": "08101597593475196688"
     },
     "user_tz": -180
    },
    "id": "MmILE_IMu6VS"
   },
   "outputs": [],
   "source": [
    "df = df.dropna(subset=['portfolio_previous'])"
   ]
  },
  {
   "cell_type": "code",
   "execution_count": 92,
   "metadata": {
    "colab": {
     "base_uri": "https://localhost:8080/"
    },
    "executionInfo": {
     "elapsed": 27,
     "status": "ok",
     "timestamp": 1709472909123,
     "user": {
      "displayName": "Rustem Khakimullin",
      "userId": "08101597593475196688"
     },
     "user_tz": -180
    },
    "id": "k0_Z8acRzOCk",
    "outputId": "9213ad97-d7d4-4563-8fd0-2ade59133f77"
   },
   "outputs": [
    {
     "data": {
      "text/plain": [
       "period                 0\n",
       "psk1                  52\n",
       "sum1                  52\n",
       "number1               52\n",
       "psk2                  40\n",
       "sum2                  40\n",
       "number2               40\n",
       "portfolio_previous     0\n",
       "portfolio_current      0\n",
       "dtype: int64"
      ]
     },
     "execution_count": 92,
     "metadata": {},
     "output_type": "execute_result"
    }
   ],
   "source": [
    "df.isna().sum()"
   ]
  },
  {
   "cell_type": "code",
   "execution_count": 93,
   "metadata": {
    "colab": {
     "base_uri": "https://localhost:8080/"
    },
    "executionInfo": {
     "elapsed": 26,
     "status": "ok",
     "timestamp": 1709472909123,
     "user": {
      "displayName": "Rustem Khakimullin",
      "userId": "08101597593475196688"
     },
     "user_tz": -180
    },
    "id": "v_PpF0Dk26Gv",
    "outputId": "33415ce4-5021-47f6-bce5-d3403d33901f"
   },
   "outputs": [
    {
     "data": {
      "text/plain": [
       "(29155, 9)"
      ]
     },
     "execution_count": 93,
     "metadata": {},
     "output_type": "execute_result"
    }
   ],
   "source": [
    "df.shape"
   ]
  },
  {
   "cell_type": "code",
   "execution_count": 94,
   "metadata": {
    "colab": {
     "base_uri": "https://localhost:8080/"
    },
    "executionInfo": {
     "elapsed": 25,
     "status": "ok",
     "timestamp": 1709472909123,
     "user": {
      "displayName": "Rustem Khakimullin",
      "userId": "08101597593475196688"
     },
     "user_tz": -180
    },
    "id": "WBjsPeZYJ3s0",
    "outputId": "1fd8dd89-556d-4d05-d288-2735c02eaf28"
   },
   "outputs": [
    {
     "data": {
      "text/plain": [
       "period                 0\n",
       "psk1                  52\n",
       "sum1                  52\n",
       "number1               52\n",
       "psk2                  39\n",
       "sum2                  39\n",
       "number2               39\n",
       "portfolio_previous     0\n",
       "portfolio_current      0\n",
       "dtype: int64"
      ]
     },
     "execution_count": 94,
     "metadata": {},
     "output_type": "execute_result"
    }
   ],
   "source": [
    "df[df['psk1'].isna()].isna().sum()"
   ]
  },
  {
   "cell_type": "code",
   "execution_count": 95,
   "metadata": {
    "colab": {
     "base_uri": "https://localhost:8080/",
     "height": 0
    },
    "executionInfo": {
     "elapsed": 25,
     "status": "ok",
     "timestamp": 1709472909123,
     "user": {
      "displayName": "Rustem Khakimullin",
      "userId": "08101597593475196688"
     },
     "user_tz": -180
    },
    "id": "OXmHu7t5UVg4",
    "outputId": "439c256c-d655-4498-dc65-7c6be152aaf9"
   },
   "outputs": [
    {
     "data": {
      "application/vnd.google.colaboratory.intrinsic+json": {
       "summary": "{\n  \"name\": \"df[df['psk1']\",\n  \"rows\": 8,\n  \"fields\": [\n    {\n      \"column\": \"psk1\",\n      \"properties\": {\n        \"dtype\": \"number\",\n        \"std\": null,\n        \"min\": 0.0,\n        \"max\": 0.0,\n        \"num_unique_values\": 1,\n        \"samples\": [\n          0.0\n        ],\n        \"semantic_type\": \"\",\n        \"description\": \"\"\n      }\n    },\n    {\n      \"column\": \"sum1\",\n      \"properties\": {\n        \"dtype\": \"number\",\n        \"std\": null,\n        \"min\": 0.0,\n        \"max\": 0.0,\n        \"num_unique_values\": 1,\n        \"samples\": [\n          0.0\n        ],\n        \"semantic_type\": \"\",\n        \"description\": \"\"\n      }\n    },\n    {\n      \"column\": \"number1\",\n      \"properties\": {\n        \"dtype\": \"number\",\n        \"std\": null,\n        \"min\": 0.0,\n        \"max\": 0.0,\n        \"num_unique_values\": 1,\n        \"samples\": [\n          0.0\n        ],\n        \"semantic_type\": \"\",\n        \"description\": \"\"\n      }\n    },\n    {\n      \"column\": \"psk2\",\n      \"properties\": {\n        \"dtype\": \"number\",\n        \"std\": 54.68400483527226,\n        \"min\": 13.0,\n        \"max\": 143.0,\n        \"num_unique_values\": 8,\n        \"samples\": [\n          130.1386923076923\n        ],\n        \"semantic_type\": \"\",\n        \"description\": \"\"\n      }\n    },\n    {\n      \"column\": \"sum2\",\n      \"properties\": {\n        \"dtype\": \"number\",\n        \"std\": 146129.04636769922,\n        \"min\": 13.0,\n        \"max\": 420187.0,\n        \"num_unique_values\": 8,\n        \"samples\": [\n          34612.692307692305\n        ],\n        \"semantic_type\": \"\",\n        \"description\": \"\"\n      }\n    },\n    {\n      \"column\": \"number2\",\n      \"properties\": {\n        \"dtype\": \"number\",\n        \"std\": 4755.990849488925,\n        \"min\": 13.0,\n        \"max\": 13917.0,\n        \"num_unique_values\": 8,\n        \"samples\": [\n          1506.076923076923\n        ],\n        \"semantic_type\": \"\",\n        \"description\": \"\"\n      }\n    },\n    {\n      \"column\": \"portfolio_previous\",\n      \"properties\": {\n        \"dtype\": \"number\",\n        \"std\": 55445.68421107165,\n        \"min\": 0.0,\n        \"max\": 159651.0,\n        \"num_unique_values\": 7,\n        \"samples\": [\n          52.0\n        ],\n        \"semantic_type\": \"\",\n        \"description\": \"\"\n      }\n    },\n    {\n      \"column\": \"portfolio_current\",\n      \"properties\": {\n        \"dtype\": \"number\",\n        \"std\": 60698.186610417084,\n        \"min\": 0.0,\n        \"max\": 174227.0,\n        \"num_unique_values\": 6,\n        \"samples\": [\n          52.0\n        ],\n        \"semantic_type\": \"\",\n        \"description\": \"\"\n      }\n    }\n  ]\n}",
       "type": "dataframe"
      },
      "text/html": [
       "\n",
       "  <div id=\"df-d52d5c75-d9a7-42fa-a969-cfec01353cf9\" class=\"colab-df-container\">\n",
       "    <div>\n",
       "<style scoped>\n",
       "    .dataframe tbody tr th:only-of-type {\n",
       "        vertical-align: middle;\n",
       "    }\n",
       "\n",
       "    .dataframe tbody tr th {\n",
       "        vertical-align: top;\n",
       "    }\n",
       "\n",
       "    .dataframe thead th {\n",
       "        text-align: right;\n",
       "    }\n",
       "</style>\n",
       "<table border=\"1\" class=\"dataframe\">\n",
       "  <thead>\n",
       "    <tr style=\"text-align: right;\">\n",
       "      <th></th>\n",
       "      <th>psk1</th>\n",
       "      <th>sum1</th>\n",
       "      <th>number1</th>\n",
       "      <th>psk2</th>\n",
       "      <th>sum2</th>\n",
       "      <th>number2</th>\n",
       "      <th>portfolio_previous</th>\n",
       "      <th>portfolio_current</th>\n",
       "    </tr>\n",
       "  </thead>\n",
       "  <tbody>\n",
       "    <tr>\n",
       "      <th>count</th>\n",
       "      <td>0.0</td>\n",
       "      <td>0.0</td>\n",
       "      <td>0.0</td>\n",
       "      <td>13.000000</td>\n",
       "      <td>13.000000</td>\n",
       "      <td>13.000000</td>\n",
       "      <td>52.000000</td>\n",
       "      <td>52.000000</td>\n",
       "    </tr>\n",
       "    <tr>\n",
       "      <th>mean</th>\n",
       "      <td>NaN</td>\n",
       "      <td>NaN</td>\n",
       "      <td>NaN</td>\n",
       "      <td>130.138692</td>\n",
       "      <td>34612.692308</td>\n",
       "      <td>1506.076923</td>\n",
       "      <td>5130.057692</td>\n",
       "      <td>3999.557692</td>\n",
       "    </tr>\n",
       "    <tr>\n",
       "      <th>std</th>\n",
       "      <td>NaN</td>\n",
       "      <td>NaN</td>\n",
       "      <td>NaN</td>\n",
       "      <td>18.874444</td>\n",
       "      <td>115875.416964</td>\n",
       "      <td>3759.984563</td>\n",
       "      <td>22168.515935</td>\n",
       "      <td>24112.721424</td>\n",
       "    </tr>\n",
       "    <tr>\n",
       "      <th>min</th>\n",
       "      <td>NaN</td>\n",
       "      <td>NaN</td>\n",
       "      <td>NaN</td>\n",
       "      <td>78.518000</td>\n",
       "      <td>324.000000</td>\n",
       "      <td>68.000000</td>\n",
       "      <td>0.000000</td>\n",
       "      <td>0.000000</td>\n",
       "    </tr>\n",
       "    <tr>\n",
       "      <th>25%</th>\n",
       "      <td>NaN</td>\n",
       "      <td>NaN</td>\n",
       "      <td>NaN</td>\n",
       "      <td>120.670000</td>\n",
       "      <td>1073.000000</td>\n",
       "      <td>170.000000</td>\n",
       "      <td>0.000000</td>\n",
       "      <td>0.000000</td>\n",
       "    </tr>\n",
       "    <tr>\n",
       "      <th>50%</th>\n",
       "      <td>NaN</td>\n",
       "      <td>NaN</td>\n",
       "      <td>NaN</td>\n",
       "      <td>137.069000</td>\n",
       "      <td>2294.000000</td>\n",
       "      <td>317.000000</td>\n",
       "      <td>495.000000</td>\n",
       "      <td>0.000000</td>\n",
       "    </tr>\n",
       "    <tr>\n",
       "      <th>75%</th>\n",
       "      <td>NaN</td>\n",
       "      <td>NaN</td>\n",
       "      <td>NaN</td>\n",
       "      <td>142.371000</td>\n",
       "      <td>3370.000000</td>\n",
       "      <td>726.000000</td>\n",
       "      <td>2052.250000</td>\n",
       "      <td>848.500000</td>\n",
       "    </tr>\n",
       "    <tr>\n",
       "      <th>max</th>\n",
       "      <td>NaN</td>\n",
       "      <td>NaN</td>\n",
       "      <td>NaN</td>\n",
       "      <td>143.000000</td>\n",
       "      <td>420187.000000</td>\n",
       "      <td>13917.000000</td>\n",
       "      <td>159651.000000</td>\n",
       "      <td>174227.000000</td>\n",
       "    </tr>\n",
       "  </tbody>\n",
       "</table>\n",
       "</div>\n",
       "    <div class=\"colab-df-buttons\">\n",
       "\n",
       "  <div class=\"colab-df-container\">\n",
       "    <button class=\"colab-df-convert\" onclick=\"convertToInteractive('df-d52d5c75-d9a7-42fa-a969-cfec01353cf9')\"\n",
       "            title=\"Convert this dataframe to an interactive table.\"\n",
       "            style=\"display:none;\">\n",
       "\n",
       "  <svg xmlns=\"http://www.w3.org/2000/svg\" height=\"24px\" viewBox=\"0 -960 960 960\">\n",
       "    <path d=\"M120-120v-720h720v720H120Zm60-500h600v-160H180v160Zm220 220h160v-160H400v160Zm0 220h160v-160H400v160ZM180-400h160v-160H180v160Zm440 0h160v-160H620v160ZM180-180h160v-160H180v160Zm440 0h160v-160H620v160Z\"/>\n",
       "  </svg>\n",
       "    </button>\n",
       "\n",
       "  <style>\n",
       "    .colab-df-container {\n",
       "      display:flex;\n",
       "      gap: 12px;\n",
       "    }\n",
       "\n",
       "    .colab-df-convert {\n",
       "      background-color: #E8F0FE;\n",
       "      border: none;\n",
       "      border-radius: 50%;\n",
       "      cursor: pointer;\n",
       "      display: none;\n",
       "      fill: #1967D2;\n",
       "      height: 32px;\n",
       "      padding: 0 0 0 0;\n",
       "      width: 32px;\n",
       "    }\n",
       "\n",
       "    .colab-df-convert:hover {\n",
       "      background-color: #E2EBFA;\n",
       "      box-shadow: 0px 1px 2px rgba(60, 64, 67, 0.3), 0px 1px 3px 1px rgba(60, 64, 67, 0.15);\n",
       "      fill: #174EA6;\n",
       "    }\n",
       "\n",
       "    .colab-df-buttons div {\n",
       "      margin-bottom: 4px;\n",
       "    }\n",
       "\n",
       "    [theme=dark] .colab-df-convert {\n",
       "      background-color: #3B4455;\n",
       "      fill: #D2E3FC;\n",
       "    }\n",
       "\n",
       "    [theme=dark] .colab-df-convert:hover {\n",
       "      background-color: #434B5C;\n",
       "      box-shadow: 0px 1px 3px 1px rgba(0, 0, 0, 0.15);\n",
       "      filter: drop-shadow(0px 1px 2px rgba(0, 0, 0, 0.3));\n",
       "      fill: #FFFFFF;\n",
       "    }\n",
       "  </style>\n",
       "\n",
       "    <script>\n",
       "      const buttonEl =\n",
       "        document.querySelector('#df-d52d5c75-d9a7-42fa-a969-cfec01353cf9 button.colab-df-convert');\n",
       "      buttonEl.style.display =\n",
       "        google.colab.kernel.accessAllowed ? 'block' : 'none';\n",
       "\n",
       "      async function convertToInteractive(key) {\n",
       "        const element = document.querySelector('#df-d52d5c75-d9a7-42fa-a969-cfec01353cf9');\n",
       "        const dataTable =\n",
       "          await google.colab.kernel.invokeFunction('convertToInteractive',\n",
       "                                                    [key], {});\n",
       "        if (!dataTable) return;\n",
       "\n",
       "        const docLinkHtml = 'Like what you see? Visit the ' +\n",
       "          '<a target=\"_blank\" href=https://colab.research.google.com/notebooks/data_table.ipynb>data table notebook</a>'\n",
       "          + ' to learn more about interactive tables.';\n",
       "        element.innerHTML = '';\n",
       "        dataTable['output_type'] = 'display_data';\n",
       "        await google.colab.output.renderOutput(dataTable, element);\n",
       "        const docLink = document.createElement('div');\n",
       "        docLink.innerHTML = docLinkHtml;\n",
       "        element.appendChild(docLink);\n",
       "      }\n",
       "    </script>\n",
       "  </div>\n",
       "\n",
       "\n",
       "<div id=\"df-68321ea6-8443-4eee-b94d-ad70fff6b318\">\n",
       "  <button class=\"colab-df-quickchart\" onclick=\"quickchart('df-68321ea6-8443-4eee-b94d-ad70fff6b318')\"\n",
       "            title=\"Suggest charts\"\n",
       "            style=\"display:none;\">\n",
       "\n",
       "<svg xmlns=\"http://www.w3.org/2000/svg\" height=\"24px\"viewBox=\"0 0 24 24\"\n",
       "     width=\"24px\">\n",
       "    <g>\n",
       "        <path d=\"M19 3H5c-1.1 0-2 .9-2 2v14c0 1.1.9 2 2 2h14c1.1 0 2-.9 2-2V5c0-1.1-.9-2-2-2zM9 17H7v-7h2v7zm4 0h-2V7h2v10zm4 0h-2v-4h2v4z\"/>\n",
       "    </g>\n",
       "</svg>\n",
       "  </button>\n",
       "\n",
       "<style>\n",
       "  .colab-df-quickchart {\n",
       "      --bg-color: #E8F0FE;\n",
       "      --fill-color: #1967D2;\n",
       "      --hover-bg-color: #E2EBFA;\n",
       "      --hover-fill-color: #174EA6;\n",
       "      --disabled-fill-color: #AAA;\n",
       "      --disabled-bg-color: #DDD;\n",
       "  }\n",
       "\n",
       "  [theme=dark] .colab-df-quickchart {\n",
       "      --bg-color: #3B4455;\n",
       "      --fill-color: #D2E3FC;\n",
       "      --hover-bg-color: #434B5C;\n",
       "      --hover-fill-color: #FFFFFF;\n",
       "      --disabled-bg-color: #3B4455;\n",
       "      --disabled-fill-color: #666;\n",
       "  }\n",
       "\n",
       "  .colab-df-quickchart {\n",
       "    background-color: var(--bg-color);\n",
       "    border: none;\n",
       "    border-radius: 50%;\n",
       "    cursor: pointer;\n",
       "    display: none;\n",
       "    fill: var(--fill-color);\n",
       "    height: 32px;\n",
       "    padding: 0;\n",
       "    width: 32px;\n",
       "  }\n",
       "\n",
       "  .colab-df-quickchart:hover {\n",
       "    background-color: var(--hover-bg-color);\n",
       "    box-shadow: 0 1px 2px rgba(60, 64, 67, 0.3), 0 1px 3px 1px rgba(60, 64, 67, 0.15);\n",
       "    fill: var(--button-hover-fill-color);\n",
       "  }\n",
       "\n",
       "  .colab-df-quickchart-complete:disabled,\n",
       "  .colab-df-quickchart-complete:disabled:hover {\n",
       "    background-color: var(--disabled-bg-color);\n",
       "    fill: var(--disabled-fill-color);\n",
       "    box-shadow: none;\n",
       "  }\n",
       "\n",
       "  .colab-df-spinner {\n",
       "    border: 2px solid var(--fill-color);\n",
       "    border-color: transparent;\n",
       "    border-bottom-color: var(--fill-color);\n",
       "    animation:\n",
       "      spin 1s steps(1) infinite;\n",
       "  }\n",
       "\n",
       "  @keyframes spin {\n",
       "    0% {\n",
       "      border-color: transparent;\n",
       "      border-bottom-color: var(--fill-color);\n",
       "      border-left-color: var(--fill-color);\n",
       "    }\n",
       "    20% {\n",
       "      border-color: transparent;\n",
       "      border-left-color: var(--fill-color);\n",
       "      border-top-color: var(--fill-color);\n",
       "    }\n",
       "    30% {\n",
       "      border-color: transparent;\n",
       "      border-left-color: var(--fill-color);\n",
       "      border-top-color: var(--fill-color);\n",
       "      border-right-color: var(--fill-color);\n",
       "    }\n",
       "    40% {\n",
       "      border-color: transparent;\n",
       "      border-right-color: var(--fill-color);\n",
       "      border-top-color: var(--fill-color);\n",
       "    }\n",
       "    60% {\n",
       "      border-color: transparent;\n",
       "      border-right-color: var(--fill-color);\n",
       "    }\n",
       "    80% {\n",
       "      border-color: transparent;\n",
       "      border-right-color: var(--fill-color);\n",
       "      border-bottom-color: var(--fill-color);\n",
       "    }\n",
       "    90% {\n",
       "      border-color: transparent;\n",
       "      border-bottom-color: var(--fill-color);\n",
       "    }\n",
       "  }\n",
       "</style>\n",
       "\n",
       "  <script>\n",
       "    async function quickchart(key) {\n",
       "      const quickchartButtonEl =\n",
       "        document.querySelector('#' + key + ' button');\n",
       "      quickchartButtonEl.disabled = true;  // To prevent multiple clicks.\n",
       "      quickchartButtonEl.classList.add('colab-df-spinner');\n",
       "      try {\n",
       "        const charts = await google.colab.kernel.invokeFunction(\n",
       "            'suggestCharts', [key], {});\n",
       "      } catch (error) {\n",
       "        console.error('Error during call to suggestCharts:', error);\n",
       "      }\n",
       "      quickchartButtonEl.classList.remove('colab-df-spinner');\n",
       "      quickchartButtonEl.classList.add('colab-df-quickchart-complete');\n",
       "    }\n",
       "    (() => {\n",
       "      let quickchartButtonEl =\n",
       "        document.querySelector('#df-68321ea6-8443-4eee-b94d-ad70fff6b318 button');\n",
       "      quickchartButtonEl.style.display =\n",
       "        google.colab.kernel.accessAllowed ? 'block' : 'none';\n",
       "    })();\n",
       "  </script>\n",
       "</div>\n",
       "    </div>\n",
       "  </div>\n"
      ],
      "text/plain": [
       "       psk1  sum1  number1        psk2           sum2       number2  \\\n",
       "count   0.0   0.0      0.0   13.000000      13.000000     13.000000   \n",
       "mean    NaN   NaN      NaN  130.138692   34612.692308   1506.076923   \n",
       "std     NaN   NaN      NaN   18.874444  115875.416964   3759.984563   \n",
       "min     NaN   NaN      NaN   78.518000     324.000000     68.000000   \n",
       "25%     NaN   NaN      NaN  120.670000    1073.000000    170.000000   \n",
       "50%     NaN   NaN      NaN  137.069000    2294.000000    317.000000   \n",
       "75%     NaN   NaN      NaN  142.371000    3370.000000    726.000000   \n",
       "max     NaN   NaN      NaN  143.000000  420187.000000  13917.000000   \n",
       "\n",
       "       portfolio_previous  portfolio_current  \n",
       "count           52.000000          52.000000  \n",
       "mean          5130.057692        3999.557692  \n",
       "std          22168.515935       24112.721424  \n",
       "min              0.000000           0.000000  \n",
       "25%              0.000000           0.000000  \n",
       "50%            495.000000           0.000000  \n",
       "75%           2052.250000         848.500000  \n",
       "max         159651.000000      174227.000000  "
      ]
     },
     "execution_count": 95,
     "metadata": {},
     "output_type": "execute_result"
    }
   ],
   "source": [
    "df[df['psk1'].isna()].describe()"
   ]
  },
  {
   "cell_type": "code",
   "execution_count": 96,
   "metadata": {
    "colab": {
     "base_uri": "https://localhost:8080/",
     "height": 0
    },
    "executionInfo": {
     "elapsed": 24,
     "status": "ok",
     "timestamp": 1709472909123,
     "user": {
      "displayName": "Rustem Khakimullin",
      "userId": "08101597593475196688"
     },
     "user_tz": -180
    },
    "id": "H_szlqMfUqUM",
    "outputId": "6be8866e-feba-49ef-b537-4d511b6883e4"
   },
   "outputs": [
    {
     "data": {
      "application/vnd.google.colaboratory.intrinsic+json": {
       "summary": "{\n  \"name\": \"df[(df['psk1']\",\n  \"rows\": 13,\n  \"fields\": [\n    {\n      \"column\": \"period\",\n      \"properties\": {\n        \"dtype\": \"date\",\n        \"min\": \"2019-12-31 00:00:00\",\n        \"max\": \"2020-03-31 00:00:00\",\n        \"num_unique_values\": 2,\n        \"samples\": [\n          \"2020-03-31 00:00:00\",\n          \"2019-12-31 00:00:00\"\n        ],\n        \"semantic_type\": \"\",\n        \"description\": \"\"\n      }\n    },\n    {\n      \"column\": \"psk1\",\n      \"properties\": {\n        \"dtype\": \"number\",\n        \"std\": null,\n        \"min\": null,\n        \"max\": null,\n        \"num_unique_values\": 0,\n        \"samples\": [],\n        \"semantic_type\": \"\",\n        \"description\": \"\"\n      }\n    },\n    {\n      \"column\": \"sum1\",\n      \"properties\": {\n        \"dtype\": \"number\",\n        \"std\": null,\n        \"min\": null,\n        \"max\": null,\n        \"num_unique_values\": 0,\n        \"samples\": [],\n        \"semantic_type\": \"\",\n        \"description\": \"\"\n      }\n    },\n    {\n      \"column\": \"number1\",\n      \"properties\": {\n        \"dtype\": \"number\",\n        \"std\": null,\n        \"min\": null,\n        \"max\": null,\n        \"num_unique_values\": 0,\n        \"samples\": [],\n        \"semantic_type\": \"\",\n        \"description\": \"\"\n      }\n    },\n    {\n      \"column\": \"psk2\",\n      \"properties\": {\n        \"dtype\": \"number\",\n        \"std\": 18.874443936112023,\n        \"min\": 78.518,\n        \"max\": 143.0,\n        \"num_unique_values\": 13,\n        \"samples\": [],\n        \"semantic_type\": \"\",\n        \"description\": \"\"\n      }\n    },\n    {\n      \"column\": \"sum2\",\n      \"properties\": {\n        \"dtype\": \"number\",\n        \"std\": 115875.41696392771,\n        \"min\": 324.0,\n        \"max\": 420187.0,\n        \"num_unique_values\": 13,\n        \"samples\": [],\n        \"semantic_type\": \"\",\n        \"description\": \"\"\n      }\n    },\n    {\n      \"column\": \"number2\",\n      \"properties\": {\n        \"dtype\": \"number\",\n        \"std\": 3759.984562502406,\n        \"min\": 68.0,\n        \"max\": 13917.0,\n        \"num_unique_values\": 13,\n        \"samples\": [],\n        \"semantic_type\": \"\",\n        \"description\": \"\"\n      }\n    },\n    {\n      \"column\": \"portfolio_previous\",\n      \"properties\": {\n        \"dtype\": \"number\",\n        \"std\": 43925.82438903577,\n        \"min\": 269.0,\n        \"max\": 159651.0,\n        \"num_unique_values\": 13,\n        \"samples\": [],\n        \"semantic_type\": \"\",\n        \"description\": \"\"\n      }\n    },\n    {\n      \"column\": \"portfolio_current\",\n      \"properties\": {\n        \"dtype\": \"number\",\n        \"std\": 48016.12373356929,\n        \"min\": 245.0,\n        \"max\": 174227.0,\n        \"num_unique_values\": 13,\n        \"samples\": [],\n        \"semantic_type\": \"\",\n        \"description\": \"\"\n      }\n    }\n  ]\n}",
       "type": "dataframe"
      },
      "text/html": [
       "\n",
       "  <div id=\"df-dc6097d7-eb51-4ad6-9552-bee622a33fd0\" class=\"colab-df-container\">\n",
       "    <div>\n",
       "<style scoped>\n",
       "    .dataframe tbody tr th:only-of-type {\n",
       "        vertical-align: middle;\n",
       "    }\n",
       "\n",
       "    .dataframe tbody tr th {\n",
       "        vertical-align: top;\n",
       "    }\n",
       "\n",
       "    .dataframe thead th {\n",
       "        text-align: right;\n",
       "    }\n",
       "</style>\n",
       "<table border=\"1\" class=\"dataframe\">\n",
       "  <thead>\n",
       "    <tr style=\"text-align: right;\">\n",
       "      <th></th>\n",
       "      <th>period</th>\n",
       "      <th>psk1</th>\n",
       "      <th>sum1</th>\n",
       "      <th>number1</th>\n",
       "      <th>psk2</th>\n",
       "      <th>sum2</th>\n",
       "      <th>number2</th>\n",
       "      <th>portfolio_previous</th>\n",
       "      <th>portfolio_current</th>\n",
       "    </tr>\n",
       "  </thead>\n",
       "  <tbody>\n",
       "    <tr>\n",
       "      <th>11556</th>\n",
       "      <td>2019-12-31</td>\n",
       "      <td>NaN</td>\n",
       "      <td>NaN</td>\n",
       "      <td>NaN</td>\n",
       "      <td>78.518</td>\n",
       "      <td>700.0</td>\n",
       "      <td>124.0</td>\n",
       "      <td>2724.0</td>\n",
       "      <td>519.0</td>\n",
       "    </tr>\n",
       "    <tr>\n",
       "      <th>12628</th>\n",
       "      <td>2020-03-31</td>\n",
       "      <td>NaN</td>\n",
       "      <td>NaN</td>\n",
       "      <td>NaN</td>\n",
       "      <td>136.880</td>\n",
       "      <td>420187.0</td>\n",
       "      <td>13917.0</td>\n",
       "      <td>159651.0</td>\n",
       "      <td>174227.0</td>\n",
       "    </tr>\n",
       "    <tr>\n",
       "      <th>13416</th>\n",
       "      <td>2020-03-31</td>\n",
       "      <td>NaN</td>\n",
       "      <td>NaN</td>\n",
       "      <td>NaN</td>\n",
       "      <td>142.715</td>\n",
       "      <td>9608.0</td>\n",
       "      <td>1856.0</td>\n",
       "      <td>4296.0</td>\n",
       "      <td>4328.0</td>\n",
       "    </tr>\n",
       "    <tr>\n",
       "      <th>13968</th>\n",
       "      <td>2020-03-31</td>\n",
       "      <td>NaN</td>\n",
       "      <td>NaN</td>\n",
       "      <td>NaN</td>\n",
       "      <td>132.705</td>\n",
       "      <td>3286.0</td>\n",
       "      <td>726.0</td>\n",
       "      <td>2015.0</td>\n",
       "      <td>1599.0</td>\n",
       "    </tr>\n",
       "    <tr>\n",
       "      <th>14110</th>\n",
       "      <td>2020-03-31</td>\n",
       "      <td>NaN</td>\n",
       "      <td>NaN</td>\n",
       "      <td>NaN</td>\n",
       "      <td>137.069</td>\n",
       "      <td>3434.0</td>\n",
       "      <td>538.0</td>\n",
       "      <td>1040.0</td>\n",
       "      <td>1172.0</td>\n",
       "    </tr>\n",
       "    <tr>\n",
       "      <th>14111</th>\n",
       "      <td>2020-03-31</td>\n",
       "      <td>NaN</td>\n",
       "      <td>NaN</td>\n",
       "      <td>NaN</td>\n",
       "      <td>143.000</td>\n",
       "      <td>3370.0</td>\n",
       "      <td>875.0</td>\n",
       "      <td>1166.0</td>\n",
       "      <td>1170.0</td>\n",
       "    </tr>\n",
       "    <tr>\n",
       "      <th>14121</th>\n",
       "      <td>2020-03-31</td>\n",
       "      <td>NaN</td>\n",
       "      <td>NaN</td>\n",
       "      <td>NaN</td>\n",
       "      <td>142.350</td>\n",
       "      <td>1311.0</td>\n",
       "      <td>268.0</td>\n",
       "      <td>1056.0</td>\n",
       "      <td>1157.0</td>\n",
       "    </tr>\n",
       "    <tr>\n",
       "      <th>14199</th>\n",
       "      <td>2020-03-31</td>\n",
       "      <td>NaN</td>\n",
       "      <td>NaN</td>\n",
       "      <td>NaN</td>\n",
       "      <td>142.587</td>\n",
       "      <td>2294.0</td>\n",
       "      <td>388.0</td>\n",
       "      <td>975.0</td>\n",
       "      <td>949.0</td>\n",
       "    </tr>\n",
       "    <tr>\n",
       "      <th>14252</th>\n",
       "      <td>2020-03-31</td>\n",
       "      <td>NaN</td>\n",
       "      <td>NaN</td>\n",
       "      <td>NaN</td>\n",
       "      <td>142.318</td>\n",
       "      <td>2336.0</td>\n",
       "      <td>317.0</td>\n",
       "      <td>738.0</td>\n",
       "      <td>815.0</td>\n",
       "    </tr>\n",
       "    <tr>\n",
       "      <th>14302</th>\n",
       "      <td>2020-03-31</td>\n",
       "      <td>NaN</td>\n",
       "      <td>NaN</td>\n",
       "      <td>NaN</td>\n",
       "      <td>110.060</td>\n",
       "      <td>1339.0</td>\n",
       "      <td>68.0</td>\n",
       "      <td>826.0</td>\n",
       "      <td>711.0</td>\n",
       "    </tr>\n",
       "    <tr>\n",
       "      <th>14359</th>\n",
       "      <td>2020-03-31</td>\n",
       "      <td>NaN</td>\n",
       "      <td>NaN</td>\n",
       "      <td>NaN</td>\n",
       "      <td>120.560</td>\n",
       "      <td>703.0</td>\n",
       "      <td>184.0</td>\n",
       "      <td>298.0</td>\n",
       "      <td>627.0</td>\n",
       "    </tr>\n",
       "    <tr>\n",
       "      <th>14517</th>\n",
       "      <td>2020-03-31</td>\n",
       "      <td>NaN</td>\n",
       "      <td>NaN</td>\n",
       "      <td>NaN</td>\n",
       "      <td>142.371</td>\n",
       "      <td>1073.0</td>\n",
       "      <td>170.0</td>\n",
       "      <td>503.0</td>\n",
       "      <td>413.0</td>\n",
       "    </tr>\n",
       "    <tr>\n",
       "      <th>14666</th>\n",
       "      <td>2020-03-31</td>\n",
       "      <td>NaN</td>\n",
       "      <td>NaN</td>\n",
       "      <td>NaN</td>\n",
       "      <td>120.670</td>\n",
       "      <td>324.0</td>\n",
       "      <td>148.0</td>\n",
       "      <td>269.0</td>\n",
       "      <td>245.0</td>\n",
       "    </tr>\n",
       "  </tbody>\n",
       "</table>\n",
       "</div>\n",
       "    <div class=\"colab-df-buttons\">\n",
       "\n",
       "  <div class=\"colab-df-container\">\n",
       "    <button class=\"colab-df-convert\" onclick=\"convertToInteractive('df-dc6097d7-eb51-4ad6-9552-bee622a33fd0')\"\n",
       "            title=\"Convert this dataframe to an interactive table.\"\n",
       "            style=\"display:none;\">\n",
       "\n",
       "  <svg xmlns=\"http://www.w3.org/2000/svg\" height=\"24px\" viewBox=\"0 -960 960 960\">\n",
       "    <path d=\"M120-120v-720h720v720H120Zm60-500h600v-160H180v160Zm220 220h160v-160H400v160Zm0 220h160v-160H400v160ZM180-400h160v-160H180v160Zm440 0h160v-160H620v160ZM180-180h160v-160H180v160Zm440 0h160v-160H620v160Z\"/>\n",
       "  </svg>\n",
       "    </button>\n",
       "\n",
       "  <style>\n",
       "    .colab-df-container {\n",
       "      display:flex;\n",
       "      gap: 12px;\n",
       "    }\n",
       "\n",
       "    .colab-df-convert {\n",
       "      background-color: #E8F0FE;\n",
       "      border: none;\n",
       "      border-radius: 50%;\n",
       "      cursor: pointer;\n",
       "      display: none;\n",
       "      fill: #1967D2;\n",
       "      height: 32px;\n",
       "      padding: 0 0 0 0;\n",
       "      width: 32px;\n",
       "    }\n",
       "\n",
       "    .colab-df-convert:hover {\n",
       "      background-color: #E2EBFA;\n",
       "      box-shadow: 0px 1px 2px rgba(60, 64, 67, 0.3), 0px 1px 3px 1px rgba(60, 64, 67, 0.15);\n",
       "      fill: #174EA6;\n",
       "    }\n",
       "\n",
       "    .colab-df-buttons div {\n",
       "      margin-bottom: 4px;\n",
       "    }\n",
       "\n",
       "    [theme=dark] .colab-df-convert {\n",
       "      background-color: #3B4455;\n",
       "      fill: #D2E3FC;\n",
       "    }\n",
       "\n",
       "    [theme=dark] .colab-df-convert:hover {\n",
       "      background-color: #434B5C;\n",
       "      box-shadow: 0px 1px 3px 1px rgba(0, 0, 0, 0.15);\n",
       "      filter: drop-shadow(0px 1px 2px rgba(0, 0, 0, 0.3));\n",
       "      fill: #FFFFFF;\n",
       "    }\n",
       "  </style>\n",
       "\n",
       "    <script>\n",
       "      const buttonEl =\n",
       "        document.querySelector('#df-dc6097d7-eb51-4ad6-9552-bee622a33fd0 button.colab-df-convert');\n",
       "      buttonEl.style.display =\n",
       "        google.colab.kernel.accessAllowed ? 'block' : 'none';\n",
       "\n",
       "      async function convertToInteractive(key) {\n",
       "        const element = document.querySelector('#df-dc6097d7-eb51-4ad6-9552-bee622a33fd0');\n",
       "        const dataTable =\n",
       "          await google.colab.kernel.invokeFunction('convertToInteractive',\n",
       "                                                    [key], {});\n",
       "        if (!dataTable) return;\n",
       "\n",
       "        const docLinkHtml = 'Like what you see? Visit the ' +\n",
       "          '<a target=\"_blank\" href=https://colab.research.google.com/notebooks/data_table.ipynb>data table notebook</a>'\n",
       "          + ' to learn more about interactive tables.';\n",
       "        element.innerHTML = '';\n",
       "        dataTable['output_type'] = 'display_data';\n",
       "        await google.colab.output.renderOutput(dataTable, element);\n",
       "        const docLink = document.createElement('div');\n",
       "        docLink.innerHTML = docLinkHtml;\n",
       "        element.appendChild(docLink);\n",
       "      }\n",
       "    </script>\n",
       "  </div>\n",
       "\n",
       "\n",
       "<div id=\"df-aa560afa-ee66-4b75-8278-c93609842f3c\">\n",
       "  <button class=\"colab-df-quickchart\" onclick=\"quickchart('df-aa560afa-ee66-4b75-8278-c93609842f3c')\"\n",
       "            title=\"Suggest charts\"\n",
       "            style=\"display:none;\">\n",
       "\n",
       "<svg xmlns=\"http://www.w3.org/2000/svg\" height=\"24px\"viewBox=\"0 0 24 24\"\n",
       "     width=\"24px\">\n",
       "    <g>\n",
       "        <path d=\"M19 3H5c-1.1 0-2 .9-2 2v14c0 1.1.9 2 2 2h14c1.1 0 2-.9 2-2V5c0-1.1-.9-2-2-2zM9 17H7v-7h2v7zm4 0h-2V7h2v10zm4 0h-2v-4h2v4z\"/>\n",
       "    </g>\n",
       "</svg>\n",
       "  </button>\n",
       "\n",
       "<style>\n",
       "  .colab-df-quickchart {\n",
       "      --bg-color: #E8F0FE;\n",
       "      --fill-color: #1967D2;\n",
       "      --hover-bg-color: #E2EBFA;\n",
       "      --hover-fill-color: #174EA6;\n",
       "      --disabled-fill-color: #AAA;\n",
       "      --disabled-bg-color: #DDD;\n",
       "  }\n",
       "\n",
       "  [theme=dark] .colab-df-quickchart {\n",
       "      --bg-color: #3B4455;\n",
       "      --fill-color: #D2E3FC;\n",
       "      --hover-bg-color: #434B5C;\n",
       "      --hover-fill-color: #FFFFFF;\n",
       "      --disabled-bg-color: #3B4455;\n",
       "      --disabled-fill-color: #666;\n",
       "  }\n",
       "\n",
       "  .colab-df-quickchart {\n",
       "    background-color: var(--bg-color);\n",
       "    border: none;\n",
       "    border-radius: 50%;\n",
       "    cursor: pointer;\n",
       "    display: none;\n",
       "    fill: var(--fill-color);\n",
       "    height: 32px;\n",
       "    padding: 0;\n",
       "    width: 32px;\n",
       "  }\n",
       "\n",
       "  .colab-df-quickchart:hover {\n",
       "    background-color: var(--hover-bg-color);\n",
       "    box-shadow: 0 1px 2px rgba(60, 64, 67, 0.3), 0 1px 3px 1px rgba(60, 64, 67, 0.15);\n",
       "    fill: var(--button-hover-fill-color);\n",
       "  }\n",
       "\n",
       "  .colab-df-quickchart-complete:disabled,\n",
       "  .colab-df-quickchart-complete:disabled:hover {\n",
       "    background-color: var(--disabled-bg-color);\n",
       "    fill: var(--disabled-fill-color);\n",
       "    box-shadow: none;\n",
       "  }\n",
       "\n",
       "  .colab-df-spinner {\n",
       "    border: 2px solid var(--fill-color);\n",
       "    border-color: transparent;\n",
       "    border-bottom-color: var(--fill-color);\n",
       "    animation:\n",
       "      spin 1s steps(1) infinite;\n",
       "  }\n",
       "\n",
       "  @keyframes spin {\n",
       "    0% {\n",
       "      border-color: transparent;\n",
       "      border-bottom-color: var(--fill-color);\n",
       "      border-left-color: var(--fill-color);\n",
       "    }\n",
       "    20% {\n",
       "      border-color: transparent;\n",
       "      border-left-color: var(--fill-color);\n",
       "      border-top-color: var(--fill-color);\n",
       "    }\n",
       "    30% {\n",
       "      border-color: transparent;\n",
       "      border-left-color: var(--fill-color);\n",
       "      border-top-color: var(--fill-color);\n",
       "      border-right-color: var(--fill-color);\n",
       "    }\n",
       "    40% {\n",
       "      border-color: transparent;\n",
       "      border-right-color: var(--fill-color);\n",
       "      border-top-color: var(--fill-color);\n",
       "    }\n",
       "    60% {\n",
       "      border-color: transparent;\n",
       "      border-right-color: var(--fill-color);\n",
       "    }\n",
       "    80% {\n",
       "      border-color: transparent;\n",
       "      border-right-color: var(--fill-color);\n",
       "      border-bottom-color: var(--fill-color);\n",
       "    }\n",
       "    90% {\n",
       "      border-color: transparent;\n",
       "      border-bottom-color: var(--fill-color);\n",
       "    }\n",
       "  }\n",
       "</style>\n",
       "\n",
       "  <script>\n",
       "    async function quickchart(key) {\n",
       "      const quickchartButtonEl =\n",
       "        document.querySelector('#' + key + ' button');\n",
       "      quickchartButtonEl.disabled = true;  // To prevent multiple clicks.\n",
       "      quickchartButtonEl.classList.add('colab-df-spinner');\n",
       "      try {\n",
       "        const charts = await google.colab.kernel.invokeFunction(\n",
       "            'suggestCharts', [key], {});\n",
       "      } catch (error) {\n",
       "        console.error('Error during call to suggestCharts:', error);\n",
       "      }\n",
       "      quickchartButtonEl.classList.remove('colab-df-spinner');\n",
       "      quickchartButtonEl.classList.add('colab-df-quickchart-complete');\n",
       "    }\n",
       "    (() => {\n",
       "      let quickchartButtonEl =\n",
       "        document.querySelector('#df-aa560afa-ee66-4b75-8278-c93609842f3c button');\n",
       "      quickchartButtonEl.style.display =\n",
       "        google.colab.kernel.accessAllowed ? 'block' : 'none';\n",
       "    })();\n",
       "  </script>\n",
       "</div>\n",
       "    </div>\n",
       "  </div>\n"
      ],
      "text/plain": [
       "          period  psk1  sum1  number1     psk2      sum2  number2  \\\n",
       "11556 2019-12-31   NaN   NaN      NaN   78.518     700.0    124.0   \n",
       "12628 2020-03-31   NaN   NaN      NaN  136.880  420187.0  13917.0   \n",
       "13416 2020-03-31   NaN   NaN      NaN  142.715    9608.0   1856.0   \n",
       "13968 2020-03-31   NaN   NaN      NaN  132.705    3286.0    726.0   \n",
       "14110 2020-03-31   NaN   NaN      NaN  137.069    3434.0    538.0   \n",
       "14111 2020-03-31   NaN   NaN      NaN  143.000    3370.0    875.0   \n",
       "14121 2020-03-31   NaN   NaN      NaN  142.350    1311.0    268.0   \n",
       "14199 2020-03-31   NaN   NaN      NaN  142.587    2294.0    388.0   \n",
       "14252 2020-03-31   NaN   NaN      NaN  142.318    2336.0    317.0   \n",
       "14302 2020-03-31   NaN   NaN      NaN  110.060    1339.0     68.0   \n",
       "14359 2020-03-31   NaN   NaN      NaN  120.560     703.0    184.0   \n",
       "14517 2020-03-31   NaN   NaN      NaN  142.371    1073.0    170.0   \n",
       "14666 2020-03-31   NaN   NaN      NaN  120.670     324.0    148.0   \n",
       "\n",
       "       portfolio_previous  portfolio_current  \n",
       "11556              2724.0              519.0  \n",
       "12628            159651.0           174227.0  \n",
       "13416              4296.0             4328.0  \n",
       "13968              2015.0             1599.0  \n",
       "14110              1040.0             1172.0  \n",
       "14111              1166.0             1170.0  \n",
       "14121              1056.0             1157.0  \n",
       "14199               975.0              949.0  \n",
       "14252               738.0              815.0  \n",
       "14302               826.0              711.0  \n",
       "14359               298.0              627.0  \n",
       "14517               503.0              413.0  \n",
       "14666               269.0              245.0  "
      ]
     },
     "execution_count": 96,
     "metadata": {},
     "output_type": "execute_result"
    }
   ],
   "source": [
    "df[(df['psk1'].isna()) & (df['psk2'].isna()==False)]"
   ]
  },
  {
   "cell_type": "code",
   "execution_count": 97,
   "metadata": {
    "executionInfo": {
     "elapsed": 24,
     "status": "ok",
     "timestamp": 1709472909124,
     "user": {
      "displayName": "Rustem Khakimullin",
      "userId": "08101597593475196688"
     },
     "user_tz": -180
    },
    "id": "LxTyc8jaVbvv"
   },
   "outputs": [],
   "source": [
    "cols_to_fill = ['psk1', 'sum1', 'number1']\n",
    "mask = (df['psk1'].isna()) & (df['psk2'].isna()==False)\n",
    "df.loc[mask, cols_to_fill] = df.loc[mask, cols_to_fill].fillna(0)"
   ]
  },
  {
   "cell_type": "code",
   "execution_count": 98,
   "metadata": {
    "colab": {
     "base_uri": "https://localhost:8080/"
    },
    "executionInfo": {
     "elapsed": 425,
     "status": "ok",
     "timestamp": 1709472909526,
     "user": {
      "displayName": "Rustem Khakimullin",
      "userId": "08101597593475196688"
     },
     "user_tz": -180
    },
    "id": "8TsTtAmIVn42",
    "outputId": "e5b516a6-7d6f-4117-8fb3-c6c3223e1e4c"
   },
   "outputs": [
    {
     "data": {
      "text/plain": [
       "period                 0\n",
       "psk1                  39\n",
       "sum1                  39\n",
       "number1               39\n",
       "psk2                  39\n",
       "sum2                  39\n",
       "number2               39\n",
       "portfolio_previous     0\n",
       "portfolio_current      0\n",
       "dtype: int64"
      ]
     },
     "execution_count": 98,
     "metadata": {},
     "output_type": "execute_result"
    }
   ],
   "source": [
    "df[df['psk1'].isna()].isna().sum()"
   ]
  },
  {
   "cell_type": "code",
   "execution_count": 99,
   "metadata": {
    "executionInfo": {
     "elapsed": 13,
     "status": "ok",
     "timestamp": 1709472909526,
     "user": {
      "displayName": "Rustem Khakimullin",
      "userId": "08101597593475196688"
     },
     "user_tz": -180
    },
    "id": "Chahka20blr7"
   },
   "outputs": [],
   "source": [
    "# =============================\n",
    "# остальное пока просто удаляем\n",
    "# =============================\n",
    "\n",
    "df = df.dropna(subset=['psk1'])\n",
    "df = df.dropna(subset=['psk2'])"
   ]
  },
  {
   "cell_type": "code",
   "execution_count": 100,
   "metadata": {
    "colab": {
     "base_uri": "https://localhost:8080/"
    },
    "executionInfo": {
     "elapsed": 13,
     "status": "ok",
     "timestamp": 1709472909526,
     "user": {
      "displayName": "Rustem Khakimullin",
      "userId": "08101597593475196688"
     },
     "user_tz": -180
    },
    "id": "D7LmfHPHb-jR",
    "outputId": "5fe64192-9ed0-4d7f-9236-6a6a2db2a2f3"
   },
   "outputs": [
    {
     "data": {
      "text/plain": [
       "period                0\n",
       "psk1                  0\n",
       "sum1                  0\n",
       "number1               0\n",
       "psk2                  0\n",
       "sum2                  0\n",
       "number2               0\n",
       "portfolio_previous    0\n",
       "portfolio_current     0\n",
       "dtype: int64"
      ]
     },
     "execution_count": 100,
     "metadata": {},
     "output_type": "execute_result"
    }
   ],
   "source": [
    "df.isna().sum()"
   ]
  },
  {
   "cell_type": "markdown",
   "metadata": {
    "id": "C5WApgB4iSI7"
   },
   "source": [
    ">>## **Преобразовать дату в числа**"
   ]
  },
  {
   "cell_type": "code",
   "execution_count": 101,
   "metadata": {
    "executionInfo": {
     "elapsed": 13,
     "status": "ok",
     "timestamp": 1709472909527,
     "user": {
      "displayName": "Rustem Khakimullin",
      "userId": "08101597593475196688"
     },
     "user_tz": -180
    },
    "id": "MWjYnhmbUEf2"
   },
   "outputs": [],
   "source": [
    "df['quarter'] = df['period'].apply(lambda x: (x.month - 1) // 3 + 1)"
   ]
  },
  {
   "cell_type": "code",
   "execution_count": 102,
   "metadata": {
    "executionInfo": {
     "elapsed": 13,
     "status": "ok",
     "timestamp": 1709472909527,
     "user": {
      "displayName": "Rustem Khakimullin",
      "userId": "08101597593475196688"
     },
     "user_tz": -180
    },
    "id": "m0-btg-Hkm-I"
   },
   "outputs": [],
   "source": [
    "df['yaear'] = df['period'].apply(lambda x: x.year)"
   ]
  },
  {
   "cell_type": "code",
   "execution_count": 103,
   "metadata": {
    "executionInfo": {
     "elapsed": 12,
     "status": "ok",
     "timestamp": 1709472909527,
     "user": {
      "displayName": "Rustem Khakimullin",
      "userId": "08101597593475196688"
     },
     "user_tz": -180
    },
    "id": "vkOGPWwLkvqp"
   },
   "outputs": [],
   "source": [
    "df = df.drop('period', axis=1)"
   ]
  },
  {
   "cell_type": "code",
   "execution_count": 104,
   "metadata": {
    "colab": {
     "base_uri": "https://localhost:8080/",
     "height": 0
    },
    "executionInfo": {
     "elapsed": 12,
     "status": "ok",
     "timestamp": 1709472909527,
     "user": {
      "displayName": "Rustem Khakimullin",
      "userId": "08101597593475196688"
     },
     "user_tz": -180
    },
    "id": "MZ1rWm7pgRSB",
    "outputId": "58298d77-9b2a-4bbb-b9da-b9c9c73e15a8"
   },
   "outputs": [
    {
     "data": {
      "application/vnd.google.colaboratory.intrinsic+json": {
       "summary": "{\n  \"name\": \"df\",\n  \"rows\": 29115,\n  \"fields\": [\n    {\n      \"column\": \"psk1\",\n      \"properties\": {\n        \"dtype\": \"number\",\n        \"std\": 15.256329623933658,\n        \"min\": 0.0,\n        \"max\": 518.923,\n        \"num_unique_values\": 880,\n        \"samples\": [\n          59.738,\n          41.191,\n          74.25\n        ],\n        \"semantic_type\": \"\",\n        \"description\": \"\"\n      }\n    },\n    {\n      \"column\": \"sum1\",\n      \"properties\": {\n        \"dtype\": \"number\",\n        \"std\": 7875.470947008961,\n        \"min\": 0.0,\n        \"max\": 526008.0,\n        \"num_unique_values\": 984,\n        \"samples\": [\n          147.0,\n          6830.0,\n          17623.0\n        ],\n        \"semantic_type\": \"\",\n        \"description\": \"\"\n      }\n    },\n    {\n      \"column\": \"number1\",\n      \"properties\": {\n        \"dtype\": \"number\",\n        \"std\": 18.302012220324734,\n        \"min\": 0.0,\n        \"max\": 2002.0,\n        \"num_unique_values\": 176,\n        \"samples\": [\n          5.0,\n          25.0,\n          188.0\n        ],\n        \"semantic_type\": \"\",\n        \"description\": \"\"\n      }\n    },\n    {\n      \"column\": \"psk2\",\n      \"properties\": {\n        \"dtype\": \"number\",\n        \"std\": 56.4768205871555,\n        \"min\": 0.0,\n        \"max\": 1420.669,\n        \"num_unique_values\": 14590,\n        \"samples\": [\n          68.746,\n          122.609,\n          161.729\n        ],\n        \"semantic_type\": \"\",\n        \"description\": \"\"\n      }\n    },\n    {\n      \"column\": \"sum2\",\n      \"properties\": {\n        \"dtype\": \"number\",\n        \"std\": 134632.65068031452,\n        \"min\": 0.0,\n        \"max\": 5418781.0,\n        \"num_unique_values\": 12756,\n        \"samples\": [\n          27991.0,\n          228662.0,\n          11028.0\n        ],\n        \"semantic_type\": \"\",\n        \"description\": \"\"\n      }\n    },\n    {\n      \"column\": \"number2\",\n      \"properties\": {\n        \"dtype\": \"number\",\n        \"std\": 12133.084536990755,\n        \"min\": 0.0,\n        \"max\": 634980.0,\n        \"num_unique_values\": 5129,\n        \"samples\": [\n          1008.0,\n          2463.0,\n          27935.0\n        ],\n        \"semantic_type\": \"\",\n        \"description\": \"\"\n      }\n    },\n    {\n      \"column\": \"portfolio_previous\",\n      \"properties\": {\n        \"dtype\": \"number\",\n        \"std\": 160898.93024205463,\n        \"min\": 0.0,\n        \"max\": 14538375.0,\n        \"num_unique_values\": 11887,\n        \"samples\": [\n          3703.0,\n          1271.0,\n          6037.0\n        ],\n        \"semantic_type\": \"\",\n        \"description\": \"\"\n      }\n    },\n    {\n      \"column\": \"portfolio_current\",\n      \"properties\": {\n        \"dtype\": \"number\",\n        \"std\": 163547.43094821722,\n        \"min\": 0.0,\n        \"max\": 14538375.0,\n        \"num_unique_values\": 11965,\n        \"samples\": [\n          117327.0,\n          2864.0,\n          19412.0\n        ],\n        \"semantic_type\": \"\",\n        \"description\": \"\"\n      }\n    },\n    {\n      \"column\": \"quarter\",\n      \"properties\": {\n        \"dtype\": \"number\",\n        \"std\": 1,\n        \"min\": 1,\n        \"max\": 4,\n        \"num_unique_values\": 4,\n        \"samples\": [\n          3,\n          1,\n          2\n        ],\n        \"semantic_type\": \"\",\n        \"description\": \"\"\n      }\n    },\n    {\n      \"column\": \"yaear\",\n      \"properties\": {\n        \"dtype\": \"number\",\n        \"std\": 0,\n        \"min\": 2019,\n        \"max\": 2021,\n        \"num_unique_values\": 3,\n        \"samples\": [\n          2019,\n          2020,\n          2021\n        ],\n        \"semantic_type\": \"\",\n        \"description\": \"\"\n      }\n    }\n  ]\n}",
       "type": "dataframe",
       "variable_name": "df"
      },
      "text/html": [
       "\n",
       "  <div id=\"df-a349c2a1-7e67-493a-8a88-8989eb0940e2\" class=\"colab-df-container\">\n",
       "    <div>\n",
       "<style scoped>\n",
       "    .dataframe tbody tr th:only-of-type {\n",
       "        vertical-align: middle;\n",
       "    }\n",
       "\n",
       "    .dataframe tbody tr th {\n",
       "        vertical-align: top;\n",
       "    }\n",
       "\n",
       "    .dataframe thead th {\n",
       "        text-align: right;\n",
       "    }\n",
       "</style>\n",
       "<table border=\"1\" class=\"dataframe\">\n",
       "  <thead>\n",
       "    <tr style=\"text-align: right;\">\n",
       "      <th></th>\n",
       "      <th>psk1</th>\n",
       "      <th>sum1</th>\n",
       "      <th>number1</th>\n",
       "      <th>psk2</th>\n",
       "      <th>sum2</th>\n",
       "      <th>number2</th>\n",
       "      <th>portfolio_previous</th>\n",
       "      <th>portfolio_current</th>\n",
       "      <th>quarter</th>\n",
       "      <th>yaear</th>\n",
       "    </tr>\n",
       "  </thead>\n",
       "  <tbody>\n",
       "    <tr>\n",
       "      <th>3340</th>\n",
       "      <td>0.0</td>\n",
       "      <td>0.0</td>\n",
       "      <td>0.0</td>\n",
       "      <td>144.704</td>\n",
       "      <td>4400.0</td>\n",
       "      <td>672.0</td>\n",
       "      <td>4658.0</td>\n",
       "      <td>5362.0</td>\n",
       "      <td>2</td>\n",
       "      <td>2019</td>\n",
       "    </tr>\n",
       "    <tr>\n",
       "      <th>3341</th>\n",
       "      <td>0.0</td>\n",
       "      <td>0.0</td>\n",
       "      <td>0.0</td>\n",
       "      <td>109.439</td>\n",
       "      <td>8007.0</td>\n",
       "      <td>783.0</td>\n",
       "      <td>4255.0</td>\n",
       "      <td>4332.0</td>\n",
       "      <td>2</td>\n",
       "      <td>2019</td>\n",
       "    </tr>\n",
       "    <tr>\n",
       "      <th>3342</th>\n",
       "      <td>0.0</td>\n",
       "      <td>0.0</td>\n",
       "      <td>0.0</td>\n",
       "      <td>133.716</td>\n",
       "      <td>6070.0</td>\n",
       "      <td>802.0</td>\n",
       "      <td>4618.0</td>\n",
       "      <td>4500.0</td>\n",
       "      <td>2</td>\n",
       "      <td>2019</td>\n",
       "    </tr>\n",
       "    <tr>\n",
       "      <th>3343</th>\n",
       "      <td>0.0</td>\n",
       "      <td>0.0</td>\n",
       "      <td>0.0</td>\n",
       "      <td>146.000</td>\n",
       "      <td>2029.0</td>\n",
       "      <td>224.0</td>\n",
       "      <td>779.0</td>\n",
       "      <td>780.0</td>\n",
       "      <td>2</td>\n",
       "      <td>2019</td>\n",
       "    </tr>\n",
       "    <tr>\n",
       "      <th>3344</th>\n",
       "      <td>0.0</td>\n",
       "      <td>0.0</td>\n",
       "      <td>0.0</td>\n",
       "      <td>149.459</td>\n",
       "      <td>14933.0</td>\n",
       "      <td>2505.0</td>\n",
       "      <td>14214.0</td>\n",
       "      <td>15781.0</td>\n",
       "      <td>2</td>\n",
       "      <td>2019</td>\n",
       "    </tr>\n",
       "  </tbody>\n",
       "</table>\n",
       "</div>\n",
       "    <div class=\"colab-df-buttons\">\n",
       "\n",
       "  <div class=\"colab-df-container\">\n",
       "    <button class=\"colab-df-convert\" onclick=\"convertToInteractive('df-a349c2a1-7e67-493a-8a88-8989eb0940e2')\"\n",
       "            title=\"Convert this dataframe to an interactive table.\"\n",
       "            style=\"display:none;\">\n",
       "\n",
       "  <svg xmlns=\"http://www.w3.org/2000/svg\" height=\"24px\" viewBox=\"0 -960 960 960\">\n",
       "    <path d=\"M120-120v-720h720v720H120Zm60-500h600v-160H180v160Zm220 220h160v-160H400v160Zm0 220h160v-160H400v160ZM180-400h160v-160H180v160Zm440 0h160v-160H620v160ZM180-180h160v-160H180v160Zm440 0h160v-160H620v160Z\"/>\n",
       "  </svg>\n",
       "    </button>\n",
       "\n",
       "  <style>\n",
       "    .colab-df-container {\n",
       "      display:flex;\n",
       "      gap: 12px;\n",
       "    }\n",
       "\n",
       "    .colab-df-convert {\n",
       "      background-color: #E8F0FE;\n",
       "      border: none;\n",
       "      border-radius: 50%;\n",
       "      cursor: pointer;\n",
       "      display: none;\n",
       "      fill: #1967D2;\n",
       "      height: 32px;\n",
       "      padding: 0 0 0 0;\n",
       "      width: 32px;\n",
       "    }\n",
       "\n",
       "    .colab-df-convert:hover {\n",
       "      background-color: #E2EBFA;\n",
       "      box-shadow: 0px 1px 2px rgba(60, 64, 67, 0.3), 0px 1px 3px 1px rgba(60, 64, 67, 0.15);\n",
       "      fill: #174EA6;\n",
       "    }\n",
       "\n",
       "    .colab-df-buttons div {\n",
       "      margin-bottom: 4px;\n",
       "    }\n",
       "\n",
       "    [theme=dark] .colab-df-convert {\n",
       "      background-color: #3B4455;\n",
       "      fill: #D2E3FC;\n",
       "    }\n",
       "\n",
       "    [theme=dark] .colab-df-convert:hover {\n",
       "      background-color: #434B5C;\n",
       "      box-shadow: 0px 1px 3px 1px rgba(0, 0, 0, 0.15);\n",
       "      filter: drop-shadow(0px 1px 2px rgba(0, 0, 0, 0.3));\n",
       "      fill: #FFFFFF;\n",
       "    }\n",
       "  </style>\n",
       "\n",
       "    <script>\n",
       "      const buttonEl =\n",
       "        document.querySelector('#df-a349c2a1-7e67-493a-8a88-8989eb0940e2 button.colab-df-convert');\n",
       "      buttonEl.style.display =\n",
       "        google.colab.kernel.accessAllowed ? 'block' : 'none';\n",
       "\n",
       "      async function convertToInteractive(key) {\n",
       "        const element = document.querySelector('#df-a349c2a1-7e67-493a-8a88-8989eb0940e2');\n",
       "        const dataTable =\n",
       "          await google.colab.kernel.invokeFunction('convertToInteractive',\n",
       "                                                    [key], {});\n",
       "        if (!dataTable) return;\n",
       "\n",
       "        const docLinkHtml = 'Like what you see? Visit the ' +\n",
       "          '<a target=\"_blank\" href=https://colab.research.google.com/notebooks/data_table.ipynb>data table notebook</a>'\n",
       "          + ' to learn more about interactive tables.';\n",
       "        element.innerHTML = '';\n",
       "        dataTable['output_type'] = 'display_data';\n",
       "        await google.colab.output.renderOutput(dataTable, element);\n",
       "        const docLink = document.createElement('div');\n",
       "        docLink.innerHTML = docLinkHtml;\n",
       "        element.appendChild(docLink);\n",
       "      }\n",
       "    </script>\n",
       "  </div>\n",
       "\n",
       "\n",
       "<div id=\"df-f273b06a-b632-4f48-9206-634b5c7f73eb\">\n",
       "  <button class=\"colab-df-quickchart\" onclick=\"quickchart('df-f273b06a-b632-4f48-9206-634b5c7f73eb')\"\n",
       "            title=\"Suggest charts\"\n",
       "            style=\"display:none;\">\n",
       "\n",
       "<svg xmlns=\"http://www.w3.org/2000/svg\" height=\"24px\"viewBox=\"0 0 24 24\"\n",
       "     width=\"24px\">\n",
       "    <g>\n",
       "        <path d=\"M19 3H5c-1.1 0-2 .9-2 2v14c0 1.1.9 2 2 2h14c1.1 0 2-.9 2-2V5c0-1.1-.9-2-2-2zM9 17H7v-7h2v7zm4 0h-2V7h2v10zm4 0h-2v-4h2v4z\"/>\n",
       "    </g>\n",
       "</svg>\n",
       "  </button>\n",
       "\n",
       "<style>\n",
       "  .colab-df-quickchart {\n",
       "      --bg-color: #E8F0FE;\n",
       "      --fill-color: #1967D2;\n",
       "      --hover-bg-color: #E2EBFA;\n",
       "      --hover-fill-color: #174EA6;\n",
       "      --disabled-fill-color: #AAA;\n",
       "      --disabled-bg-color: #DDD;\n",
       "  }\n",
       "\n",
       "  [theme=dark] .colab-df-quickchart {\n",
       "      --bg-color: #3B4455;\n",
       "      --fill-color: #D2E3FC;\n",
       "      --hover-bg-color: #434B5C;\n",
       "      --hover-fill-color: #FFFFFF;\n",
       "      --disabled-bg-color: #3B4455;\n",
       "      --disabled-fill-color: #666;\n",
       "  }\n",
       "\n",
       "  .colab-df-quickchart {\n",
       "    background-color: var(--bg-color);\n",
       "    border: none;\n",
       "    border-radius: 50%;\n",
       "    cursor: pointer;\n",
       "    display: none;\n",
       "    fill: var(--fill-color);\n",
       "    height: 32px;\n",
       "    padding: 0;\n",
       "    width: 32px;\n",
       "  }\n",
       "\n",
       "  .colab-df-quickchart:hover {\n",
       "    background-color: var(--hover-bg-color);\n",
       "    box-shadow: 0 1px 2px rgba(60, 64, 67, 0.3), 0 1px 3px 1px rgba(60, 64, 67, 0.15);\n",
       "    fill: var(--button-hover-fill-color);\n",
       "  }\n",
       "\n",
       "  .colab-df-quickchart-complete:disabled,\n",
       "  .colab-df-quickchart-complete:disabled:hover {\n",
       "    background-color: var(--disabled-bg-color);\n",
       "    fill: var(--disabled-fill-color);\n",
       "    box-shadow: none;\n",
       "  }\n",
       "\n",
       "  .colab-df-spinner {\n",
       "    border: 2px solid var(--fill-color);\n",
       "    border-color: transparent;\n",
       "    border-bottom-color: var(--fill-color);\n",
       "    animation:\n",
       "      spin 1s steps(1) infinite;\n",
       "  }\n",
       "\n",
       "  @keyframes spin {\n",
       "    0% {\n",
       "      border-color: transparent;\n",
       "      border-bottom-color: var(--fill-color);\n",
       "      border-left-color: var(--fill-color);\n",
       "    }\n",
       "    20% {\n",
       "      border-color: transparent;\n",
       "      border-left-color: var(--fill-color);\n",
       "      border-top-color: var(--fill-color);\n",
       "    }\n",
       "    30% {\n",
       "      border-color: transparent;\n",
       "      border-left-color: var(--fill-color);\n",
       "      border-top-color: var(--fill-color);\n",
       "      border-right-color: var(--fill-color);\n",
       "    }\n",
       "    40% {\n",
       "      border-color: transparent;\n",
       "      border-right-color: var(--fill-color);\n",
       "      border-top-color: var(--fill-color);\n",
       "    }\n",
       "    60% {\n",
       "      border-color: transparent;\n",
       "      border-right-color: var(--fill-color);\n",
       "    }\n",
       "    80% {\n",
       "      border-color: transparent;\n",
       "      border-right-color: var(--fill-color);\n",
       "      border-bottom-color: var(--fill-color);\n",
       "    }\n",
       "    90% {\n",
       "      border-color: transparent;\n",
       "      border-bottom-color: var(--fill-color);\n",
       "    }\n",
       "  }\n",
       "</style>\n",
       "\n",
       "  <script>\n",
       "    async function quickchart(key) {\n",
       "      const quickchartButtonEl =\n",
       "        document.querySelector('#' + key + ' button');\n",
       "      quickchartButtonEl.disabled = true;  // To prevent multiple clicks.\n",
       "      quickchartButtonEl.classList.add('colab-df-spinner');\n",
       "      try {\n",
       "        const charts = await google.colab.kernel.invokeFunction(\n",
       "            'suggestCharts', [key], {});\n",
       "      } catch (error) {\n",
       "        console.error('Error during call to suggestCharts:', error);\n",
       "      }\n",
       "      quickchartButtonEl.classList.remove('colab-df-spinner');\n",
       "      quickchartButtonEl.classList.add('colab-df-quickchart-complete');\n",
       "    }\n",
       "    (() => {\n",
       "      let quickchartButtonEl =\n",
       "        document.querySelector('#df-f273b06a-b632-4f48-9206-634b5c7f73eb button');\n",
       "      quickchartButtonEl.style.display =\n",
       "        google.colab.kernel.accessAllowed ? 'block' : 'none';\n",
       "    })();\n",
       "  </script>\n",
       "</div>\n",
       "    </div>\n",
       "  </div>\n"
      ],
      "text/plain": [
       "      psk1  sum1  number1     psk2     sum2  number2  portfolio_previous  \\\n",
       "3340   0.0   0.0      0.0  144.704   4400.0    672.0              4658.0   \n",
       "3341   0.0   0.0      0.0  109.439   8007.0    783.0              4255.0   \n",
       "3342   0.0   0.0      0.0  133.716   6070.0    802.0              4618.0   \n",
       "3343   0.0   0.0      0.0  146.000   2029.0    224.0               779.0   \n",
       "3344   0.0   0.0      0.0  149.459  14933.0   2505.0             14214.0   \n",
       "\n",
       "      portfolio_current  quarter  yaear  \n",
       "3340             5362.0        2   2019  \n",
       "3341             4332.0        2   2019  \n",
       "3342             4500.0        2   2019  \n",
       "3343              780.0        2   2019  \n",
       "3344            15781.0        2   2019  "
      ]
     },
     "execution_count": 104,
     "metadata": {},
     "output_type": "execute_result"
    }
   ],
   "source": [
    "df.head()"
   ]
  },
  {
   "cell_type": "markdown",
   "metadata": {
    "id": "sL_7LUAHAMc7"
   },
   "source": [
    ">>## **Описание**"
   ]
  },
  {
   "cell_type": "code",
   "execution_count": 105,
   "metadata": {
    "colab": {
     "base_uri": "https://localhost:8080/"
    },
    "executionInfo": {
     "elapsed": 11,
     "status": "ok",
     "timestamp": 1709472909527,
     "user": {
      "displayName": "Rustem Khakimullin",
      "userId": "08101597593475196688"
     },
     "user_tz": -180
    },
    "id": "6PCkJk3t5q_U",
    "outputId": "ee5d32ca-66c8-4243-f987-1378dc13bb5b"
   },
   "outputs": [
    {
     "name": "stdout",
     "output_type": "stream",
     "text": [
      "<class 'pandas.core.frame.DataFrame'>\n",
      "Int64Index: 29115 entries, 3340 to 33303\n",
      "Data columns (total 10 columns):\n",
      " #   Column              Non-Null Count  Dtype  \n",
      "---  ------              --------------  -----  \n",
      " 0   psk1                29115 non-null  float64\n",
      " 1   sum1                29115 non-null  float64\n",
      " 2   number1             29115 non-null  float64\n",
      " 3   psk2                29115 non-null  float64\n",
      " 4   sum2                29115 non-null  float64\n",
      " 5   number2             29115 non-null  float64\n",
      " 6   portfolio_previous  29115 non-null  float64\n",
      " 7   portfolio_current   29115 non-null  float64\n",
      " 8   quarter             29115 non-null  int64  \n",
      " 9   yaear               29115 non-null  int64  \n",
      "dtypes: float64(8), int64(2)\n",
      "memory usage: 2.4 MB\n"
     ]
    }
   ],
   "source": [
    "df.info()"
   ]
  },
  {
   "cell_type": "code",
   "execution_count": 106,
   "metadata": {
    "colab": {
     "base_uri": "https://localhost:8080/",
     "height": 0
    },
    "executionInfo": {
     "elapsed": 10,
     "status": "ok",
     "timestamp": 1709472909527,
     "user": {
      "displayName": "Rustem Khakimullin",
      "userId": "08101597593475196688"
     },
     "user_tz": -180
    },
    "id": "MHIUsUr35rB5",
    "outputId": "bf90f1cf-0220-4efc-a7fc-28f6d7f32220"
   },
   "outputs": [
    {
     "data": {
      "application/vnd.google.colaboratory.intrinsic+json": {
       "summary": "{\n  \"name\": \"df\",\n  \"rows\": 8,\n  \"fields\": [\n    {\n      \"column\": \"psk1\",\n      \"properties\": {\n        \"dtype\": \"number\",\n        \"std\": 10268.155650720157,\n        \"min\": 0.0,\n        \"max\": 29115.0,\n        \"num_unique_values\": 5,\n        \"samples\": [\n          3.15353082603469,\n          518.923,\n          15.256329623933658\n        ],\n        \"semantic_type\": \"\",\n        \"description\": \"\"\n      }\n    },\n    {\n      \"column\": \"sum1\",\n      \"properties\": {\n        \"dtype\": \"number\",\n        \"std\": 184352.37016755604,\n        \"min\": 0.0,\n        \"max\": 526008.0,\n        \"num_unique_values\": 5,\n        \"samples\": [\n          517.7448737764039,\n          526008.0,\n          7875.470947008961\n        ],\n        \"semantic_type\": \"\",\n        \"description\": \"\"\n      }\n    },\n    {\n      \"column\": \"number1\",\n      \"properties\": {\n        \"dtype\": \"number\",\n        \"std\": 10215.564801433957,\n        \"min\": 0.0,\n        \"max\": 29115.0,\n        \"num_unique_values\": 5,\n        \"samples\": [\n          1.4565344324231495,\n          2002.0,\n          18.302012220324734\n        ],\n        \"semantic_type\": \"\",\n        \"description\": \"\"\n      }\n    },\n    {\n      \"column\": \"psk2\",\n      \"properties\": {\n        \"dtype\": \"number\",\n        \"std\": 10208.959812081921,\n        \"min\": 0.0,\n        \"max\": 29115.0,\n        \"num_unique_values\": 8,\n        \"samples\": [\n          94.52974585952258,\n          116.175,\n          29115.0\n        ],\n        \"semantic_type\": \"\",\n        \"description\": \"\"\n      }\n    },\n    {\n      \"column\": \"sum2\",\n      \"properties\": {\n        \"dtype\": \"number\",\n        \"std\": 1906582.1515036104,\n        \"min\": 0.0,\n        \"max\": 5418781.0,\n        \"num_unique_values\": 8,\n        \"samples\": [\n          19079.63329555212,\n          2242.0,\n          29115.0\n        ],\n        \"semantic_type\": \"\",\n        \"description\": \"\"\n      }\n    },\n    {\n      \"column\": \"number2\",\n      \"properties\": {\n        \"dtype\": \"number\",\n        \"std\": 222484.01562096778,\n        \"min\": 0.0,\n        \"max\": 634980.0,\n        \"num_unique_values\": 8,\n        \"samples\": [\n          1871.779598145286,\n          297.0,\n          29115.0\n        ],\n        \"semantic_type\": \"\",\n        \"description\": \"\"\n      }\n    },\n    {\n      \"column\": \"portfolio_previous\",\n      \"properties\": {\n        \"dtype\": \"number\",\n        \"std\": 5129393.032638257,\n        \"min\": 0.0,\n        \"max\": 14538375.0,\n        \"num_unique_values\": 8,\n        \"samples\": [\n          18829.852811815217,\n          1822.0,\n          29115.0\n        ],\n        \"semantic_type\": \"\",\n        \"description\": \"\"\n      }\n    },\n    {\n      \"column\": \"portfolio_current\",\n      \"properties\": {\n        \"dtype\": \"number\",\n        \"std\": 5129236.6833147835,\n        \"min\": 0.0,\n        \"max\": 14538375.0,\n        \"num_unique_values\": 8,\n        \"samples\": [\n          19309.987305512623,\n          1827.0,\n          29115.0\n        ],\n        \"semantic_type\": \"\",\n        \"description\": \"\"\n      }\n    },\n    {\n      \"column\": \"quarter\",\n      \"properties\": {\n        \"dtype\": \"number\",\n        \"std\": 10292.81509812883,\n        \"min\": 1.0,\n        \"max\": 29115.0,\n        \"num_unique_values\": 7,\n        \"samples\": [\n          29115.0,\n          2.6003778121243344,\n          3.0\n        ],\n        \"semantic_type\": \"\",\n        \"description\": \"\"\n      }\n    },\n    {\n      \"column\": \"yaear\",\n      \"properties\": {\n        \"dtype\": \"number\",\n        \"std\": 9707.263237327068,\n        \"min\": 0.7932978693113308,\n        \"max\": 29115.0,\n        \"num_unique_values\": 6,\n        \"samples\": [\n          29115.0,\n          2020.0130173450111,\n          2021.0\n        ],\n        \"semantic_type\": \"\",\n        \"description\": \"\"\n      }\n    }\n  ]\n}",
       "type": "dataframe"
      },
      "text/html": [
       "\n",
       "  <div id=\"df-5f352609-2256-4964-9c59-309fa307256f\" class=\"colab-df-container\">\n",
       "    <div>\n",
       "<style scoped>\n",
       "    .dataframe tbody tr th:only-of-type {\n",
       "        vertical-align: middle;\n",
       "    }\n",
       "\n",
       "    .dataframe tbody tr th {\n",
       "        vertical-align: top;\n",
       "    }\n",
       "\n",
       "    .dataframe thead th {\n",
       "        text-align: right;\n",
       "    }\n",
       "</style>\n",
       "<table border=\"1\" class=\"dataframe\">\n",
       "  <thead>\n",
       "    <tr style=\"text-align: right;\">\n",
       "      <th></th>\n",
       "      <th>psk1</th>\n",
       "      <th>sum1</th>\n",
       "      <th>number1</th>\n",
       "      <th>psk2</th>\n",
       "      <th>sum2</th>\n",
       "      <th>number2</th>\n",
       "      <th>portfolio_previous</th>\n",
       "      <th>portfolio_current</th>\n",
       "      <th>quarter</th>\n",
       "      <th>yaear</th>\n",
       "    </tr>\n",
       "  </thead>\n",
       "  <tbody>\n",
       "    <tr>\n",
       "      <th>count</th>\n",
       "      <td>29115.000000</td>\n",
       "      <td>29115.000000</td>\n",
       "      <td>29115.000000</td>\n",
       "      <td>29115.000000</td>\n",
       "      <td>2.911500e+04</td>\n",
       "      <td>29115.000000</td>\n",
       "      <td>2.911500e+04</td>\n",
       "      <td>2.911500e+04</td>\n",
       "      <td>29115.000000</td>\n",
       "      <td>29115.000000</td>\n",
       "    </tr>\n",
       "    <tr>\n",
       "      <th>mean</th>\n",
       "      <td>3.153531</td>\n",
       "      <td>517.744874</td>\n",
       "      <td>1.456534</td>\n",
       "      <td>94.529746</td>\n",
       "      <td>1.907963e+04</td>\n",
       "      <td>1871.779598</td>\n",
       "      <td>1.882985e+04</td>\n",
       "      <td>1.930999e+04</td>\n",
       "      <td>2.600378</td>\n",
       "      <td>2020.013017</td>\n",
       "    </tr>\n",
       "    <tr>\n",
       "      <th>std</th>\n",
       "      <td>15.256330</td>\n",
       "      <td>7875.470947</td>\n",
       "      <td>18.302012</td>\n",
       "      <td>56.476821</td>\n",
       "      <td>1.346327e+05</td>\n",
       "      <td>12133.084537</td>\n",
       "      <td>1.608989e+05</td>\n",
       "      <td>1.635474e+05</td>\n",
       "      <td>1.059010</td>\n",
       "      <td>0.793298</td>\n",
       "    </tr>\n",
       "    <tr>\n",
       "      <th>min</th>\n",
       "      <td>0.000000</td>\n",
       "      <td>0.000000</td>\n",
       "      <td>0.000000</td>\n",
       "      <td>0.000000</td>\n",
       "      <td>0.000000e+00</td>\n",
       "      <td>0.000000</td>\n",
       "      <td>0.000000e+00</td>\n",
       "      <td>0.000000e+00</td>\n",
       "      <td>1.000000</td>\n",
       "      <td>2019.000000</td>\n",
       "    </tr>\n",
       "    <tr>\n",
       "      <th>25%</th>\n",
       "      <td>0.000000</td>\n",
       "      <td>0.000000</td>\n",
       "      <td>0.000000</td>\n",
       "      <td>74.118000</td>\n",
       "      <td>2.200000e+02</td>\n",
       "      <td>31.000000</td>\n",
       "      <td>3.040000e+02</td>\n",
       "      <td>2.980000e+02</td>\n",
       "      <td>2.000000</td>\n",
       "      <td>2019.000000</td>\n",
       "    </tr>\n",
       "    <tr>\n",
       "      <th>50%</th>\n",
       "      <td>0.000000</td>\n",
       "      <td>0.000000</td>\n",
       "      <td>0.000000</td>\n",
       "      <td>116.175000</td>\n",
       "      <td>2.242000e+03</td>\n",
       "      <td>297.000000</td>\n",
       "      <td>1.822000e+03</td>\n",
       "      <td>1.827000e+03</td>\n",
       "      <td>3.000000</td>\n",
       "      <td>2020.000000</td>\n",
       "    </tr>\n",
       "    <tr>\n",
       "      <th>75%</th>\n",
       "      <td>0.000000</td>\n",
       "      <td>0.000000</td>\n",
       "      <td>0.000000</td>\n",
       "      <td>131.402500</td>\n",
       "      <td>8.208500e+03</td>\n",
       "      <td>1014.000000</td>\n",
       "      <td>6.474000e+03</td>\n",
       "      <td>6.628000e+03</td>\n",
       "      <td>4.000000</td>\n",
       "      <td>2021.000000</td>\n",
       "    </tr>\n",
       "    <tr>\n",
       "      <th>max</th>\n",
       "      <td>518.923000</td>\n",
       "      <td>526008.000000</td>\n",
       "      <td>2002.000000</td>\n",
       "      <td>1420.669000</td>\n",
       "      <td>5.418781e+06</td>\n",
       "      <td>634980.000000</td>\n",
       "      <td>1.453838e+07</td>\n",
       "      <td>1.453838e+07</td>\n",
       "      <td>4.000000</td>\n",
       "      <td>2021.000000</td>\n",
       "    </tr>\n",
       "  </tbody>\n",
       "</table>\n",
       "</div>\n",
       "    <div class=\"colab-df-buttons\">\n",
       "\n",
       "  <div class=\"colab-df-container\">\n",
       "    <button class=\"colab-df-convert\" onclick=\"convertToInteractive('df-5f352609-2256-4964-9c59-309fa307256f')\"\n",
       "            title=\"Convert this dataframe to an interactive table.\"\n",
       "            style=\"display:none;\">\n",
       "\n",
       "  <svg xmlns=\"http://www.w3.org/2000/svg\" height=\"24px\" viewBox=\"0 -960 960 960\">\n",
       "    <path d=\"M120-120v-720h720v720H120Zm60-500h600v-160H180v160Zm220 220h160v-160H400v160Zm0 220h160v-160H400v160ZM180-400h160v-160H180v160Zm440 0h160v-160H620v160ZM180-180h160v-160H180v160Zm440 0h160v-160H620v160Z\"/>\n",
       "  </svg>\n",
       "    </button>\n",
       "\n",
       "  <style>\n",
       "    .colab-df-container {\n",
       "      display:flex;\n",
       "      gap: 12px;\n",
       "    }\n",
       "\n",
       "    .colab-df-convert {\n",
       "      background-color: #E8F0FE;\n",
       "      border: none;\n",
       "      border-radius: 50%;\n",
       "      cursor: pointer;\n",
       "      display: none;\n",
       "      fill: #1967D2;\n",
       "      height: 32px;\n",
       "      padding: 0 0 0 0;\n",
       "      width: 32px;\n",
       "    }\n",
       "\n",
       "    .colab-df-convert:hover {\n",
       "      background-color: #E2EBFA;\n",
       "      box-shadow: 0px 1px 2px rgba(60, 64, 67, 0.3), 0px 1px 3px 1px rgba(60, 64, 67, 0.15);\n",
       "      fill: #174EA6;\n",
       "    }\n",
       "\n",
       "    .colab-df-buttons div {\n",
       "      margin-bottom: 4px;\n",
       "    }\n",
       "\n",
       "    [theme=dark] .colab-df-convert {\n",
       "      background-color: #3B4455;\n",
       "      fill: #D2E3FC;\n",
       "    }\n",
       "\n",
       "    [theme=dark] .colab-df-convert:hover {\n",
       "      background-color: #434B5C;\n",
       "      box-shadow: 0px 1px 3px 1px rgba(0, 0, 0, 0.15);\n",
       "      filter: drop-shadow(0px 1px 2px rgba(0, 0, 0, 0.3));\n",
       "      fill: #FFFFFF;\n",
       "    }\n",
       "  </style>\n",
       "\n",
       "    <script>\n",
       "      const buttonEl =\n",
       "        document.querySelector('#df-5f352609-2256-4964-9c59-309fa307256f button.colab-df-convert');\n",
       "      buttonEl.style.display =\n",
       "        google.colab.kernel.accessAllowed ? 'block' : 'none';\n",
       "\n",
       "      async function convertToInteractive(key) {\n",
       "        const element = document.querySelector('#df-5f352609-2256-4964-9c59-309fa307256f');\n",
       "        const dataTable =\n",
       "          await google.colab.kernel.invokeFunction('convertToInteractive',\n",
       "                                                    [key], {});\n",
       "        if (!dataTable) return;\n",
       "\n",
       "        const docLinkHtml = 'Like what you see? Visit the ' +\n",
       "          '<a target=\"_blank\" href=https://colab.research.google.com/notebooks/data_table.ipynb>data table notebook</a>'\n",
       "          + ' to learn more about interactive tables.';\n",
       "        element.innerHTML = '';\n",
       "        dataTable['output_type'] = 'display_data';\n",
       "        await google.colab.output.renderOutput(dataTable, element);\n",
       "        const docLink = document.createElement('div');\n",
       "        docLink.innerHTML = docLinkHtml;\n",
       "        element.appendChild(docLink);\n",
       "      }\n",
       "    </script>\n",
       "  </div>\n",
       "\n",
       "\n",
       "<div id=\"df-320b7987-ea12-49a3-aeb4-cefc3f27aa9c\">\n",
       "  <button class=\"colab-df-quickchart\" onclick=\"quickchart('df-320b7987-ea12-49a3-aeb4-cefc3f27aa9c')\"\n",
       "            title=\"Suggest charts\"\n",
       "            style=\"display:none;\">\n",
       "\n",
       "<svg xmlns=\"http://www.w3.org/2000/svg\" height=\"24px\"viewBox=\"0 0 24 24\"\n",
       "     width=\"24px\">\n",
       "    <g>\n",
       "        <path d=\"M19 3H5c-1.1 0-2 .9-2 2v14c0 1.1.9 2 2 2h14c1.1 0 2-.9 2-2V5c0-1.1-.9-2-2-2zM9 17H7v-7h2v7zm4 0h-2V7h2v10zm4 0h-2v-4h2v4z\"/>\n",
       "    </g>\n",
       "</svg>\n",
       "  </button>\n",
       "\n",
       "<style>\n",
       "  .colab-df-quickchart {\n",
       "      --bg-color: #E8F0FE;\n",
       "      --fill-color: #1967D2;\n",
       "      --hover-bg-color: #E2EBFA;\n",
       "      --hover-fill-color: #174EA6;\n",
       "      --disabled-fill-color: #AAA;\n",
       "      --disabled-bg-color: #DDD;\n",
       "  }\n",
       "\n",
       "  [theme=dark] .colab-df-quickchart {\n",
       "      --bg-color: #3B4455;\n",
       "      --fill-color: #D2E3FC;\n",
       "      --hover-bg-color: #434B5C;\n",
       "      --hover-fill-color: #FFFFFF;\n",
       "      --disabled-bg-color: #3B4455;\n",
       "      --disabled-fill-color: #666;\n",
       "  }\n",
       "\n",
       "  .colab-df-quickchart {\n",
       "    background-color: var(--bg-color);\n",
       "    border: none;\n",
       "    border-radius: 50%;\n",
       "    cursor: pointer;\n",
       "    display: none;\n",
       "    fill: var(--fill-color);\n",
       "    height: 32px;\n",
       "    padding: 0;\n",
       "    width: 32px;\n",
       "  }\n",
       "\n",
       "  .colab-df-quickchart:hover {\n",
       "    background-color: var(--hover-bg-color);\n",
       "    box-shadow: 0 1px 2px rgba(60, 64, 67, 0.3), 0 1px 3px 1px rgba(60, 64, 67, 0.15);\n",
       "    fill: var(--button-hover-fill-color);\n",
       "  }\n",
       "\n",
       "  .colab-df-quickchart-complete:disabled,\n",
       "  .colab-df-quickchart-complete:disabled:hover {\n",
       "    background-color: var(--disabled-bg-color);\n",
       "    fill: var(--disabled-fill-color);\n",
       "    box-shadow: none;\n",
       "  }\n",
       "\n",
       "  .colab-df-spinner {\n",
       "    border: 2px solid var(--fill-color);\n",
       "    border-color: transparent;\n",
       "    border-bottom-color: var(--fill-color);\n",
       "    animation:\n",
       "      spin 1s steps(1) infinite;\n",
       "  }\n",
       "\n",
       "  @keyframes spin {\n",
       "    0% {\n",
       "      border-color: transparent;\n",
       "      border-bottom-color: var(--fill-color);\n",
       "      border-left-color: var(--fill-color);\n",
       "    }\n",
       "    20% {\n",
       "      border-color: transparent;\n",
       "      border-left-color: var(--fill-color);\n",
       "      border-top-color: var(--fill-color);\n",
       "    }\n",
       "    30% {\n",
       "      border-color: transparent;\n",
       "      border-left-color: var(--fill-color);\n",
       "      border-top-color: var(--fill-color);\n",
       "      border-right-color: var(--fill-color);\n",
       "    }\n",
       "    40% {\n",
       "      border-color: transparent;\n",
       "      border-right-color: var(--fill-color);\n",
       "      border-top-color: var(--fill-color);\n",
       "    }\n",
       "    60% {\n",
       "      border-color: transparent;\n",
       "      border-right-color: var(--fill-color);\n",
       "    }\n",
       "    80% {\n",
       "      border-color: transparent;\n",
       "      border-right-color: var(--fill-color);\n",
       "      border-bottom-color: var(--fill-color);\n",
       "    }\n",
       "    90% {\n",
       "      border-color: transparent;\n",
       "      border-bottom-color: var(--fill-color);\n",
       "    }\n",
       "  }\n",
       "</style>\n",
       "\n",
       "  <script>\n",
       "    async function quickchart(key) {\n",
       "      const quickchartButtonEl =\n",
       "        document.querySelector('#' + key + ' button');\n",
       "      quickchartButtonEl.disabled = true;  // To prevent multiple clicks.\n",
       "      quickchartButtonEl.classList.add('colab-df-spinner');\n",
       "      try {\n",
       "        const charts = await google.colab.kernel.invokeFunction(\n",
       "            'suggestCharts', [key], {});\n",
       "      } catch (error) {\n",
       "        console.error('Error during call to suggestCharts:', error);\n",
       "      }\n",
       "      quickchartButtonEl.classList.remove('colab-df-spinner');\n",
       "      quickchartButtonEl.classList.add('colab-df-quickchart-complete');\n",
       "    }\n",
       "    (() => {\n",
       "      let quickchartButtonEl =\n",
       "        document.querySelector('#df-320b7987-ea12-49a3-aeb4-cefc3f27aa9c button');\n",
       "      quickchartButtonEl.style.display =\n",
       "        google.colab.kernel.accessAllowed ? 'block' : 'none';\n",
       "    })();\n",
       "  </script>\n",
       "</div>\n",
       "    </div>\n",
       "  </div>\n"
      ],
      "text/plain": [
       "               psk1           sum1       number1          psk2          sum2  \\\n",
       "count  29115.000000   29115.000000  29115.000000  29115.000000  2.911500e+04   \n",
       "mean       3.153531     517.744874      1.456534     94.529746  1.907963e+04   \n",
       "std       15.256330    7875.470947     18.302012     56.476821  1.346327e+05   \n",
       "min        0.000000       0.000000      0.000000      0.000000  0.000000e+00   \n",
       "25%        0.000000       0.000000      0.000000     74.118000  2.200000e+02   \n",
       "50%        0.000000       0.000000      0.000000    116.175000  2.242000e+03   \n",
       "75%        0.000000       0.000000      0.000000    131.402500  8.208500e+03   \n",
       "max      518.923000  526008.000000   2002.000000   1420.669000  5.418781e+06   \n",
       "\n",
       "             number2  portfolio_previous  portfolio_current       quarter  \\\n",
       "count   29115.000000        2.911500e+04       2.911500e+04  29115.000000   \n",
       "mean     1871.779598        1.882985e+04       1.930999e+04      2.600378   \n",
       "std     12133.084537        1.608989e+05       1.635474e+05      1.059010   \n",
       "min         0.000000        0.000000e+00       0.000000e+00      1.000000   \n",
       "25%        31.000000        3.040000e+02       2.980000e+02      2.000000   \n",
       "50%       297.000000        1.822000e+03       1.827000e+03      3.000000   \n",
       "75%      1014.000000        6.474000e+03       6.628000e+03      4.000000   \n",
       "max    634980.000000        1.453838e+07       1.453838e+07      4.000000   \n",
       "\n",
       "              yaear  \n",
       "count  29115.000000  \n",
       "mean    2020.013017  \n",
       "std        0.793298  \n",
       "min     2019.000000  \n",
       "25%     2019.000000  \n",
       "50%     2020.000000  \n",
       "75%     2021.000000  \n",
       "max     2021.000000  "
      ]
     },
     "execution_count": 106,
     "metadata": {},
     "output_type": "execute_result"
    }
   ],
   "source": [
    "df.describe()"
   ]
  },
  {
   "cell_type": "markdown",
   "metadata": {
    "id": "2H2DigwiiZ3W"
   },
   "source": [
    "# **НЕОБЯЗАТЕЛЬНО**"
   ]
  },
  {
   "cell_type": "markdown",
   "metadata": {
    "id": "pHfzeEsEg0_W"
   },
   "source": [
    ">>## **Удаление ПСК**"
   ]
  },
  {
   "cell_type": "code",
   "execution_count": null,
   "metadata": {
    "colab": {
     "base_uri": "https://localhost:8080/"
    },
    "executionInfo": {
     "elapsed": 3,
     "status": "ok",
     "timestamp": 1700933449854,
     "user": {
      "displayName": "Рустем Хакимуллин",
      "userId": "08101597593475196688"
     },
     "user_tz": -180
    },
    "id": "kjnQw2uGg7YZ",
    "outputId": "6a9927bc-bafa-4ca2-ee2f-72347ddc4bc7"
   },
   "outputs": [
    {
     "data": {
      "text/plain": [
       "Index(['sum1', 'number1', 'sum2', 'number2', 'portfolio_previous',\n",
       "       'portfolio_current', 'quarter', 'yaear'],\n",
       "      dtype='object')"
      ]
     },
     "execution_count": 335,
     "metadata": {},
     "output_type": "execute_result"
    }
   ],
   "source": [
    "df = df.drop(['psk1', 'psk2'], axis=1)\n",
    "df.columns"
   ]
  },
  {
   "cell_type": "markdown",
   "metadata": {
    "id": "AnGjXBOmflAc"
   },
   "source": [
    ">>## **Удаление выбросов без логарифма (мягко, визуально)**"
   ]
  },
  {
   "cell_type": "code",
   "execution_count": 69,
   "metadata": {
    "colab": {
     "base_uri": "https://localhost:8080/"
    },
    "executionInfo": {
     "elapsed": 4,
     "status": "ok",
     "timestamp": 1709472864835,
     "user": {
      "displayName": "Rustem Khakimullin",
      "userId": "08101597593475196688"
     },
     "user_tz": -180
    },
    "id": "XMeC7A0mdPSi",
    "outputId": "ee29b32b-58e3-49d3-bfa9-77c2047b87b5"
   },
   "outputs": [
    {
     "data": {
      "text/plain": [
       "(29115, 10)"
      ]
     },
     "execution_count": 69,
     "metadata": {},
     "output_type": "execute_result"
    }
   ],
   "source": [
    "df.shape"
   ]
  },
  {
   "cell_type": "code",
   "execution_count": 70,
   "metadata": {
    "colab": {
     "base_uri": "https://localhost:8080/",
     "height": 0
    },
    "executionInfo": {
     "elapsed": 1642,
     "status": "ok",
     "timestamp": 1709472866898,
     "user": {
      "displayName": "Rustem Khakimullin",
      "userId": "08101597593475196688"
     },
     "user_tz": -180
    },
    "id": "iKKMO4J3cixD",
    "outputId": "7b7b2729-2dd9-4210-9721-ad7e4973b3fb"
   },
   "outputs": [
    {
     "data": {
      "image/png": "[encoded data removed]",
      "text/plain": [
       "<Figure size 1000x1000 with 9 Axes>"
      ]
     },
     "metadata": {},
     "output_type": "display_data"
    }
   ],
   "source": [
    "columns = df.columns.tolist()\n",
    "columns.pop()\n",
    "fig, axes = plt.subplots(3, 3, figsize=(10, 10))\n",
    "for i, column in enumerate(columns):\n",
    "    sns.boxplot(x=df[column], ax=axes[i//3][i%3])\n",
    "    #sns.boxplot(x=df[df[column]!=0][column], ax=axes[i//3][i%3])"
   ]
  },
  {
   "cell_type": "code",
   "execution_count": 71,
   "metadata": {
    "executionInfo": {
     "elapsed": 4,
     "status": "ok",
     "timestamp": 1709472866898,
     "user": {
      "displayName": "Rustem Khakimullin",
      "userId": "08101597593475196688"
     },
     "user_tz": -180
    },
    "id": "kfwSX2iXcvxV"
   },
   "outputs": [],
   "source": [
    "mask = (df['psk1']>300)\n",
    "df = df.drop(df[mask].index)"
   ]
  },
  {
   "cell_type": "code",
   "execution_count": 72,
   "metadata": {
    "executionInfo": {
     "elapsed": 434,
     "status": "ok",
     "timestamp": 1709472867329,
     "user": {
      "displayName": "Rustem Khakimullin",
      "userId": "08101597593475196688"
     },
     "user_tz": -180
    },
    "id": "n28AGAAvfI3l"
   },
   "outputs": [],
   "source": [
    "mask = (df['sum1']>300000)\n",
    "df = df.drop(df[mask].index)"
   ]
  },
  {
   "cell_type": "code",
   "execution_count": 73,
   "metadata": {
    "executionInfo": {
     "elapsed": 5,
     "status": "ok",
     "timestamp": 1709472867330,
     "user": {
      "displayName": "Rustem Khakimullin",
      "userId": "08101597593475196688"
     },
     "user_tz": -180
    },
    "id": "Kxy3VvXSfI5_"
   },
   "outputs": [],
   "source": [
    "mask = (df['number1']>1000)\n",
    "df = df.drop(df[mask].index)"
   ]
  },
  {
   "cell_type": "code",
   "execution_count": 74,
   "metadata": {
    "executionInfo": {
     "elapsed": 5,
     "status": "ok",
     "timestamp": 1709472867330,
     "user": {
      "displayName": "Rustem Khakimullin",
      "userId": "08101597593475196688"
     },
     "user_tz": -180
    },
    "id": "w_5SRPbwfouC"
   },
   "outputs": [],
   "source": [
    "mask = (df['psk2']>600)\n",
    "df = df.drop(df[mask].index)"
   ]
  },
  {
   "cell_type": "code",
   "execution_count": 75,
   "metadata": {
    "executionInfo": {
     "elapsed": 5,
     "status": "ok",
     "timestamp": 1709472867330,
     "user": {
      "displayName": "Rustem Khakimullin",
      "userId": "08101597593475196688"
     },
     "user_tz": -180
    },
    "id": "8-X0qmKwfI_Z"
   },
   "outputs": [],
   "source": [
    "mask = (df['sum2']>5e6)\n",
    "df = df.drop(df[mask].index)"
   ]
  },
  {
   "cell_type": "code",
   "execution_count": 76,
   "metadata": {
    "executionInfo": {
     "elapsed": 5,
     "status": "ok",
     "timestamp": 1709472867330,
     "user": {
      "displayName": "Rustem Khakimullin",
      "userId": "08101597593475196688"
     },
     "user_tz": -180
    },
    "id": "lXapLtKXfqvU"
   },
   "outputs": [],
   "source": [
    "mask = (df['number2']>6e5)\n",
    "df = df.drop(df[mask].index)"
   ]
  },
  {
   "cell_type": "code",
   "execution_count": 77,
   "metadata": {
    "executionInfo": {
     "elapsed": 4,
     "status": "ok",
     "timestamp": 1709472867330,
     "user": {
      "displayName": "Rustem Khakimullin",
      "userId": "08101597593475196688"
     },
     "user_tz": -180
    },
    "id": "cTKRWS2Jfqx8"
   },
   "outputs": [],
   "source": [
    "mask = (df['portfolio_previous']>4e6)\n",
    "df = df.drop(df[mask].index)"
   ]
  },
  {
   "cell_type": "code",
   "execution_count": 78,
   "metadata": {
    "executionInfo": {
     "elapsed": 5,
     "status": "ok",
     "timestamp": 1709472867331,
     "user": {
      "displayName": "Rustem Khakimullin",
      "userId": "08101597593475196688"
     },
     "user_tz": -180
    },
    "id": "N5HJ-zWFfq06"
   },
   "outputs": [],
   "source": [
    "mask = (df['portfolio_current']>4e6)\n",
    "df = df.drop(df[mask].index)"
   ]
  },
  {
   "cell_type": "code",
   "execution_count": 79,
   "metadata": {
    "colab": {
     "base_uri": "https://localhost:8080/",
     "height": 0
    },
    "executionInfo": {
     "elapsed": 2456,
     "status": "ok",
     "timestamp": 1709472869782,
     "user": {
      "displayName": "Rustem Khakimullin",
      "userId": "08101597593475196688"
     },
     "user_tz": -180
    },
    "id": "rpr0tFSjfCEG",
    "outputId": "4ffbfd86-4975-48e4-9fcd-40a02ee4aa39"
   },
   "outputs": [
    {
     "data": {
      "image/png": "[encoded data removed]",
      "text/plain": [
       "<Figure size 1000x1000 with 9 Axes>"
      ]
     },
     "metadata": {},
     "output_type": "display_data"
    }
   ],
   "source": [
    "columns = df.columns.tolist()\n",
    "columns.pop(0)\n",
    "fig, axes = plt.subplots(3, 3, figsize=(10, 10))\n",
    "for i, column in enumerate(columns):\n",
    "    sns.boxplot(x=df[column], ax=axes[i//3][i%3])"
   ]
  },
  {
   "cell_type": "markdown",
   "metadata": {
    "id": "xpypI5Roedvc"
   },
   "source": [
    ">>## **Удаление выбросов без логарифма (жестко, score падает до 61)**"
   ]
  },
  {
   "cell_type": "code",
   "execution_count": 107,
   "metadata": {
    "colab": {
     "base_uri": "https://localhost:8080/",
     "height": 0
    },
    "executionInfo": {
     "elapsed": 1612,
     "status": "ok",
     "timestamp": 1709472925084,
     "user": {
      "displayName": "Rustem Khakimullin",
      "userId": "08101597593475196688"
     },
     "user_tz": -180
    },
    "id": "S7Ros02Qpab0",
    "outputId": "3c334b94-025e-4794-95e2-b040e1611020"
   },
   "outputs": [
    {
     "data": {
      "image/png": "[encoded data removed]",
      "text/plain": [
       "<Figure size 1000x1000 with 9 Axes>"
      ]
     },
     "metadata": {},
     "output_type": "display_data"
    }
   ],
   "source": [
    "columns = df.columns.tolist()\n",
    "columns.pop()\n",
    "fig, axes = plt.subplots(3, 3, figsize=(10, 10))\n",
    "for i, column in enumerate(columns):\n",
    "    #sns.boxplot(x=df[column], ax=axes[i//3][i%3])\n",
    "    sns.boxplot(x=df[df[column]!=0][column], ax=axes[i//3][i%3])"
   ]
  },
  {
   "cell_type": "code",
   "execution_count": 108,
   "metadata": {
    "colab": {
     "base_uri": "https://localhost:8080/"
    },
    "executionInfo": {
     "elapsed": 6,
     "status": "ok",
     "timestamp": 1709472925085,
     "user": {
      "displayName": "Rustem Khakimullin",
      "userId": "08101597593475196688"
     },
     "user_tz": -180
    },
    "id": "oEYC-9ApcP1C",
    "outputId": "ce54ce72-92fb-4a65-d042-1a83244c029d"
   },
   "outputs": [
    {
     "name": "stdout",
     "output_type": "stream",
     "text": [
      "psk1                    18\n",
      "sum1                   140\n",
      "number1                139\n",
      "psk2                   474\n",
      "sum2                  3021\n",
      "number2               2766\n",
      "portfolio_previous    3195\n",
      "portfolio_current     3191\n",
      "quarter                  0\n",
      "yaear                    0\n",
      "dtype: int64\n",
      "(29115, 10)\n"
     ]
    }
   ],
   "source": [
    "columns = df.columns.tolist()\n",
    "for column in columns:\n",
    "    df_tmp = pd.DataFrame(df[df[column]>0][column])\n",
    "    Q1 = np.quantile(df_tmp[column],0.25)\n",
    "    Q3 = np.quantile(df_tmp[column],0.75)\n",
    "    IQR = Q3 - Q1\n",
    "\n",
    "    LowerWhisker = Q1 - 1.5*IQR\n",
    "    UpperWhisker = Q3 + 1.5*IQR\n",
    "    filter_condition = (df[column] != 0) & (\n",
    "                (df[column] < LowerWhisker) |\n",
    "                (df[column] > UpperWhisker))\n",
    "    df.loc[filter_condition, column] = np.nan\n",
    "print(df.isna().sum())\n",
    "print(df.shape)"
   ]
  },
  {
   "cell_type": "code",
   "execution_count": 109,
   "metadata": {
    "colab": {
     "base_uri": "https://localhost:8080/"
    },
    "executionInfo": {
     "elapsed": 5,
     "status": "ok",
     "timestamp": 1709472925085,
     "user": {
      "displayName": "Rustem Khakimullin",
      "userId": "08101597593475196688"
     },
     "user_tz": -180
    },
    "id": "NZfNvChKciWW",
    "outputId": "53ff9bc5-39c1-49d0-cd8d-e2fb3b500c66"
   },
   "outputs": [
    {
     "name": "stdout",
     "output_type": "stream",
     "text": [
      "psk1                  0\n",
      "sum1                  0\n",
      "number1               0\n",
      "psk2                  0\n",
      "sum2                  0\n",
      "number2               0\n",
      "portfolio_previous    0\n",
      "portfolio_current     0\n",
      "quarter               0\n",
      "yaear                 0\n",
      "dtype: int64\n",
      "(24151, 10)\n"
     ]
    }
   ],
   "source": [
    "df = df.dropna(subset=columns)\n",
    "print(df.isna().sum())\n",
    "print(df.shape)"
   ]
  },
  {
   "cell_type": "code",
   "execution_count": 110,
   "metadata": {
    "colab": {
     "base_uri": "https://localhost:8080/",
     "height": 0
    },
    "executionInfo": {
     "elapsed": 1613,
     "status": "ok",
     "timestamp": 1709472926693,
     "user": {
      "displayName": "Rustem Khakimullin",
      "userId": "08101597593475196688"
     },
     "user_tz": -180
    },
    "id": "X-HJF0tpcioO",
    "outputId": "d5331405-e8fa-4f22-868e-187e9815da54"
   },
   "outputs": [
    {
     "data": {
      "image/png": "[encoded data removed]",
      "text/plain": [
       "<Figure size 1000x1000 with 9 Axes>"
      ]
     },
     "metadata": {},
     "output_type": "display_data"
    }
   ],
   "source": [
    "columns = df.columns.tolist()\n",
    "columns.pop()\n",
    "fig, axes = plt.subplots(3, 3, figsize=(10, 10))\n",
    "for i, column in enumerate(columns):\n",
    "    #sns.boxplot(x=df[column], ax=axes[i//3][i%3])\n",
    "    sns.boxplot(x=df[df[column]!=0][column], ax=axes[i//3][i%3])"
   ]
  },
  {
   "cell_type": "markdown",
   "metadata": {
    "id": "goNi9A-_cLwj"
   },
   "source": [
    ">>## **В логарифм**"
   ]
  },
  {
   "cell_type": "code",
   "execution_count": null,
   "metadata": {
    "colab": {
     "base_uri": "https://localhost:8080/"
    },
    "executionInfo": {
     "elapsed": 1812,
     "status": "ok",
     "timestamp": 1700930937770,
     "user": {
      "displayName": "Рустем Хакимуллин",
      "userId": "08101597593475196688"
     },
     "user_tz": -180
    },
    "id": "aobZKa-S2k_a",
    "outputId": "08f93dc3-9f2f-4e7a-b071-88832cde3bae"
   },
   "outputs": [
    {
     "data": {
      "image/png": "[encoded data removed]",
      "text/plain": [
       "<Figure size 1000x1000 with 9 Axes>"
      ]
     },
     "metadata": {},
     "output_type": "display_data"
    }
   ],
   "source": [
    "columns = df.columns.tolist()\n",
    "columns.pop(9)\n",
    "fig, axes = plt.subplots(3, 3, figsize=(10, 10))\n",
    "for i, column in enumerate(columns):\n",
    "  sns.boxplot(x=df[df[column]!=0][column], ax=axes[i//3][i%3])"
   ]
  },
  {
   "cell_type": "code",
   "execution_count": null,
   "metadata": {
    "colab": {
     "base_uri": "https://localhost:8080/"
    },
    "executionInfo": {
     "elapsed": 9,
     "status": "ok",
     "timestamp": 1700930937770,
     "user": {
      "displayName": "Рустем Хакимуллин",
      "userId": "08101597593475196688"
     },
     "user_tz": -180
    },
    "id": "yUhYzKvi1gQ4",
    "outputId": "83010684-efee-43e0-9684-583ee11b9ba5"
   },
   "outputs": [
    {
     "data": {
      "application/vnd.google.colaboratory.intrinsic+json": {
       "type": "string"
      },
      "text/plain": [
       "\"\\ncolumns = df.columns.tolist()\\ncolumns.pop(9)\\ncolumns.pop(8)\\nfig, axes = plt.subplots(3, 3, figsize=(10, 10))\\nfor i, column in enumerate(columns):\\n  print(f'i={i}  column={column}')\\n  sns.histplot(df[df[column]!=0][column], kde=True, ax=axes[i//3][i%3])\\n\""
      ]
     },
     "execution_count": 117,
     "metadata": {},
     "output_type": "execute_result"
    }
   ],
   "source": [
    "'''\n",
    "columns = df.columns.tolist()\n",
    "columns.pop(9)\n",
    "columns.pop(8)\n",
    "fig, axes = plt.subplots(3, 3, figsize=(10, 10))\n",
    "for i, column in enumerate(columns):\n",
    "  print(f'i={i}  column={column}')\n",
    "  sns.histplot(df[df[column]!=0][column], kde=True, ax=axes[i//3][i%3])\n",
    "'''"
   ]
  },
  {
   "cell_type": "code",
   "execution_count": null,
   "metadata": {
    "id": "EMtuxnZVeiyD"
   },
   "outputs": [],
   "source": [
    "def get_log(x):\n",
    "    return math.log(x) if x else 0"
   ]
  },
  {
   "cell_type": "code",
   "execution_count": null,
   "metadata": {
    "id": "sFaDP2PgcPEQ"
   },
   "outputs": [],
   "source": [
    "columns = ['sum1','number1','sum2','number2','portfolio_previous','portfolio_current']\n",
    "for column in columns:\n",
    "  df[column] = df.apply(lambda x: get_log(x[column]), axis=1)"
   ]
  },
  {
   "cell_type": "code",
   "execution_count": null,
   "metadata": {
    "colab": {
     "base_uri": "https://localhost:8080/"
    },
    "executionInfo": {
     "elapsed": 833,
     "status": "ok",
     "timestamp": 1700930939972,
     "user": {
      "displayName": "Рустем Хакимуллин",
      "userId": "08101597593475196688"
     },
     "user_tz": -180
    },
    "id": "10r7moV6ek4c",
    "outputId": "4c688076-3e37-466f-d34d-90e0bf8b8849"
   },
   "outputs": [
    {
     "data": {
      "image/png": "[encoded data removed]",
      "text/plain": [
       "<Figure size 1000x1000 with 9 Axes>"
      ]
     },
     "metadata": {},
     "output_type": "display_data"
    }
   ],
   "source": [
    "columns = df.columns.tolist()\n",
    "columns.pop(9)\n",
    "fig, axes = plt.subplots(3, 3, figsize=(10, 10))\n",
    "for i, column in enumerate(columns):\n",
    "  sns.boxplot(x=df[df[column]!=0][column], ax=axes[i//3][i%3])"
   ]
  },
  {
   "cell_type": "markdown",
   "metadata": {
    "id": "t1P1Lo8qGyHE"
   },
   "source": [
    ">>## **Удаление выбросов c логарифмом**"
   ]
  },
  {
   "cell_type": "code",
   "execution_count": null,
   "metadata": {
    "id": "Pl9QEDkxXIIj"
   },
   "outputs": [],
   "source": [
    "# ==============================\n",
    "# Сначала удаляем выбросы по ПСК\n",
    "# ==============================\n",
    "mask = (df['psk1']>300)\n",
    "df = df.drop(df[mask].index)\n",
    "mask = (df['psk2']>300)\n",
    "df = df.drop(df[mask].index)"
   ]
  },
  {
   "cell_type": "code",
   "execution_count": null,
   "metadata": {
    "colab": {
     "base_uri": "https://localhost:8080/"
    },
    "executionInfo": {
     "elapsed": 4,
     "status": "ok",
     "timestamp": 1700930945024,
     "user": {
      "displayName": "Рустем Хакимуллин",
      "userId": "08101597593475196688"
     },
     "user_tz": -180
    },
    "id": "Iwxi_lvXXboh",
    "outputId": "a3acc184-e08e-4c9b-c324-b923cb9d3c96"
   },
   "outputs": [
    {
     "name": "stdout",
     "output_type": "stream",
     "text": [
      "psk1                    0\n",
      "sum1                   18\n",
      "number1                 1\n",
      "psk2                    0\n",
      "sum2                  532\n",
      "number2               452\n",
      "portfolio_previous    439\n",
      "portfolio_current     446\n",
      "quarter                 0\n",
      "yaear                   0\n",
      "dtype: int64\n",
      "(29098, 10)\n"
     ]
    }
   ],
   "source": [
    "columns = ['sum1','number1','sum2','number2','portfolio_previous','portfolio_current']\n",
    "for column in columns:\n",
    "    df_tmp = pd.DataFrame(df[df[column]>0][column])\n",
    "    Q1 = np.quantile(df_tmp[column],0.25)\n",
    "    Q3 = np.quantile(df_tmp[column],0.75)\n",
    "    IQR = Q3 - Q1\n",
    "\n",
    "    LowerWhisker = Q1 - 1.5*IQR\n",
    "    UpperWhisker = Q3 + 1.5*IQR\n",
    "    filter_condition = (df[column] != 0) & (\n",
    "                (df[column] < LowerWhisker) |\n",
    "                (df[column] > UpperWhisker))\n",
    "    df.loc[filter_condition, column] = np.nan\n",
    "print(df.isna().sum())\n",
    "print(df.shape)"
   ]
  },
  {
   "cell_type": "code",
   "execution_count": null,
   "metadata": {
    "colab": {
     "base_uri": "https://localhost:8080/"
    },
    "executionInfo": {
     "elapsed": 5,
     "status": "ok",
     "timestamp": 1700930947870,
     "user": {
      "displayName": "Рустем Хакимуллин",
      "userId": "08101597593475196688"
     },
     "user_tz": -180
    },
    "id": "WSQZyGNUU3sG",
    "outputId": "58b2e7d9-47db-4870-8c03-40521b6d23d8"
   },
   "outputs": [
    {
     "name": "stdout",
     "output_type": "stream",
     "text": [
      "psk1                  0\n",
      "sum1                  0\n",
      "number1               0\n",
      "psk2                  0\n",
      "sum2                  0\n",
      "number2               0\n",
      "portfolio_previous    0\n",
      "portfolio_current     0\n",
      "quarter               0\n",
      "yaear                 0\n",
      "dtype: int64\n",
      "(28059, 10)\n"
     ]
    }
   ],
   "source": [
    "df = df.dropna(subset=columns)\n",
    "print(df.isna().sum())\n",
    "print(df.shape)"
   ]
  },
  {
   "cell_type": "code",
   "execution_count": null,
   "metadata": {
    "colab": {
     "base_uri": "https://localhost:8080/",
     "height": 850
    },
    "executionInfo": {
     "elapsed": 1537,
     "status": "ok",
     "timestamp": 1700930951553,
     "user": {
      "displayName": "Рустем Хакимуллин",
      "userId": "08101597593475196688"
     },
     "user_tz": -180
    },
    "id": "7MW_qfEzU9mf",
    "outputId": "8f58f3a0-9ae6-407e-b2a2-1e35e0dbaca0"
   },
   "outputs": [
    {
     "data": {
      "image/png": "[encoded data removed]",
      "text/plain": [
       "<Figure size 1000x1000 with 9 Axes>"
      ]
     },
     "metadata": {},
     "output_type": "display_data"
    }
   ],
   "source": [
    "columns = df.columns.tolist()\n",
    "columns.pop(9)\n",
    "fig, axes = plt.subplots(3, 3, figsize=(10, 10))\n",
    "for i, column in enumerate(columns):\n",
    "    x_series=df[df[column]!=0][column]\n",
    "    sns.boxplot(x=x_series, ax=axes[i//3][i%3])"
   ]
  },
  {
   "cell_type": "code",
   "execution_count": null,
   "metadata": {
    "id": "8lTd6E6lU9o-"
   },
   "outputs": [],
   "source": []
  },
  {
   "cell_type": "code",
   "execution_count": null,
   "metadata": {
    "id": "snbOS9CEU9re"
   },
   "outputs": [],
   "source": []
  },
  {
   "cell_type": "code",
   "execution_count": null,
   "metadata": {
    "id": "GgzE9X5QU9uO"
   },
   "outputs": [],
   "source": []
  },
  {
   "cell_type": "code",
   "execution_count": null,
   "metadata": {
    "id": "Gk7Q6jahU9w5"
   },
   "outputs": [],
   "source": []
  },
  {
   "cell_type": "code",
   "execution_count": null,
   "metadata": {
    "id": "eZktOQmoU9zh"
   },
   "outputs": [],
   "source": []
  },
  {
   "cell_type": "code",
   "execution_count": null,
   "metadata": {
    "id": "CBhcV3j7ek7Q"
   },
   "outputs": [],
   "source": []
  },
  {
   "cell_type": "code",
   "execution_count": null,
   "metadata": {
    "id": "__eKDMbOek-Y"
   },
   "outputs": [],
   "source": []
  },
  {
   "cell_type": "markdown",
   "metadata": {
    "id": "oMt23WeayA-a"
   },
   "source": [
    "# **СТРОИМ МОДЕЛЬ ЛИНЕЙНОЙ РЕГРЕССИИ**"
   ]
  },
  {
   "cell_type": "markdown",
   "metadata": {
    "id": "QkJYZW0oHjkF"
   },
   "source": [
    ">>## **Обязательная часть**"
   ]
  },
  {
   "cell_type": "code",
   "execution_count": null,
   "metadata": {
    "id": "VCKb3eYSx_lV"
   },
   "outputs": [],
   "source": [
    "from sklearn.linear_model import LinearRegression\n",
    "from sklearn.model_selection import train_test_split\n",
    "model = LinearRegression()"
   ]
  },
  {
   "cell_type": "code",
   "execution_count": null,
   "metadata": {
    "id": "NeRMXgXdx9kr"
   },
   "outputs": [],
   "source": [
    "features = df.drop(['portfolio_current'], axis=1)\n",
    "targets = df['portfolio_current']"
   ]
  },
  {
   "cell_type": "code",
   "execution_count": null,
   "metadata": {
    "id": "F_WPwRwix9nP"
   },
   "outputs": [],
   "source": [
    "x_train, x_test, y_train, y_test = train_test_split(features, targets, test_size=0.25, random_state=0)"
   ]
  },
  {
   "cell_type": "code",
   "execution_count": null,
   "metadata": {
    "colab": {
     "base_uri": "https://localhost:8080/",
     "height": 74
    },
    "executionInfo": {
     "elapsed": 18,
     "status": "ok",
     "timestamp": 1705431715285,
     "user": {
      "displayName": "Rustem Khakimullin",
      "userId": "08101597593475196688"
     },
     "user_tz": -180
    },
    "id": "ihpFhUgpx9qK",
    "outputId": "c3129326-c25c-416e-81ec-3bf3f302b4ae"
   },
   "outputs": [
    {
     "data": {
      "text/html": [
       "<style>#sk-container-id-3 {color: black;background-color: white;}#sk-container-id-3 pre{padding: 0;}#sk-container-id-3 div.sk-toggleable {background-color: white;}#sk-container-id-3 label.sk-toggleable__label {cursor: pointer;display: block;width: 100%;margin-bottom: 0;padding: 0.3em;box-sizing: border-box;text-align: center;}#sk-container-id-3 label.sk-toggleable__label-arrow:before {content: \"▸\";float: left;margin-right: 0.25em;color: #696969;}#sk-container-id-3 label.sk-toggleable__label-arrow:hover:before {color: black;}#sk-container-id-3 div.sk-estimator:hover label.sk-toggleable__label-arrow:before {color: black;}#sk-container-id-3 div.sk-toggleable__content {max-height: 0;max-width: 0;overflow: hidden;text-align: left;background-color: #f0f8ff;}#sk-container-id-3 div.sk-toggleable__content pre {margin: 0.2em;color: black;border-radius: 0.25em;background-color: #f0f8ff;}#sk-container-id-3 input.sk-toggleable__control:checked~div.sk-toggleable__content {max-height: 200px;max-width: 100%;overflow: auto;}#sk-container-id-3 input.sk-toggleable__control:checked~label.sk-toggleable__label-arrow:before {content: \"▾\";}#sk-container-id-3 div.sk-estimator input.sk-toggleable__control:checked~label.sk-toggleable__label {background-color: #d4ebff;}#sk-container-id-3 div.sk-label input.sk-toggleable__control:checked~label.sk-toggleable__label {background-color: #d4ebff;}#sk-container-id-3 input.sk-hidden--visually {border: 0;clip: rect(1px 1px 1px 1px);clip: rect(1px, 1px, 1px, 1px);height: 1px;margin: -1px;overflow: hidden;padding: 0;position: absolute;width: 1px;}#sk-container-id-3 div.sk-estimator {font-family: monospace;background-color: #f0f8ff;border: 1px dotted black;border-radius: 0.25em;box-sizing: border-box;margin-bottom: 0.5em;}#sk-container-id-3 div.sk-estimator:hover {background-color: #d4ebff;}#sk-container-id-3 div.sk-parallel-item::after {content: \"\";width: 100%;border-bottom: 1px solid gray;flex-grow: 1;}#sk-container-id-3 div.sk-label:hover label.sk-toggleable__label {background-color: #d4ebff;}#sk-container-id-3 div.sk-serial::before {content: \"\";position: absolute;border-left: 1px solid gray;box-sizing: border-box;top: 0;bottom: 0;left: 50%;z-index: 0;}#sk-container-id-3 div.sk-serial {display: flex;flex-direction: column;align-items: center;background-color: white;padding-right: 0.2em;padding-left: 0.2em;position: relative;}#sk-container-id-3 div.sk-item {position: relative;z-index: 1;}#sk-container-id-3 div.sk-parallel {display: flex;align-items: stretch;justify-content: center;background-color: white;position: relative;}#sk-container-id-3 div.sk-item::before, #sk-container-id-3 div.sk-parallel-item::before {content: \"\";position: absolute;border-left: 1px solid gray;box-sizing: border-box;top: 0;bottom: 0;left: 50%;z-index: -1;}#sk-container-id-3 div.sk-parallel-item {display: flex;flex-direction: column;z-index: 1;position: relative;background-color: white;}#sk-container-id-3 div.sk-parallel-item:first-child::after {align-self: flex-end;width: 50%;}#sk-container-id-3 div.sk-parallel-item:last-child::after {align-self: flex-start;width: 50%;}#sk-container-id-3 div.sk-parallel-item:only-child::after {width: 0;}#sk-container-id-3 div.sk-dashed-wrapped {border: 1px dashed gray;margin: 0 0.4em 0.5em 0.4em;box-sizing: border-box;padding-bottom: 0.4em;background-color: white;}#sk-container-id-3 div.sk-label label {font-family: monospace;font-weight: bold;display: inline-block;line-height: 1.2em;}#sk-container-id-3 div.sk-label-container {text-align: center;}#sk-container-id-3 div.sk-container {/* jupyter's `normalize.less` sets `[hidden] { display: none; }` but bootstrap.min.css set `[hidden] { display: none !important; }` so we also need the `!important` here to be able to override the default hidden behavior on the sphinx rendered scikit-learn.org. See: https://github.com/scikit-learn/scikit-learn/issues/21755 */display: inline-block !important;position: relative;}#sk-container-id-3 div.sk-text-repr-fallback {display: none;}</style><div id=\"sk-container-id-3\" class=\"sk-top-container\"><div class=\"sk-text-repr-fallback\"><pre>LinearRegression()</pre><b>In a Jupyter environment, please rerun this cell to show the HTML representation or trust the notebook. <br />On GitHub, the HTML representation is unable to render, please try loading this page with nbviewer.org.</b></div><div class=\"sk-container\" hidden><div class=\"sk-item\"><div class=\"sk-estimator sk-toggleable\"><input class=\"sk-toggleable__control sk-hidden--visually\" id=\"sk-estimator-id-3\" type=\"checkbox\" checked><label for=\"sk-estimator-id-3\" class=\"sk-toggleable__label sk-toggleable__label-arrow\">LinearRegression</label><div class=\"sk-toggleable__content\"><pre>LinearRegression()</pre></div></div></div></div></div>"
      ],
      "text/plain": [
       "LinearRegression()"
      ]
     },
     "execution_count": 48,
     "metadata": {},
     "output_type": "execute_result"
    }
   ],
   "source": [
    "model.fit(x_train, y_train)"
   ]
  },
  {
   "cell_type": "code",
   "execution_count": null,
   "metadata": {
    "colab": {
     "base_uri": "https://localhost:8080/"
    },
    "executionInfo": {
     "elapsed": 15,
     "status": "ok",
     "timestamp": 1705431715285,
     "user": {
      "displayName": "Rustem Khakimullin",
      "userId": "08101597593475196688"
     },
     "user_tz": -180
    },
    "id": "7oz_gNWix9su",
    "outputId": "0a26528d-a625-4ed6-e3c1-790a59f7dd0c"
   },
   "outputs": [
    {
     "data": {
      "text/plain": [
       "0.6113490880184003"
      ]
     },
     "execution_count": 49,
     "metadata": {},
     "output_type": "execute_result"
    }
   ],
   "source": [
    "model.score(x_train, y_train)"
   ]
  },
  {
   "cell_type": "code",
   "execution_count": null,
   "metadata": {
    "colab": {
     "base_uri": "https://localhost:8080/"
    },
    "executionInfo": {
     "elapsed": 14,
     "status": "ok",
     "timestamp": 1705431715286,
     "user": {
      "displayName": "Rustem Khakimullin",
      "userId": "08101597593475196688"
     },
     "user_tz": -180
    },
    "id": "qFKDtcPyx9vg",
    "outputId": "0a1055e8-3b73-4405-e849-cdd9f52e29d1"
   },
   "outputs": [
    {
     "data": {
      "text/plain": [
       "0.6404281389682156"
      ]
     },
     "execution_count": 50,
     "metadata": {},
     "output_type": "execute_result"
    }
   ],
   "source": [
    "model.score(x_test, y_test)"
   ]
  },
  {
   "cell_type": "markdown",
   "metadata": {
    "id": "ZgH0sCqgl72D"
   },
   "source": [
    "**Анализ результатов**"
   ]
  },
  {
   "cell_type": "code",
   "execution_count": null,
   "metadata": {
    "colab": {
     "base_uri": "https://localhost:8080/",
     "height": 331
    },
    "executionInfo": {
     "elapsed": 392,
     "status": "ok",
     "timestamp": 1705431715666,
     "user": {
      "displayName": "Rustem Khakimullin",
      "userId": "08101597593475196688"
     },
     "user_tz": -180
    },
    "id": "PAGxI_dDxDpi",
    "outputId": "86811951-3ca8-4104-e994-663aa958cd5f"
   },
   "outputs": [
    {
     "data": {
      "text/html": [
       "\n",
       "  <div id=\"df-ff354a92-e576-4ad6-984e-96e34319728f\" class=\"colab-df-container\">\n",
       "    <div>\n",
       "<style scoped>\n",
       "    .dataframe tbody tr th:only-of-type {\n",
       "        vertical-align: middle;\n",
       "    }\n",
       "\n",
       "    .dataframe tbody tr th {\n",
       "        vertical-align: top;\n",
       "    }\n",
       "\n",
       "    .dataframe thead th {\n",
       "        text-align: right;\n",
       "    }\n",
       "</style>\n",
       "<table border=\"1\" class=\"dataframe\">\n",
       "  <thead>\n",
       "    <tr style=\"text-align: right;\">\n",
       "      <th></th>\n",
       "      <th>Coefficient</th>\n",
       "    </tr>\n",
       "  </thead>\n",
       "  <tbody>\n",
       "    <tr>\n",
       "      <th>psk1</th>\n",
       "      <td>5.236654</td>\n",
       "    </tr>\n",
       "    <tr>\n",
       "      <th>sum1</th>\n",
       "      <td>0.484319</td>\n",
       "    </tr>\n",
       "    <tr>\n",
       "      <th>number1</th>\n",
       "      <td>-16.943509</td>\n",
       "    </tr>\n",
       "    <tr>\n",
       "      <th>psk2</th>\n",
       "      <td>1.768857</td>\n",
       "    </tr>\n",
       "    <tr>\n",
       "      <th>sum2</th>\n",
       "      <td>0.314376</td>\n",
       "    </tr>\n",
       "    <tr>\n",
       "      <th>number2</th>\n",
       "      <td>0.127638</td>\n",
       "    </tr>\n",
       "    <tr>\n",
       "      <th>portfolio_previous</th>\n",
       "      <td>0.459169</td>\n",
       "    </tr>\n",
       "    <tr>\n",
       "      <th>quarter</th>\n",
       "      <td>-159.697059</td>\n",
       "    </tr>\n",
       "    <tr>\n",
       "      <th>yaear</th>\n",
       "      <td>-402.011212</td>\n",
       "    </tr>\n",
       "  </tbody>\n",
       "</table>\n",
       "</div>\n",
       "    <div class=\"colab-df-buttons\">\n",
       "\n",
       "  <div class=\"colab-df-container\">\n",
       "    <button class=\"colab-df-convert\" onclick=\"convertToInteractive('df-ff354a92-e576-4ad6-984e-96e34319728f')\"\n",
       "            title=\"Convert this dataframe to an interactive table.\"\n",
       "            style=\"display:none;\">\n",
       "\n",
       "  <svg xmlns=\"http://www.w3.org/2000/svg\" height=\"24px\" viewBox=\"0 -960 960 960\">\n",
       "    <path d=\"M120-120v-720h720v720H120Zm60-500h600v-160H180v160Zm220 220h160v-160H400v160Zm0 220h160v-160H400v160ZM180-400h160v-160H180v160Zm440 0h160v-160H620v160ZM180-180h160v-160H180v160Zm440 0h160v-160H620v160Z\"/>\n",
       "  </svg>\n",
       "    </button>\n",
       "\n",
       "  <style>\n",
       "    .colab-df-container {\n",
       "      display:flex;\n",
       "      gap: 12px;\n",
       "    }\n",
       "\n",
       "    .colab-df-convert {\n",
       "      background-color: #E8F0FE;\n",
       "      border: none;\n",
       "      border-radius: 50%;\n",
       "      cursor: pointer;\n",
       "      display: none;\n",
       "      fill: #1967D2;\n",
       "      height: 32px;\n",
       "      padding: 0 0 0 0;\n",
       "      width: 32px;\n",
       "    }\n",
       "\n",
       "    .colab-df-convert:hover {\n",
       "      background-color: #E2EBFA;\n",
       "      box-shadow: 0px 1px 2px rgba(60, 64, 67, 0.3), 0px 1px 3px 1px rgba(60, 64, 67, 0.15);\n",
       "      fill: #174EA6;\n",
       "    }\n",
       "\n",
       "    .colab-df-buttons div {\n",
       "      margin-bottom: 4px;\n",
       "    }\n",
       "\n",
       "    [theme=dark] .colab-df-convert {\n",
       "      background-color: #3B4455;\n",
       "      fill: #D2E3FC;\n",
       "    }\n",
       "\n",
       "    [theme=dark] .colab-df-convert:hover {\n",
       "      background-color: #434B5C;\n",
       "      box-shadow: 0px 1px 3px 1px rgba(0, 0, 0, 0.15);\n",
       "      filter: drop-shadow(0px 1px 2px rgba(0, 0, 0, 0.3));\n",
       "      fill: #FFFFFF;\n",
       "    }\n",
       "  </style>\n",
       "\n",
       "    <script>\n",
       "      const buttonEl =\n",
       "        document.querySelector('#df-ff354a92-e576-4ad6-984e-96e34319728f button.colab-df-convert');\n",
       "      buttonEl.style.display =\n",
       "        google.colab.kernel.accessAllowed ? 'block' : 'none';\n",
       "\n",
       "      async function convertToInteractive(key) {\n",
       "        const element = document.querySelector('#df-ff354a92-e576-4ad6-984e-96e34319728f');\n",
       "        const dataTable =\n",
       "          await google.colab.kernel.invokeFunction('convertToInteractive',\n",
       "                                                    [key], {});\n",
       "        if (!dataTable) return;\n",
       "\n",
       "        const docLinkHtml = 'Like what you see? Visit the ' +\n",
       "          '<a target=\"_blank\" href=https://colab.research.google.com/notebooks/data_table.ipynb>data table notebook</a>'\n",
       "          + ' to learn more about interactive tables.';\n",
       "        element.innerHTML = '';\n",
       "        dataTable['output_type'] = 'display_data';\n",
       "        await google.colab.output.renderOutput(dataTable, element);\n",
       "        const docLink = document.createElement('div');\n",
       "        docLink.innerHTML = docLinkHtml;\n",
       "        element.appendChild(docLink);\n",
       "      }\n",
       "    </script>\n",
       "  </div>\n",
       "\n",
       "\n",
       "<div id=\"df-7b1ff00c-6122-4a3e-81fb-5529c552c667\">\n",
       "  <button class=\"colab-df-quickchart\" onclick=\"quickchart('df-7b1ff00c-6122-4a3e-81fb-5529c552c667')\"\n",
       "            title=\"Suggest charts\"\n",
       "            style=\"display:none;\">\n",
       "\n",
       "<svg xmlns=\"http://www.w3.org/2000/svg\" height=\"24px\"viewBox=\"0 0 24 24\"\n",
       "     width=\"24px\">\n",
       "    <g>\n",
       "        <path d=\"M19 3H5c-1.1 0-2 .9-2 2v14c0 1.1.9 2 2 2h14c1.1 0 2-.9 2-2V5c0-1.1-.9-2-2-2zM9 17H7v-7h2v7zm4 0h-2V7h2v10zm4 0h-2v-4h2v4z\"/>\n",
       "    </g>\n",
       "</svg>\n",
       "  </button>\n",
       "\n",
       "<style>\n",
       "  .colab-df-quickchart {\n",
       "      --bg-color: #E8F0FE;\n",
       "      --fill-color: #1967D2;\n",
       "      --hover-bg-color: #E2EBFA;\n",
       "      --hover-fill-color: #174EA6;\n",
       "      --disabled-fill-color: #AAA;\n",
       "      --disabled-bg-color: #DDD;\n",
       "  }\n",
       "\n",
       "  [theme=dark] .colab-df-quickchart {\n",
       "      --bg-color: #3B4455;\n",
       "      --fill-color: #D2E3FC;\n",
       "      --hover-bg-color: #434B5C;\n",
       "      --hover-fill-color: #FFFFFF;\n",
       "      --disabled-bg-color: #3B4455;\n",
       "      --disabled-fill-color: #666;\n",
       "  }\n",
       "\n",
       "  .colab-df-quickchart {\n",
       "    background-color: var(--bg-color);\n",
       "    border: none;\n",
       "    border-radius: 50%;\n",
       "    cursor: pointer;\n",
       "    display: none;\n",
       "    fill: var(--fill-color);\n",
       "    height: 32px;\n",
       "    padding: 0;\n",
       "    width: 32px;\n",
       "  }\n",
       "\n",
       "  .colab-df-quickchart:hover {\n",
       "    background-color: var(--hover-bg-color);\n",
       "    box-shadow: 0 1px 2px rgba(60, 64, 67, 0.3), 0 1px 3px 1px rgba(60, 64, 67, 0.15);\n",
       "    fill: var(--button-hover-fill-color);\n",
       "  }\n",
       "\n",
       "  .colab-df-quickchart-complete:disabled,\n",
       "  .colab-df-quickchart-complete:disabled:hover {\n",
       "    background-color: var(--disabled-bg-color);\n",
       "    fill: var(--disabled-fill-color);\n",
       "    box-shadow: none;\n",
       "  }\n",
       "\n",
       "  .colab-df-spinner {\n",
       "    border: 2px solid var(--fill-color);\n",
       "    border-color: transparent;\n",
       "    border-bottom-color: var(--fill-color);\n",
       "    animation:\n",
       "      spin 1s steps(1) infinite;\n",
       "  }\n",
       "\n",
       "  @keyframes spin {\n",
       "    0% {\n",
       "      border-color: transparent;\n",
       "      border-bottom-color: var(--fill-color);\n",
       "      border-left-color: var(--fill-color);\n",
       "    }\n",
       "    20% {\n",
       "      border-color: transparent;\n",
       "      border-left-color: var(--fill-color);\n",
       "      border-top-color: var(--fill-color);\n",
       "    }\n",
       "    30% {\n",
       "      border-color: transparent;\n",
       "      border-left-color: var(--fill-color);\n",
       "      border-top-color: var(--fill-color);\n",
       "      border-right-color: var(--fill-color);\n",
       "    }\n",
       "    40% {\n",
       "      border-color: transparent;\n",
       "      border-right-color: var(--fill-color);\n",
       "      border-top-color: var(--fill-color);\n",
       "    }\n",
       "    60% {\n",
       "      border-color: transparent;\n",
       "      border-right-color: var(--fill-color);\n",
       "    }\n",
       "    80% {\n",
       "      border-color: transparent;\n",
       "      border-right-color: var(--fill-color);\n",
       "      border-bottom-color: var(--fill-color);\n",
       "    }\n",
       "    90% {\n",
       "      border-color: transparent;\n",
       "      border-bottom-color: var(--fill-color);\n",
       "    }\n",
       "  }\n",
       "</style>\n",
       "\n",
       "  <script>\n",
       "    async function quickchart(key) {\n",
       "      const quickchartButtonEl =\n",
       "        document.querySelector('#' + key + ' button');\n",
       "      quickchartButtonEl.disabled = true;  // To prevent multiple clicks.\n",
       "      quickchartButtonEl.classList.add('colab-df-spinner');\n",
       "      try {\n",
       "        const charts = await google.colab.kernel.invokeFunction(\n",
       "            'suggestCharts', [key], {});\n",
       "      } catch (error) {\n",
       "        console.error('Error during call to suggestCharts:', error);\n",
       "      }\n",
       "      quickchartButtonEl.classList.remove('colab-df-spinner');\n",
       "      quickchartButtonEl.classList.add('colab-df-quickchart-complete');\n",
       "    }\n",
       "    (() => {\n",
       "      let quickchartButtonEl =\n",
       "        document.querySelector('#df-7b1ff00c-6122-4a3e-81fb-5529c552c667 button');\n",
       "      quickchartButtonEl.style.display =\n",
       "        google.colab.kernel.accessAllowed ? 'block' : 'none';\n",
       "    })();\n",
       "  </script>\n",
       "</div>\n",
       "    </div>\n",
       "  </div>\n"
      ],
      "text/plain": [
       "                    Coefficient\n",
       "psk1                   5.236654\n",
       "sum1                   0.484319\n",
       "number1              -16.943509\n",
       "psk2                   1.768857\n",
       "sum2                   0.314376\n",
       "number2                0.127638\n",
       "portfolio_previous     0.459169\n",
       "quarter             -159.697059\n",
       "yaear               -402.011212"
      ]
     },
     "execution_count": 51,
     "metadata": {},
     "output_type": "execute_result"
    }
   ],
   "source": [
    "columns = x_test.columns.tolist()\n",
    "coefficients = model.coef_\n",
    "coefficient_labels = {label: coefficient for label, coefficient in zip(columns, coefficients)}\n",
    "pd.DataFrame.from_dict(coefficient_labels, orient='index', columns=['Coefficient'])\n"
   ]
  },
  {
   "cell_type": "markdown",
   "metadata": {
    "id": "2Gt2kwhcH4zX"
   },
   "source": [
    ">>## **Если был логарифм используем exp**"
   ]
  },
  {
   "cell_type": "code",
   "execution_count": null,
   "metadata": {
    "id": "Af0WDOrrIFXQ"
   },
   "outputs": [],
   "source": [
    "compared_results = pd.DataFrame({\"true_value\": y_test, \"predicted_value\": y_pred})"
   ]
  },
  {
   "cell_type": "code",
   "execution_count": null,
   "metadata": {
    "colab": {
     "base_uri": "https://localhost:8080/"
    },
    "executionInfo": {
     "elapsed": 7,
     "status": "ok",
     "timestamp": 1705431715667,
     "user": {
      "displayName": "Rustem Khakimullin",
      "userId": "08101597593475196688"
     },
     "user_tz": -180
    },
    "id": "AogLopG_IFaR",
    "outputId": "b19adba8-9b68-46d8-a983-23029833d776"
   },
   "outputs": [
    {
     "name": "stderr",
     "output_type": "stream",
     "text": [
      "/usr/local/lib/python3.10/dist-packages/pandas/core/internals/blocks.py:351: RuntimeWarning: overflow encountered in exp\n",
      "  result = func(self.values, **kwargs)\n"
     ]
    }
   ],
   "source": [
    "compared_results[['true_value', 'predicted_value']] = np.exp(compared_results[['true_value', 'predicted_value']])"
   ]
  },
  {
   "cell_type": "code",
   "execution_count": null,
   "metadata": {
    "id": "zYMPHnXDJQMw"
   },
   "outputs": [],
   "source": [
    "compared_results['diference'] = np.abs(compared_results['true_value'] - compared_results['predicted_value'])"
   ]
  },
  {
   "cell_type": "code",
   "execution_count": null,
   "metadata": {
    "colab": {
     "base_uri": "https://localhost:8080/",
     "height": 407
    },
    "executionInfo": {
     "elapsed": 7,
     "status": "ok",
     "timestamp": 1705431715668,
     "user": {
      "displayName": "Rustem Khakimullin",
      "userId": "08101597593475196688"
     },
     "user_tz": -180
    },
    "id": "AReMeoC5JWcs",
    "outputId": "79315607-6b80-48b0-d7bd-690d19de04c3"
   },
   "outputs": [
    {
     "name": "stderr",
     "output_type": "stream",
     "text": [
      "/usr/local/lib/python3.10/dist-packages/numpy/lib/function_base.py:4527: RuntimeWarning: invalid value encountered in subtract\n",
      "  diff_b_a = subtract(b, a)\n",
      "/usr/local/lib/python3.10/dist-packages/numpy/lib/function_base.py:4527: RuntimeWarning: invalid value encountered in subtract\n",
      "  diff_b_a = subtract(b, a)\n",
      "/usr/local/lib/python3.10/dist-packages/numpy/lib/function_base.py:4527: RuntimeWarning: invalid value encountered in subtract\n",
      "  diff_b_a = subtract(b, a)\n"
     ]
    },
    {
     "data": {
      "text/html": [
       "\n",
       "  <div id=\"df-3e29f0e2-d42a-41db-b50d-309cac371ecd\" class=\"colab-df-container\">\n",
       "    <div>\n",
       "<style scoped>\n",
       "    .dataframe tbody tr th:only-of-type {\n",
       "        vertical-align: middle;\n",
       "    }\n",
       "\n",
       "    .dataframe tbody tr th {\n",
       "        vertical-align: top;\n",
       "    }\n",
       "\n",
       "    .dataframe thead th {\n",
       "        text-align: right;\n",
       "    }\n",
       "</style>\n",
       "<table border=\"1\" class=\"dataframe\">\n",
       "  <thead>\n",
       "    <tr style=\"text-align: right;\">\n",
       "      <th></th>\n",
       "      <th>true_value</th>\n",
       "      <th>predicted_value</th>\n",
       "      <th>diference</th>\n",
       "    </tr>\n",
       "  </thead>\n",
       "  <tbody>\n",
       "    <tr>\n",
       "      <th>count</th>\n",
       "      <td>6.038000e+03</td>\n",
       "      <td>6.038000e+03</td>\n",
       "      <td>393.0</td>\n",
       "    </tr>\n",
       "    <tr>\n",
       "      <th>mean</th>\n",
       "      <td>inf</td>\n",
       "      <td>inf</td>\n",
       "      <td>inf</td>\n",
       "    </tr>\n",
       "    <tr>\n",
       "      <th>std</th>\n",
       "      <td>NaN</td>\n",
       "      <td>NaN</td>\n",
       "      <td>NaN</td>\n",
       "    </tr>\n",
       "    <tr>\n",
       "      <th>min</th>\n",
       "      <td>1.000000e+00</td>\n",
       "      <td>1.351320e-188</td>\n",
       "      <td>1.0</td>\n",
       "    </tr>\n",
       "    <tr>\n",
       "      <th>25%</th>\n",
       "      <td>1.116305e+57</td>\n",
       "      <td>3.678737e+282</td>\n",
       "      <td>NaN</td>\n",
       "    </tr>\n",
       "    <tr>\n",
       "      <th>50%</th>\n",
       "      <td>NaN</td>\n",
       "      <td>NaN</td>\n",
       "      <td>NaN</td>\n",
       "    </tr>\n",
       "    <tr>\n",
       "      <th>75%</th>\n",
       "      <td>NaN</td>\n",
       "      <td>NaN</td>\n",
       "      <td>NaN</td>\n",
       "    </tr>\n",
       "    <tr>\n",
       "      <th>max</th>\n",
       "      <td>inf</td>\n",
       "      <td>inf</td>\n",
       "      <td>inf</td>\n",
       "    </tr>\n",
       "  </tbody>\n",
       "</table>\n",
       "</div>\n",
       "    <div class=\"colab-df-buttons\">\n",
       "\n",
       "  <div class=\"colab-df-container\">\n",
       "    <button class=\"colab-df-convert\" onclick=\"convertToInteractive('df-3e29f0e2-d42a-41db-b50d-309cac371ecd')\"\n",
       "            title=\"Convert this dataframe to an interactive table.\"\n",
       "            style=\"display:none;\">\n",
       "\n",
       "  <svg xmlns=\"http://www.w3.org/2000/svg\" height=\"24px\" viewBox=\"0 -960 960 960\">\n",
       "    <path d=\"M120-120v-720h720v720H120Zm60-500h600v-160H180v160Zm220 220h160v-160H400v160Zm0 220h160v-160H400v160ZM180-400h160v-160H180v160Zm440 0h160v-160H620v160ZM180-180h160v-160H180v160Zm440 0h160v-160H620v160Z\"/>\n",
       "  </svg>\n",
       "    </button>\n",
       "\n",
       "  <style>\n",
       "    .colab-df-container {\n",
       "      display:flex;\n",
       "      gap: 12px;\n",
       "    }\n",
       "\n",
       "    .colab-df-convert {\n",
       "      background-color: #E8F0FE;\n",
       "      border: none;\n",
       "      border-radius: 50%;\n",
       "      cursor: pointer;\n",
       "      display: none;\n",
       "      fill: #1967D2;\n",
       "      height: 32px;\n",
       "      padding: 0 0 0 0;\n",
       "      width: 32px;\n",
       "    }\n",
       "\n",
       "    .colab-df-convert:hover {\n",
       "      background-color: #E2EBFA;\n",
       "      box-shadow: 0px 1px 2px rgba(60, 64, 67, 0.3), 0px 1px 3px 1px rgba(60, 64, 67, 0.15);\n",
       "      fill: #174EA6;\n",
       "    }\n",
       "\n",
       "    .colab-df-buttons div {\n",
       "      margin-bottom: 4px;\n",
       "    }\n",
       "\n",
       "    [theme=dark] .colab-df-convert {\n",
       "      background-color: #3B4455;\n",
       "      fill: #D2E3FC;\n",
       "    }\n",
       "\n",
       "    [theme=dark] .colab-df-convert:hover {\n",
       "      background-color: #434B5C;\n",
       "      box-shadow: 0px 1px 3px 1px rgba(0, 0, 0, 0.15);\n",
       "      filter: drop-shadow(0px 1px 2px rgba(0, 0, 0, 0.3));\n",
       "      fill: #FFFFFF;\n",
       "    }\n",
       "  </style>\n",
       "\n",
       "    <script>\n",
       "      const buttonEl =\n",
       "        document.querySelector('#df-3e29f0e2-d42a-41db-b50d-309cac371ecd button.colab-df-convert');\n",
       "      buttonEl.style.display =\n",
       "        google.colab.kernel.accessAllowed ? 'block' : 'none';\n",
       "\n",
       "      async function convertToInteractive(key) {\n",
       "        const element = document.querySelector('#df-3e29f0e2-d42a-41db-b50d-309cac371ecd');\n",
       "        const dataTable =\n",
       "          await google.colab.kernel.invokeFunction('convertToInteractive',\n",
       "                                                    [key], {});\n",
       "        if (!dataTable) return;\n",
       "\n",
       "        const docLinkHtml = 'Like what you see? Visit the ' +\n",
       "          '<a target=\"_blank\" href=https://colab.research.google.com/notebooks/data_table.ipynb>data table notebook</a>'\n",
       "          + ' to learn more about interactive tables.';\n",
       "        element.innerHTML = '';\n",
       "        dataTable['output_type'] = 'display_data';\n",
       "        await google.colab.output.renderOutput(dataTable, element);\n",
       "        const docLink = document.createElement('div');\n",
       "        docLink.innerHTML = docLinkHtml;\n",
       "        element.appendChild(docLink);\n",
       "      }\n",
       "    </script>\n",
       "  </div>\n",
       "\n",
       "\n",
       "<div id=\"df-d40f1b58-e38f-4ce6-93da-58647c59bc2c\">\n",
       "  <button class=\"colab-df-quickchart\" onclick=\"quickchart('df-d40f1b58-e38f-4ce6-93da-58647c59bc2c')\"\n",
       "            title=\"Suggest charts\"\n",
       "            style=\"display:none;\">\n",
       "\n",
       "<svg xmlns=\"http://www.w3.org/2000/svg\" height=\"24px\"viewBox=\"0 0 24 24\"\n",
       "     width=\"24px\">\n",
       "    <g>\n",
       "        <path d=\"M19 3H5c-1.1 0-2 .9-2 2v14c0 1.1.9 2 2 2h14c1.1 0 2-.9 2-2V5c0-1.1-.9-2-2-2zM9 17H7v-7h2v7zm4 0h-2V7h2v10zm4 0h-2v-4h2v4z\"/>\n",
       "    </g>\n",
       "</svg>\n",
       "  </button>\n",
       "\n",
       "<style>\n",
       "  .colab-df-quickchart {\n",
       "      --bg-color: #E8F0FE;\n",
       "      --fill-color: #1967D2;\n",
       "      --hover-bg-color: #E2EBFA;\n",
       "      --hover-fill-color: #174EA6;\n",
       "      --disabled-fill-color: #AAA;\n",
       "      --disabled-bg-color: #DDD;\n",
       "  }\n",
       "\n",
       "  [theme=dark] .colab-df-quickchart {\n",
       "      --bg-color: #3B4455;\n",
       "      --fill-color: #D2E3FC;\n",
       "      --hover-bg-color: #434B5C;\n",
       "      --hover-fill-color: #FFFFFF;\n",
       "      --disabled-bg-color: #3B4455;\n",
       "      --disabled-fill-color: #666;\n",
       "  }\n",
       "\n",
       "  .colab-df-quickchart {\n",
       "    background-color: var(--bg-color);\n",
       "    border: none;\n",
       "    border-radius: 50%;\n",
       "    cursor: pointer;\n",
       "    display: none;\n",
       "    fill: var(--fill-color);\n",
       "    height: 32px;\n",
       "    padding: 0;\n",
       "    width: 32px;\n",
       "  }\n",
       "\n",
       "  .colab-df-quickchart:hover {\n",
       "    background-color: var(--hover-bg-color);\n",
       "    box-shadow: 0 1px 2px rgba(60, 64, 67, 0.3), 0 1px 3px 1px rgba(60, 64, 67, 0.15);\n",
       "    fill: var(--button-hover-fill-color);\n",
       "  }\n",
       "\n",
       "  .colab-df-quickchart-complete:disabled,\n",
       "  .colab-df-quickchart-complete:disabled:hover {\n",
       "    background-color: var(--disabled-bg-color);\n",
       "    fill: var(--disabled-fill-color);\n",
       "    box-shadow: none;\n",
       "  }\n",
       "\n",
       "  .colab-df-spinner {\n",
       "    border: 2px solid var(--fill-color);\n",
       "    border-color: transparent;\n",
       "    border-bottom-color: var(--fill-color);\n",
       "    animation:\n",
       "      spin 1s steps(1) infinite;\n",
       "  }\n",
       "\n",
       "  @keyframes spin {\n",
       "    0% {\n",
       "      border-color: transparent;\n",
       "      border-bottom-color: var(--fill-color);\n",
       "      border-left-color: var(--fill-color);\n",
       "    }\n",
       "    20% {\n",
       "      border-color: transparent;\n",
       "      border-left-color: var(--fill-color);\n",
       "      border-top-color: var(--fill-color);\n",
       "    }\n",
       "    30% {\n",
       "      border-color: transparent;\n",
       "      border-left-color: var(--fill-color);\n",
       "      border-top-color: var(--fill-color);\n",
       "      border-right-color: var(--fill-color);\n",
       "    }\n",
       "    40% {\n",
       "      border-color: transparent;\n",
       "      border-right-color: var(--fill-color);\n",
       "      border-top-color: var(--fill-color);\n",
       "    }\n",
       "    60% {\n",
       "      border-color: transparent;\n",
       "      border-right-color: var(--fill-color);\n",
       "    }\n",
       "    80% {\n",
       "      border-color: transparent;\n",
       "      border-right-color: var(--fill-color);\n",
       "      border-bottom-color: var(--fill-color);\n",
       "    }\n",
       "    90% {\n",
       "      border-color: transparent;\n",
       "      border-bottom-color: var(--fill-color);\n",
       "    }\n",
       "  }\n",
       "</style>\n",
       "\n",
       "  <script>\n",
       "    async function quickchart(key) {\n",
       "      const quickchartButtonEl =\n",
       "        document.querySelector('#' + key + ' button');\n",
       "      quickchartButtonEl.disabled = true;  // To prevent multiple clicks.\n",
       "      quickchartButtonEl.classList.add('colab-df-spinner');\n",
       "      try {\n",
       "        const charts = await google.colab.kernel.invokeFunction(\n",
       "            'suggestCharts', [key], {});\n",
       "      } catch (error) {\n",
       "        console.error('Error during call to suggestCharts:', error);\n",
       "      }\n",
       "      quickchartButtonEl.classList.remove('colab-df-spinner');\n",
       "      quickchartButtonEl.classList.add('colab-df-quickchart-complete');\n",
       "    }\n",
       "    (() => {\n",
       "      let quickchartButtonEl =\n",
       "        document.querySelector('#df-d40f1b58-e38f-4ce6-93da-58647c59bc2c button');\n",
       "      quickchartButtonEl.style.display =\n",
       "        google.colab.kernel.accessAllowed ? 'block' : 'none';\n",
       "    })();\n",
       "  </script>\n",
       "</div>\n",
       "    </div>\n",
       "  </div>\n"
      ],
      "text/plain": [
       "         true_value  predicted_value  diference\n",
       "count  6.038000e+03     6.038000e+03      393.0\n",
       "mean            inf              inf        inf\n",
       "std             NaN              NaN        NaN\n",
       "min    1.000000e+00    1.351320e-188        1.0\n",
       "25%    1.116305e+57    3.678737e+282        NaN\n",
       "50%             NaN              NaN        NaN\n",
       "75%             NaN              NaN        NaN\n",
       "max             inf              inf        inf"
      ]
     },
     "execution_count": 55,
     "metadata": {},
     "output_type": "execute_result"
    }
   ],
   "source": [
    "compared_results.describe()"
   ]
  },
  {
   "cell_type": "code",
   "execution_count": null,
   "metadata": {
    "colab": {
     "base_uri": "https://localhost:8080/",
     "height": 365
    },
    "executionInfo": {
     "elapsed": 307,
     "status": "error",
     "timestamp": 1705431715969,
     "user": {
      "displayName": "Rustem Khakimullin",
      "userId": "08101597593475196688"
     },
     "user_tz": -180
    },
    "id": "lPnTn_5qJcJM",
    "outputId": "88a069b0-d295-485f-8170-c768965c3012"
   },
   "outputs": [
    {
     "ename": "ValueError",
     "evalue": "Input contains NaN.",
     "output_type": "error",
     "traceback": [
      "\u001b[0;31m---------------------------------------------------------------------------\u001b[0m",
      "\u001b[0;31mValueError\u001b[0m                                Traceback (most recent call last)",
      "\u001b[0;32m<ipython-input-56-7f0453f3ca04>\u001b[0m in \u001b[0;36m<cell line: 1>\u001b[0;34m()\u001b[0m\n\u001b[0;32m----> 1\u001b[0;31m \u001b[0mmse\u001b[0m \u001b[0;34m=\u001b[0m \u001b[0mmean_squared_error\u001b[0m\u001b[0;34m(\u001b[0m\u001b[0mcompared_results\u001b[0m\u001b[0;34m[\u001b[0m\u001b[0;34m'true_value'\u001b[0m\u001b[0;34m]\u001b[0m\u001b[0;34m,\u001b[0m \u001b[0mcompared_results\u001b[0m\u001b[0;34m[\u001b[0m\u001b[0;34m'predicted_value'\u001b[0m\u001b[0;34m]\u001b[0m\u001b[0;34m)\u001b[0m\u001b[0;34m\u001b[0m\u001b[0;34m\u001b[0m\u001b[0m\n\u001b[0m\u001b[1;32m      2\u001b[0m \u001b[0mmath\u001b[0m\u001b[0;34m.\u001b[0m\u001b[0msqrt\u001b[0m\u001b[0;34m(\u001b[0m\u001b[0mmse\u001b[0m\u001b[0;34m)\u001b[0m\u001b[0;34m\u001b[0m\u001b[0;34m\u001b[0m\u001b[0m\n",
      "\u001b[0;32m/usr/local/lib/python3.10/dist-packages/sklearn/metrics/_regression.py\u001b[0m in \u001b[0;36mmean_squared_error\u001b[0;34m(y_true, y_pred, sample_weight, multioutput, squared)\u001b[0m\n\u001b[1;32m    440\u001b[0m     \u001b[0;36m0.825\u001b[0m\u001b[0;34m...\u001b[0m\u001b[0;34m\u001b[0m\u001b[0;34m\u001b[0m\u001b[0m\n\u001b[1;32m    441\u001b[0m     \"\"\"\n\u001b[0;32m--> 442\u001b[0;31m     y_type, y_true, y_pred, multioutput = _check_reg_targets(\n\u001b[0m\u001b[1;32m    443\u001b[0m         \u001b[0my_true\u001b[0m\u001b[0;34m,\u001b[0m \u001b[0my_pred\u001b[0m\u001b[0;34m,\u001b[0m \u001b[0mmultioutput\u001b[0m\u001b[0;34m\u001b[0m\u001b[0;34m\u001b[0m\u001b[0m\n\u001b[1;32m    444\u001b[0m     )\n",
      "\u001b[0;32m/usr/local/lib/python3.10/dist-packages/sklearn/metrics/_regression.py\u001b[0m in \u001b[0;36m_check_reg_targets\u001b[0;34m(y_true, y_pred, multioutput, dtype)\u001b[0m\n\u001b[1;32m     99\u001b[0m     \"\"\"\n\u001b[1;32m    100\u001b[0m     \u001b[0mcheck_consistent_length\u001b[0m\u001b[0;34m(\u001b[0m\u001b[0my_true\u001b[0m\u001b[0;34m,\u001b[0m \u001b[0my_pred\u001b[0m\u001b[0;34m)\u001b[0m\u001b[0;34m\u001b[0m\u001b[0;34m\u001b[0m\u001b[0m\n\u001b[0;32m--> 101\u001b[0;31m     \u001b[0my_true\u001b[0m \u001b[0;34m=\u001b[0m \u001b[0mcheck_array\u001b[0m\u001b[0;34m(\u001b[0m\u001b[0my_true\u001b[0m\u001b[0;34m,\u001b[0m \u001b[0mensure_2d\u001b[0m\u001b[0;34m=\u001b[0m\u001b[0;32mFalse\u001b[0m\u001b[0;34m,\u001b[0m \u001b[0mdtype\u001b[0m\u001b[0;34m=\u001b[0m\u001b[0mdtype\u001b[0m\u001b[0;34m)\u001b[0m\u001b[0;34m\u001b[0m\u001b[0;34m\u001b[0m\u001b[0m\n\u001b[0m\u001b[1;32m    102\u001b[0m     \u001b[0my_pred\u001b[0m \u001b[0;34m=\u001b[0m \u001b[0mcheck_array\u001b[0m\u001b[0;34m(\u001b[0m\u001b[0my_pred\u001b[0m\u001b[0;34m,\u001b[0m \u001b[0mensure_2d\u001b[0m\u001b[0;34m=\u001b[0m\u001b[0;32mFalse\u001b[0m\u001b[0;34m,\u001b[0m \u001b[0mdtype\u001b[0m\u001b[0;34m=\u001b[0m\u001b[0mdtype\u001b[0m\u001b[0;34m)\u001b[0m\u001b[0;34m\u001b[0m\u001b[0;34m\u001b[0m\u001b[0m\n\u001b[1;32m    103\u001b[0m \u001b[0;34m\u001b[0m\u001b[0m\n",
      "\u001b[0;32m/usr/local/lib/python3.10/dist-packages/sklearn/utils/validation.py\u001b[0m in \u001b[0;36mcheck_array\u001b[0;34m(array, accept_sparse, accept_large_sparse, dtype, order, copy, force_all_finite, ensure_2d, allow_nd, ensure_min_samples, ensure_min_features, estimator, input_name)\u001b[0m\n\u001b[1;32m    919\u001b[0m \u001b[0;34m\u001b[0m\u001b[0m\n\u001b[1;32m    920\u001b[0m         \u001b[0;32mif\u001b[0m \u001b[0mforce_all_finite\u001b[0m\u001b[0;34m:\u001b[0m\u001b[0;34m\u001b[0m\u001b[0;34m\u001b[0m\u001b[0m\n\u001b[0;32m--> 921\u001b[0;31m             _assert_all_finite(\n\u001b[0m\u001b[1;32m    922\u001b[0m                 \u001b[0marray\u001b[0m\u001b[0;34m,\u001b[0m\u001b[0;34m\u001b[0m\u001b[0;34m\u001b[0m\u001b[0m\n\u001b[1;32m    923\u001b[0m                 \u001b[0minput_name\u001b[0m\u001b[0;34m=\u001b[0m\u001b[0minput_name\u001b[0m\u001b[0;34m,\u001b[0m\u001b[0;34m\u001b[0m\u001b[0;34m\u001b[0m\u001b[0m\n",
      "\u001b[0;32m/usr/local/lib/python3.10/dist-packages/sklearn/utils/validation.py\u001b[0m in \u001b[0;36m_assert_all_finite\u001b[0;34m(X, allow_nan, msg_dtype, estimator_name, input_name)\u001b[0m\n\u001b[1;32m    159\u001b[0m                 \u001b[0;34m\"#estimators-that-handle-nan-values\"\u001b[0m\u001b[0;34m\u001b[0m\u001b[0;34m\u001b[0m\u001b[0m\n\u001b[1;32m    160\u001b[0m             )\n\u001b[0;32m--> 161\u001b[0;31m         \u001b[0;32mraise\u001b[0m \u001b[0mValueError\u001b[0m\u001b[0;34m(\u001b[0m\u001b[0mmsg_err\u001b[0m\u001b[0;34m)\u001b[0m\u001b[0;34m\u001b[0m\u001b[0;34m\u001b[0m\u001b[0m\n\u001b[0m\u001b[1;32m    162\u001b[0m \u001b[0;34m\u001b[0m\u001b[0m\n\u001b[1;32m    163\u001b[0m \u001b[0;34m\u001b[0m\u001b[0m\n",
      "\u001b[0;31mValueError\u001b[0m: Input contains NaN."
     ]
    }
   ],
   "source": [
    "mse = mean_squared_error(compared_results['true_value'], compared_results['predicted_value'])\n",
    "math.sqrt(mse)"
   ]
  },
  {
   "cell_type": "code",
   "execution_count": null,
   "metadata": {
    "id": "s5h62aeaJwhb"
   },
   "outputs": [],
   "source": [
    "compared_results"
   ]
  },
  {
   "cell_type": "markdown",
   "metadata": {
    "id": "X0uSn2DglZBd"
   },
   "source": [
    "# **СТРОИМ НЕЙРОННУЮ СЕТЬ**"
   ]
  },
  {
   "cell_type": "code",
   "execution_count": null,
   "metadata": {
    "id": "YdYq5SN8yqdz"
   },
   "outputs": [],
   "source": [
    "from keras.models import Sequential\n",
    "from keras.layers import Dense\n",
    "import tensorflow as tf\n",
    "from sklearn.model_selection import train_test_split\n",
    "\n",
    "tf.random.set_seed(0)\n",
    "model = Sequential()"
   ]
  },
  {
   "cell_type": "code",
   "execution_count": null,
   "metadata": {
    "id": "6beYM7e9yqgY"
   },
   "outputs": [],
   "source": [
    "features = df.drop(['portfolio_current'], axis=1)\n",
    "targets = df['portfolio_current']"
   ]
  },
  {
   "cell_type": "code",
   "execution_count": null,
   "metadata": {
    "id": "hrO7RN2Iyqit"
   },
   "outputs": [],
   "source": [
    "x_train, x_test, y_train, y_test = train_test_split(features, targets, test_size=0.2, random_state=0)"
   ]
  },
  {
   "cell_type": "code",
   "execution_count": null,
   "metadata": {
    "colab": {
     "base_uri": "https://localhost:8080/"
    },
    "executionInfo": {
     "elapsed": 445,
     "status": "ok",
     "timestamp": 1705431850612,
     "user": {
      "displayName": "Rustem Khakimullin",
      "userId": "08101597593475196688"
     },
     "user_tz": -180
    },
    "id": "Hg4kL9r2yqlD",
    "outputId": "805885b8-dd59-4e17-fc5f-b116a8a3fd7a"
   },
   "outputs": [
    {
     "data": {
      "text/plain": [
       "(psk1                     2.562102\n",
       " sum1                   108.690683\n",
       " number1                  0.454193\n",
       " psk2                    92.412658\n",
       " sum2                  3306.843551\n",
       " number2                426.210197\n",
       " portfolio_previous    2703.696253\n",
       " quarter                  2.562422\n",
       " yaear                 2020.038251\n",
       " dtype: float64,\n",
       " '==================',\n",
       " psk1                    13.645605\n",
       " sum1                   948.047288\n",
       " number1                  3.677737\n",
       " psk2                    54.695978\n",
       " sum2                  4599.067395\n",
       " number2                565.429092\n",
       " portfolio_previous    3798.367918\n",
       " quarter                  1.056301\n",
       " yaear                    0.783193\n",
       " dtype: float64)"
      ]
     },
     "execution_count": 88,
     "metadata": {},
     "output_type": "execute_result"
    }
   ],
   "source": [
    "'''\n",
    "mean = np.mean(x_train[x_train!=0], axis=0)\n",
    "std = np.std(x_train[x_train!=0], axis=0)\n",
    "'''\n",
    "mean = np.mean(x_train, axis=0)\n",
    "std = np.std(x_train, axis=0)\n",
    "\n",
    "mean , '==================' , std"
   ]
  },
  {
   "cell_type": "code",
   "execution_count": null,
   "metadata": {
    "colab": {
     "base_uri": "https://localhost:8080/"
    },
    "executionInfo": {
     "elapsed": 3,
     "status": "ok",
     "timestamp": 1705431852615,
     "user": {
      "displayName": "Rustem Khakimullin",
      "userId": "08101597593475196688"
     },
     "user_tz": -180
    },
    "id": "sBfcX-qvyqnS",
    "outputId": "7bc3fb3e-d35a-40a4-ab66-8ad0683e30e8"
   },
   "outputs": [
    {
     "data": {
      "text/plain": [
       "(psk1                  1.000026\n",
       " sum1                  1.000026\n",
       " number1               1.000026\n",
       " psk2                  1.000026\n",
       " sum2                  1.000026\n",
       " number2               1.000026\n",
       " portfolio_previous    1.000026\n",
       " quarter               1.000026\n",
       " yaear                 1.000026\n",
       " dtype: float64,\n",
       " '==========',\n",
       " psk1                  1.005246\n",
       " sum1                  0.972166\n",
       " number1               0.945628\n",
       " psk2                  1.005777\n",
       " sum2                  1.020089\n",
       " number2               1.016803\n",
       " portfolio_previous    1.029973\n",
       " quarter               1.009637\n",
       " yaear                 0.995402\n",
       " dtype: float64)"
      ]
     },
     "execution_count": 89,
     "metadata": {},
     "output_type": "execute_result"
    }
   ],
   "source": [
    "'''\n",
    "x_train[x_train!=0] -= mean\n",
    "x_test[x_test!=0] -= mean\n",
    "x_train[x_train!=0] /= std\n",
    "x_test[x_test!=0] /= std\n",
    "x_train[x_train!=0].std() , '==========', x_test[x_test!=0].std()\n",
    "'''\n",
    "x_train -= mean\n",
    "x_test -= mean\n",
    "x_train /= std\n",
    "x_test /= std\n",
    "x_train.std() , '==========', x_test.std()\n"
   ]
  },
  {
   "cell_type": "code",
   "execution_count": null,
   "metadata": {
    "colab": {
     "base_uri": "https://localhost:8080/"
    },
    "executionInfo": {
     "elapsed": 278,
     "status": "ok",
     "timestamp": 1705431854960,
     "user": {
      "displayName": "Rustem Khakimullin",
      "userId": "08101597593475196688"
     },
     "user_tz": -180
    },
    "id": "U-qOZGHGyqwp",
    "outputId": "2c110a86-57c5-4663-ca2b-00933d594e1e"
   },
   "outputs": [
    {
     "name": "stdout",
     "output_type": "stream",
     "text": [
      "Model: \"sequential\"\n",
      "_________________________________________________________________\n",
      " Layer (type)                Output Shape              Param #   \n",
      "=================================================================\n",
      " dense (Dense)               (None, 64)                640       \n",
      "                                                                 \n",
      " dense_1 (Dense)             (None, 32)                2080      \n",
      "                                                                 \n",
      " dense_2 (Dense)             (None, 10)                330       \n",
      "                                                                 \n",
      " dense_3 (Dense)             (None, 1)                 11        \n",
      "                                                                 \n",
      "=================================================================\n",
      "Total params: 3061 (11.96 KB)\n",
      "Trainable params: 3061 (11.96 KB)\n",
      "Non-trainable params: 0 (0.00 Byte)\n",
      "_________________________________________________________________\n"
     ]
    }
   ],
   "source": [
    "model.add(Dense(64, activation='relu', input_shape = (x_train.shape[1],)))\n",
    "model.add(Dense(32, activation='relu'))\n",
    "model.add(Dense(10, activation='relu'))\n",
    "model.add(Dense(1))\n",
    "\n",
    "model.summary()"
   ]
  },
  {
   "cell_type": "code",
   "execution_count": null,
   "metadata": {
    "id": "hiffVZg3kvte"
   },
   "outputs": [],
   "source": [
    "model.compile(optimizer='adam', loss='mse', metrics=['mae'])"
   ]
  },
  {
   "cell_type": "code",
   "execution_count": null,
   "metadata": {
    "colab": {
     "base_uri": "https://localhost:8080/"
    },
    "executionInfo": {
     "elapsed": 13506,
     "status": "ok",
     "timestamp": 1705431871532,
     "user": {
      "displayName": "Rustem Khakimullin",
      "userId": "08101597593475196688"
     },
     "user_tz": -180
    },
    "id": "utYmZIjr82Jv",
    "outputId": "5e2a60c0-8d8c-42f0-ce62-3406128a88fc"
   },
   "outputs": [
    {
     "name": "stdout",
     "output_type": "stream",
     "text": [
      "Epoch 1/15\n",
      "302/302 [==============================] - 3s 3ms/step - loss: 19165960.0000 - mae: 2457.9053 - val_loss: 8957554.0000 - val_mae: 1536.5939\n",
      "Epoch 2/15\n",
      "302/302 [==============================] - 1s 3ms/step - loss: 6725358.5000 - mae: 1405.7188 - val_loss: 5991921.5000 - val_mae: 1386.1356\n",
      "Epoch 3/15\n",
      "302/302 [==============================] - 1s 4ms/step - loss: 6117140.5000 - mae: 1376.3611 - val_loss: 5720006.0000 - val_mae: 1357.2245\n",
      "Epoch 4/15\n",
      "302/302 [==============================] - 1s 3ms/step - loss: 5897793.5000 - mae: 1346.6676 - val_loss: 5547526.0000 - val_mae: 1323.3329\n",
      "Epoch 5/15\n",
      "302/302 [==============================] - 1s 3ms/step - loss: 5744301.0000 - mae: 1318.6331 - val_loss: 5415306.5000 - val_mae: 1289.2817\n",
      "Epoch 6/15\n",
      "302/302 [==============================] - 1s 2ms/step - loss: 5608296.0000 - mae: 1285.4982 - val_loss: 5283769.0000 - val_mae: 1271.6195\n",
      "Epoch 7/15\n",
      "302/302 [==============================] - 1s 2ms/step - loss: 5452209.5000 - mae: 1262.3450 - val_loss: 5099845.0000 - val_mae: 1219.9879\n",
      "Epoch 8/15\n",
      "302/302 [==============================] - 1s 2ms/step - loss: 5238889.0000 - mae: 1215.3616 - val_loss: 4884230.5000 - val_mae: 1183.7712\n",
      "Epoch 9/15\n",
      "302/302 [==============================] - 1s 2ms/step - loss: 4967418.0000 - mae: 1178.5139 - val_loss: 4597417.5000 - val_mae: 1140.7166\n",
      "Epoch 10/15\n",
      "302/302 [==============================] - 1s 2ms/step - loss: 4639762.0000 - mae: 1133.0629 - val_loss: 4284141.5000 - val_mae: 1100.6553\n",
      "Epoch 11/15\n",
      "302/302 [==============================] - 1s 2ms/step - loss: 4314863.5000 - mae: 1094.4221 - val_loss: 4013760.2500 - val_mae: 1075.2117\n",
      "Epoch 12/15\n",
      "302/302 [==============================] - 1s 2ms/step - loss: 4015109.0000 - mae: 1060.8813 - val_loss: 3752516.0000 - val_mae: 1018.0604\n",
      "Epoch 13/15\n",
      "302/302 [==============================] - 1s 2ms/step - loss: 3770804.7500 - mae: 1024.8759 - val_loss: 3503964.7500 - val_mae: 1009.2453\n",
      "Epoch 14/15\n",
      "302/302 [==============================] - 1s 2ms/step - loss: 3524814.0000 - mae: 1002.9712 - val_loss: 3310356.5000 - val_mae: 985.1357\n",
      "Epoch 15/15\n",
      "302/302 [==============================] - 1s 2ms/step - loss: 3301363.7500 - mae: 971.8346 - val_loss: 3140572.5000 - val_mae: 977.3886\n"
     ]
    }
   ],
   "source": [
    "history = model.fit(\n",
    "    x_train,\n",
    "    y_train,\n",
    "    batch_size=64,\n",
    "    epochs=15,\n",
    "    validation_data=(x_test, y_test)\n",
    ")"
   ]
  },
  {
   "cell_type": "code",
   "execution_count": null,
   "metadata": {
    "colab": {
     "base_uri": "https://localhost:8080/",
     "height": 445
    },
    "executionInfo": {
     "elapsed": 635,
     "status": "ok",
     "timestamp": 1705431873121,
     "user": {
      "displayName": "Rustem Khakimullin",
      "userId": "08101597593475196688"
     },
     "user_tz": -180
    },
    "id": "11gDdkHm82SA",
    "outputId": "24ec54bb-e89f-4ee0-9267-f8242ffb3778"
   },
   "outputs": [
    {
     "data": {
      "image/png": "[encoded data removed]",
      "text/plain": [
       "<Figure size 640x480 with 1 Axes>"
      ]
     },
     "metadata": {},
     "output_type": "display_data"
    }
   ],
   "source": [
    "plt.plot(history.history['loss'], label='train loss')\n",
    "plt.plot(history.history['val_loss'], label='val loss')\n",
    "plt.legend();"
   ]
  },
  {
   "cell_type": "markdown",
   "metadata": {
    "id": "YKDQYhht4681"
   },
   "source": [
    "# **СТРОИМ XGBoost**"
   ]
  },
  {
   "cell_type": "code",
   "execution_count": null,
   "metadata": {
    "id": "n5G1QeFA5A8r"
   },
   "outputs": [],
   "source": [
    "import xgboost as xgb\n",
    "from sklearn.metrics import mean_squared_error\n",
    "from sklearn.model_selection import train_test_split"
   ]
  },
  {
   "cell_type": "code",
   "execution_count": null,
   "metadata": {
    "id": "-3r5TaEB58sy"
   },
   "outputs": [],
   "source": [
    "features = df.drop(['portfolio_current'], axis=1)\n",
    "targets = df['portfolio_current']"
   ]
  },
  {
   "cell_type": "code",
   "execution_count": null,
   "metadata": {
    "id": "_jJ_EP865BlS"
   },
   "outputs": [],
   "source": [
    "x_train, x_test, y_train, y_test = train_test_split(features, targets, test_size=0.2, random_state=0)"
   ]
  },
  {
   "cell_type": "code",
   "execution_count": null,
   "metadata": {
    "colab": {
     "base_uri": "https://localhost:8080/",
     "height": 247
    },
    "executionInfo": {
     "elapsed": 8298,
     "status": "ok",
     "timestamp": 1705432032787,
     "user": {
      "displayName": "Rustem Khakimullin",
      "userId": "08101597593475196688"
     },
     "user_tz": -180
    },
    "id": "h8b49fzi5Bnr",
    "outputId": "504a55f2-8c51-4c4e-84f3-a8e9424b6825"
   },
   "outputs": [
    {
     "data": {
      "text/html": [
       "<style>#sk-container-id-4 {color: black;background-color: white;}#sk-container-id-4 pre{padding: 0;}#sk-container-id-4 div.sk-toggleable {background-color: white;}#sk-container-id-4 label.sk-toggleable__label {cursor: pointer;display: block;width: 100%;margin-bottom: 0;padding: 0.3em;box-sizing: border-box;text-align: center;}#sk-container-id-4 label.sk-toggleable__label-arrow:before {content: \"▸\";float: left;margin-right: 0.25em;color: #696969;}#sk-container-id-4 label.sk-toggleable__label-arrow:hover:before {color: black;}#sk-container-id-4 div.sk-estimator:hover label.sk-toggleable__label-arrow:before {color: black;}#sk-container-id-4 div.sk-toggleable__content {max-height: 0;max-width: 0;overflow: hidden;text-align: left;background-color: #f0f8ff;}#sk-container-id-4 div.sk-toggleable__content pre {margin: 0.2em;color: black;border-radius: 0.25em;background-color: #f0f8ff;}#sk-container-id-4 input.sk-toggleable__control:checked~div.sk-toggleable__content {max-height: 200px;max-width: 100%;overflow: auto;}#sk-container-id-4 input.sk-toggleable__control:checked~label.sk-toggleable__label-arrow:before {content: \"▾\";}#sk-container-id-4 div.sk-estimator input.sk-toggleable__control:checked~label.sk-toggleable__label {background-color: #d4ebff;}#sk-container-id-4 div.sk-label input.sk-toggleable__control:checked~label.sk-toggleable__label {background-color: #d4ebff;}#sk-container-id-4 input.sk-hidden--visually {border: 0;clip: rect(1px 1px 1px 1px);clip: rect(1px, 1px, 1px, 1px);height: 1px;margin: -1px;overflow: hidden;padding: 0;position: absolute;width: 1px;}#sk-container-id-4 div.sk-estimator {font-family: monospace;background-color: #f0f8ff;border: 1px dotted black;border-radius: 0.25em;box-sizing: border-box;margin-bottom: 0.5em;}#sk-container-id-4 div.sk-estimator:hover {background-color: #d4ebff;}#sk-container-id-4 div.sk-parallel-item::after {content: \"\";width: 100%;border-bottom: 1px solid gray;flex-grow: 1;}#sk-container-id-4 div.sk-label:hover label.sk-toggleable__label {background-color: #d4ebff;}#sk-container-id-4 div.sk-serial::before {content: \"\";position: absolute;border-left: 1px solid gray;box-sizing: border-box;top: 0;bottom: 0;left: 50%;z-index: 0;}#sk-container-id-4 div.sk-serial {display: flex;flex-direction: column;align-items: center;background-color: white;padding-right: 0.2em;padding-left: 0.2em;position: relative;}#sk-container-id-4 div.sk-item {position: relative;z-index: 1;}#sk-container-id-4 div.sk-parallel {display: flex;align-items: stretch;justify-content: center;background-color: white;position: relative;}#sk-container-id-4 div.sk-item::before, #sk-container-id-4 div.sk-parallel-item::before {content: \"\";position: absolute;border-left: 1px solid gray;box-sizing: border-box;top: 0;bottom: 0;left: 50%;z-index: -1;}#sk-container-id-4 div.sk-parallel-item {display: flex;flex-direction: column;z-index: 1;position: relative;background-color: white;}#sk-container-id-4 div.sk-parallel-item:first-child::after {align-self: flex-end;width: 50%;}#sk-container-id-4 div.sk-parallel-item:last-child::after {align-self: flex-start;width: 50%;}#sk-container-id-4 div.sk-parallel-item:only-child::after {width: 0;}#sk-container-id-4 div.sk-dashed-wrapped {border: 1px dashed gray;margin: 0 0.4em 0.5em 0.4em;box-sizing: border-box;padding-bottom: 0.4em;background-color: white;}#sk-container-id-4 div.sk-label label {font-family: monospace;font-weight: bold;display: inline-block;line-height: 1.2em;}#sk-container-id-4 div.sk-label-container {text-align: center;}#sk-container-id-4 div.sk-container {/* jupyter's `normalize.less` sets `[hidden] { display: none; }` but bootstrap.min.css set `[hidden] { display: none !important; }` so we also need the `!important` here to be able to override the default hidden behavior on the sphinx rendered scikit-learn.org. See: https://github.com/scikit-learn/scikit-learn/issues/21755 */display: inline-block !important;position: relative;}#sk-container-id-4 div.sk-text-repr-fallback {display: none;}</style><div id=\"sk-container-id-4\" class=\"sk-top-container\"><div class=\"sk-text-repr-fallback\"><pre>XGBRegressor(base_score=None, booster=None, callbacks=None,\n",
       "             colsample_bylevel=None, colsample_bynode=None,\n",
       "             colsample_bytree=None, device=None, early_stopping_rounds=None,\n",
       "             enable_categorical=False, eval_metric=None, feature_types=None,\n",
       "             gamma=None, grow_policy=None, importance_type=None,\n",
       "             interaction_constraints=None, learning_rate=None, max_bin=None,\n",
       "             max_cat_threshold=None, max_cat_to_onehot=None,\n",
       "             max_delta_step=None, max_depth=None, max_leaves=None,\n",
       "             min_child_weight=None, missing=nan, monotone_constraints=None,\n",
       "             multi_strategy=None, n_estimators=None, n_jobs=None,\n",
       "             num_parallel_tree=None, random_state=None, ...)</pre><b>In a Jupyter environment, please rerun this cell to show the HTML representation or trust the notebook. <br />On GitHub, the HTML representation is unable to render, please try loading this page with nbviewer.org.</b></div><div class=\"sk-container\" hidden><div class=\"sk-item\"><div class=\"sk-estimator sk-toggleable\"><input class=\"sk-toggleable__control sk-hidden--visually\" id=\"sk-estimator-id-4\" type=\"checkbox\" checked><label for=\"sk-estimator-id-4\" class=\"sk-toggleable__label sk-toggleable__label-arrow\">XGBRegressor</label><div class=\"sk-toggleable__content\"><pre>XGBRegressor(base_score=None, booster=None, callbacks=None,\n",
       "             colsample_bylevel=None, colsample_bynode=None,\n",
       "             colsample_bytree=None, device=None, early_stopping_rounds=None,\n",
       "             enable_categorical=False, eval_metric=None, feature_types=None,\n",
       "             gamma=None, grow_policy=None, importance_type=None,\n",
       "             interaction_constraints=None, learning_rate=None, max_bin=None,\n",
       "             max_cat_threshold=None, max_cat_to_onehot=None,\n",
       "             max_delta_step=None, max_depth=None, max_leaves=None,\n",
       "             min_child_weight=None, missing=nan, monotone_constraints=None,\n",
       "             multi_strategy=None, n_estimators=None, n_jobs=None,\n",
       "             num_parallel_tree=None, random_state=None, ...)</pre></div></div></div></div></div>"
      ],
      "text/plain": [
       "XGBRegressor(base_score=None, booster=None, callbacks=None,\n",
       "             colsample_bylevel=None, colsample_bynode=None,\n",
       "             colsample_bytree=None, device=None, early_stopping_rounds=None,\n",
       "             enable_categorical=False, eval_metric=None, feature_types=None,\n",
       "             gamma=None, grow_policy=None, importance_type=None,\n",
       "             interaction_constraints=None, learning_rate=None, max_bin=None,\n",
       "             max_cat_threshold=None, max_cat_to_onehot=None,\n",
       "             max_delta_step=None, max_depth=None, max_leaves=None,\n",
       "             min_child_weight=None, missing=nan, monotone_constraints=None,\n",
       "             multi_strategy=None, n_estimators=None, n_jobs=None,\n",
       "             num_parallel_tree=None, random_state=None, ...)"
      ]
     },
     "execution_count": 132,
     "metadata": {},
     "output_type": "execute_result"
    }
   ],
   "source": [
    "model = xgb.XGBRegressor()\n",
    "model.fit(x_train, y_train)"
   ]
  },
  {
   "cell_type": "markdown",
   "metadata": {
    "id": "fI-JBX1qJn6O"
   },
   "source": [
    "# **Bagging**"
   ]
  },
  {
   "cell_type": "code",
   "execution_count": null,
   "metadata": {
    "id": "Vr1l4KPKJzi0"
   },
   "outputs": [],
   "source": [
    "from sklearn.ensemble import BaggingRegressor\n",
    "from sklearn.neighbors import KNeighborsRegressor\n",
    "from sklearn.tree import DecisionTreeRegressor"
   ]
  },
  {
   "cell_type": "code",
   "execution_count": null,
   "metadata": {
    "id": "cyU41RRwJ4Fz"
   },
   "outputs": [],
   "source": [
    "model = BaggingRegressor(DecisionTreeRegressor(random_state=10),\n",
    "                           n_estimators=150,\n",
    "                           max_samples=0.5,\n",
    "                           max_features=0.5,\n",
    "                           random_state=10\n",
    "                           )"
   ]
  },
  {
   "cell_type": "code",
   "execution_count": null,
   "metadata": {
    "id": "dP7JJU6hKcu2"
   },
   "outputs": [],
   "source": [
    "from sklearn.model_selection import train_test_split\n",
    "features = df.drop(['portfolio_current'], axis=1)\n",
    "targets = df['portfolio_current']\n",
    "x_train, x_test, y_train, y_test = train_test_split(features, targets, test_size=0.2, random_state=0)"
   ]
  },
  {
   "cell_type": "code",
   "execution_count": null,
   "metadata": {
    "colab": {
     "base_uri": "https://localhost:8080/"
    },
    "executionInfo": {
     "elapsed": 5436,
     "status": "ok",
     "timestamp": 1705432149736,
     "user": {
      "displayName": "Rustem Khakimullin",
      "userId": "08101597593475196688"
     },
     "user_tz": -180
    },
    "id": "4i_0SkBiKSSh",
    "outputId": "2ffe5fb3-6fc5-4cc9-82e6-300efdc44892"
   },
   "outputs": [
    {
     "data": {
      "text/html": [
       "<style>#sk-container-id-5 {color: black;background-color: white;}#sk-container-id-5 pre{padding: 0;}#sk-container-id-5 div.sk-toggleable {background-color: white;}#sk-container-id-5 label.sk-toggleable__label {cursor: pointer;display: block;width: 100%;margin-bottom: 0;padding: 0.3em;box-sizing: border-box;text-align: center;}#sk-container-id-5 label.sk-toggleable__label-arrow:before {content: \"▸\";float: left;margin-right: 0.25em;color: #696969;}#sk-container-id-5 label.sk-toggleable__label-arrow:hover:before {color: black;}#sk-container-id-5 div.sk-estimator:hover label.sk-toggleable__label-arrow:before {color: black;}#sk-container-id-5 div.sk-toggleable__content {max-height: 0;max-width: 0;overflow: hidden;text-align: left;background-color: #f0f8ff;}#sk-container-id-5 div.sk-toggleable__content pre {margin: 0.2em;color: black;border-radius: 0.25em;background-color: #f0f8ff;}#sk-container-id-5 input.sk-toggleable__control:checked~div.sk-toggleable__content {max-height: 200px;max-width: 100%;overflow: auto;}#sk-container-id-5 input.sk-toggleable__control:checked~label.sk-toggleable__label-arrow:before {content: \"▾\";}#sk-container-id-5 div.sk-estimator input.sk-toggleable__control:checked~label.sk-toggleable__label {background-color: #d4ebff;}#sk-container-id-5 div.sk-label input.sk-toggleable__control:checked~label.sk-toggleable__label {background-color: #d4ebff;}#sk-container-id-5 input.sk-hidden--visually {border: 0;clip: rect(1px 1px 1px 1px);clip: rect(1px, 1px, 1px, 1px);height: 1px;margin: -1px;overflow: hidden;padding: 0;position: absolute;width: 1px;}#sk-container-id-5 div.sk-estimator {font-family: monospace;background-color: #f0f8ff;border: 1px dotted black;border-radius: 0.25em;box-sizing: border-box;margin-bottom: 0.5em;}#sk-container-id-5 div.sk-estimator:hover {background-color: #d4ebff;}#sk-container-id-5 div.sk-parallel-item::after {content: \"\";width: 100%;border-bottom: 1px solid gray;flex-grow: 1;}#sk-container-id-5 div.sk-label:hover label.sk-toggleable__label {background-color: #d4ebff;}#sk-container-id-5 div.sk-serial::before {content: \"\";position: absolute;border-left: 1px solid gray;box-sizing: border-box;top: 0;bottom: 0;left: 50%;z-index: 0;}#sk-container-id-5 div.sk-serial {display: flex;flex-direction: column;align-items: center;background-color: white;padding-right: 0.2em;padding-left: 0.2em;position: relative;}#sk-container-id-5 div.sk-item {position: relative;z-index: 1;}#sk-container-id-5 div.sk-parallel {display: flex;align-items: stretch;justify-content: center;background-color: white;position: relative;}#sk-container-id-5 div.sk-item::before, #sk-container-id-5 div.sk-parallel-item::before {content: \"\";position: absolute;border-left: 1px solid gray;box-sizing: border-box;top: 0;bottom: 0;left: 50%;z-index: -1;}#sk-container-id-5 div.sk-parallel-item {display: flex;flex-direction: column;z-index: 1;position: relative;background-color: white;}#sk-container-id-5 div.sk-parallel-item:first-child::after {align-self: flex-end;width: 50%;}#sk-container-id-5 div.sk-parallel-item:last-child::after {align-self: flex-start;width: 50%;}#sk-container-id-5 div.sk-parallel-item:only-child::after {width: 0;}#sk-container-id-5 div.sk-dashed-wrapped {border: 1px dashed gray;margin: 0 0.4em 0.5em 0.4em;box-sizing: border-box;padding-bottom: 0.4em;background-color: white;}#sk-container-id-5 div.sk-label label {font-family: monospace;font-weight: bold;display: inline-block;line-height: 1.2em;}#sk-container-id-5 div.sk-label-container {text-align: center;}#sk-container-id-5 div.sk-container {/* jupyter's `normalize.less` sets `[hidden] { display: none; }` but bootstrap.min.css set `[hidden] { display: none !important; }` so we also need the `!important` here to be able to override the default hidden behavior on the sphinx rendered scikit-learn.org. See: https://github.com/scikit-learn/scikit-learn/issues/21755 */display: inline-block !important;position: relative;}#sk-container-id-5 div.sk-text-repr-fallback {display: none;}</style><div id=\"sk-container-id-5\" class=\"sk-top-container\"><div class=\"sk-text-repr-fallback\"><pre>BaggingRegressor(estimator=DecisionTreeRegressor(random_state=10),\n",
       "                 max_features=0.5, max_samples=0.5, n_estimators=150,\n",
       "                 random_state=10)</pre><b>In a Jupyter environment, please rerun this cell to show the HTML representation or trust the notebook. <br />On GitHub, the HTML representation is unable to render, please try loading this page with nbviewer.org.</b></div><div class=\"sk-container\" hidden><div class=\"sk-item sk-dashed-wrapped\"><div class=\"sk-label-container\"><div class=\"sk-label sk-toggleable\"><input class=\"sk-toggleable__control sk-hidden--visually\" id=\"sk-estimator-id-5\" type=\"checkbox\" ><label for=\"sk-estimator-id-5\" class=\"sk-toggleable__label sk-toggleable__label-arrow\">BaggingRegressor</label><div class=\"sk-toggleable__content\"><pre>BaggingRegressor(estimator=DecisionTreeRegressor(random_state=10),\n",
       "                 max_features=0.5, max_samples=0.5, n_estimators=150,\n",
       "                 random_state=10)</pre></div></div></div><div class=\"sk-parallel\"><div class=\"sk-parallel-item\"><div class=\"sk-item\"><div class=\"sk-label-container\"><div class=\"sk-label sk-toggleable\"><input class=\"sk-toggleable__control sk-hidden--visually\" id=\"sk-estimator-id-6\" type=\"checkbox\" ><label for=\"sk-estimator-id-6\" class=\"sk-toggleable__label sk-toggleable__label-arrow\">estimator: DecisionTreeRegressor</label><div class=\"sk-toggleable__content\"><pre>DecisionTreeRegressor(random_state=10)</pre></div></div></div><div class=\"sk-serial\"><div class=\"sk-item\"><div class=\"sk-estimator sk-toggleable\"><input class=\"sk-toggleable__control sk-hidden--visually\" id=\"sk-estimator-id-7\" type=\"checkbox\" ><label for=\"sk-estimator-id-7\" class=\"sk-toggleable__label sk-toggleable__label-arrow\">DecisionTreeRegressor</label><div class=\"sk-toggleable__content\"><pre>DecisionTreeRegressor(random_state=10)</pre></div></div></div></div></div></div></div></div></div></div>"
      ],
      "text/plain": [
       "BaggingRegressor(estimator=DecisionTreeRegressor(random_state=10),\n",
       "                 max_features=0.5, max_samples=0.5, n_estimators=150,\n",
       "                 random_state=10)"
      ]
     },
     "execution_count": 168,
     "metadata": {},
     "output_type": "execute_result"
    }
   ],
   "source": [
    "model.fit(x_train, y_train)"
   ]
  },
  {
   "cell_type": "code",
   "execution_count": null,
   "metadata": {
    "colab": {
     "base_uri": "https://localhost:8080/"
    },
    "executionInfo": {
     "elapsed": 466,
     "status": "ok",
     "timestamp": 1705432150195,
     "user": {
      "displayName": "Rustem Khakimullin",
      "userId": "08101597593475196688"
     },
     "user_tz": -180
    },
    "id": "e3dCW1McK3L5",
    "outputId": "cd15f2b3-bca6-4ddc-94f6-443c3259c7c6"
   },
   "outputs": [
    {
     "data": {
      "text/plain": [
       "0.8724592070856589"
      ]
     },
     "execution_count": 169,
     "metadata": {},
     "output_type": "execute_result"
    }
   ],
   "source": [
    "model.score(x_train, y_train)"
   ]
  },
  {
   "cell_type": "code",
   "execution_count": null,
   "metadata": {
    "colab": {
     "base_uri": "https://localhost:8080/"
    },
    "executionInfo": {
     "elapsed": 296,
     "status": "ok",
     "timestamp": 1705432150487,
     "user": {
      "displayName": "Rustem Khakimullin",
      "userId": "08101597593475196688"
     },
     "user_tz": -180
    },
    "id": "tYIQFd23KSZz",
    "outputId": "9dec9f5f-4555-49ad-bacf-9a2fe6db658a"
   },
   "outputs": [
    {
     "data": {
      "text/plain": [
       "0.7261924061626233"
      ]
     },
     "execution_count": 170,
     "metadata": {},
     "output_type": "execute_result"
    }
   ],
   "source": [
    "model.score(x_test, y_test)"
   ]
  },
  {
   "cell_type": "markdown",
   "metadata": {
    "id": "OBrmOp0RG3a-"
   },
   "source": [
    "# **RandomForest**"
   ]
  },
  {
   "cell_type": "code",
   "execution_count": null,
   "metadata": {
    "id": "jqgLp4_KG1ah"
   },
   "outputs": [],
   "source": [
    "from sklearn.ensemble import RandomForestRegressor\n",
    "\n",
    "# Создаем модель RandomForest\n",
    "model = RandomForestRegressor(\n",
    "    oob_score=True,\n",
    "    max_depth=20,\n",
    "    # min_samples_leaf=1,\n",
    "    random_state=10,\n",
    "    max_features=0.33\n",
    ")"
   ]
  },
  {
   "cell_type": "code",
   "execution_count": null,
   "metadata": {
    "id": "Pw4QlcALHq5O"
   },
   "outputs": [],
   "source": [
    "from sklearn.model_selection import train_test_split\n",
    "features = df.drop(['portfolio_current'], axis=1)\n",
    "targets = df['portfolio_current']\n",
    "x_train, x_test, y_train, y_test = train_test_split(features, targets, test_size=0.2, random_state=0)"
   ]
  },
  {
   "cell_type": "code",
   "execution_count": null,
   "metadata": {
    "colab": {
     "base_uri": "https://localhost:8080/",
     "height": 91
    },
    "executionInfo": {
     "elapsed": 3187,
     "status": "ok",
     "timestamp": 1705859615115,
     "user": {
      "displayName": "Rustem Khakimullin",
      "userId": "08101597593475196688"
     },
     "user_tz": -180
    },
    "id": "kK421X8JHsHC",
    "outputId": "bda3bf43-429c-4753-e1e8-5530f8f0bbde"
   },
   "outputs": [
    {
     "data": {
      "text/html": [
       "<style>#sk-container-id-5 {color: black;background-color: white;}#sk-container-id-5 pre{padding: 0;}#sk-container-id-5 div.sk-toggleable {background-color: white;}#sk-container-id-5 label.sk-toggleable__label {cursor: pointer;display: block;width: 100%;margin-bottom: 0;padding: 0.3em;box-sizing: border-box;text-align: center;}#sk-container-id-5 label.sk-toggleable__label-arrow:before {content: \"▸\";float: left;margin-right: 0.25em;color: #696969;}#sk-container-id-5 label.sk-toggleable__label-arrow:hover:before {color: black;}#sk-container-id-5 div.sk-estimator:hover label.sk-toggleable__label-arrow:before {color: black;}#sk-container-id-5 div.sk-toggleable__content {max-height: 0;max-width: 0;overflow: hidden;text-align: left;background-color: #f0f8ff;}#sk-container-id-5 div.sk-toggleable__content pre {margin: 0.2em;color: black;border-radius: 0.25em;background-color: #f0f8ff;}#sk-container-id-5 input.sk-toggleable__control:checked~div.sk-toggleable__content {max-height: 200px;max-width: 100%;overflow: auto;}#sk-container-id-5 input.sk-toggleable__control:checked~label.sk-toggleable__label-arrow:before {content: \"▾\";}#sk-container-id-5 div.sk-estimator input.sk-toggleable__control:checked~label.sk-toggleable__label {background-color: #d4ebff;}#sk-container-id-5 div.sk-label input.sk-toggleable__control:checked~label.sk-toggleable__label {background-color: #d4ebff;}#sk-container-id-5 input.sk-hidden--visually {border: 0;clip: rect(1px 1px 1px 1px);clip: rect(1px, 1px, 1px, 1px);height: 1px;margin: -1px;overflow: hidden;padding: 0;position: absolute;width: 1px;}#sk-container-id-5 div.sk-estimator {font-family: monospace;background-color: #f0f8ff;border: 1px dotted black;border-radius: 0.25em;box-sizing: border-box;margin-bottom: 0.5em;}#sk-container-id-5 div.sk-estimator:hover {background-color: #d4ebff;}#sk-container-id-5 div.sk-parallel-item::after {content: \"\";width: 100%;border-bottom: 1px solid gray;flex-grow: 1;}#sk-container-id-5 div.sk-label:hover label.sk-toggleable__label {background-color: #d4ebff;}#sk-container-id-5 div.sk-serial::before {content: \"\";position: absolute;border-left: 1px solid gray;box-sizing: border-box;top: 0;bottom: 0;left: 50%;z-index: 0;}#sk-container-id-5 div.sk-serial {display: flex;flex-direction: column;align-items: center;background-color: white;padding-right: 0.2em;padding-left: 0.2em;position: relative;}#sk-container-id-5 div.sk-item {position: relative;z-index: 1;}#sk-container-id-5 div.sk-parallel {display: flex;align-items: stretch;justify-content: center;background-color: white;position: relative;}#sk-container-id-5 div.sk-item::before, #sk-container-id-5 div.sk-parallel-item::before {content: \"\";position: absolute;border-left: 1px solid gray;box-sizing: border-box;top: 0;bottom: 0;left: 50%;z-index: -1;}#sk-container-id-5 div.sk-parallel-item {display: flex;flex-direction: column;z-index: 1;position: relative;background-color: white;}#sk-container-id-5 div.sk-parallel-item:first-child::after {align-self: flex-end;width: 50%;}#sk-container-id-5 div.sk-parallel-item:last-child::after {align-self: flex-start;width: 50%;}#sk-container-id-5 div.sk-parallel-item:only-child::after {width: 0;}#sk-container-id-5 div.sk-dashed-wrapped {border: 1px dashed gray;margin: 0 0.4em 0.5em 0.4em;box-sizing: border-box;padding-bottom: 0.4em;background-color: white;}#sk-container-id-5 div.sk-label label {font-family: monospace;font-weight: bold;display: inline-block;line-height: 1.2em;}#sk-container-id-5 div.sk-label-container {text-align: center;}#sk-container-id-5 div.sk-container {/* jupyter's `normalize.less` sets `[hidden] { display: none; }` but bootstrap.min.css set `[hidden] { display: none !important; }` so we also need the `!important` here to be able to override the default hidden behavior on the sphinx rendered scikit-learn.org. See: https://github.com/scikit-learn/scikit-learn/issues/21755 */display: inline-block !important;position: relative;}#sk-container-id-5 div.sk-text-repr-fallback {display: none;}</style><div id=\"sk-container-id-5\" class=\"sk-top-container\"><div class=\"sk-text-repr-fallback\"><pre>RandomForestRegressor(max_depth=15, max_features=0.33, oob_score=True,\n",
       "                      random_state=10)</pre><b>In a Jupyter environment, please rerun this cell to show the HTML representation or trust the notebook. <br />On GitHub, the HTML representation is unable to render, please try loading this page with nbviewer.org.</b></div><div class=\"sk-container\" hidden><div class=\"sk-item\"><div class=\"sk-estimator sk-toggleable\"><input class=\"sk-toggleable__control sk-hidden--visually\" id=\"sk-estimator-id-5\" type=\"checkbox\" checked><label for=\"sk-estimator-id-5\" class=\"sk-toggleable__label sk-toggleable__label-arrow\">RandomForestRegressor</label><div class=\"sk-toggleable__content\"><pre>RandomForestRegressor(max_depth=15, max_features=0.33, oob_score=True,\n",
       "                      random_state=10)</pre></div></div></div></div></div>"
      ],
      "text/plain": [
       "RandomForestRegressor(max_depth=15, max_features=0.33, oob_score=True,\n",
       "                      random_state=10)"
      ]
     },
     "execution_count": 45,
     "metadata": {},
     "output_type": "execute_result"
    }
   ],
   "source": [
    "model.fit(x_train, y_train)"
   ]
  },
  {
   "cell_type": "code",
   "execution_count": null,
   "metadata": {
    "colab": {
     "base_uri": "https://localhost:8080/"
    },
    "executionInfo": {
     "elapsed": 451,
     "status": "ok",
     "timestamp": 1705859615559,
     "user": {
      "displayName": "Rustem Khakimullin",
      "userId": "08101597593475196688"
     },
     "user_tz": -180
    },
    "id": "CSfZU7ndIbX6",
    "outputId": "244c5e35-aecd-4c28-a681-feb584383e5c"
   },
   "outputs": [
    {
     "data": {
      "text/plain": [
       "0.9503226951661917"
      ]
     },
     "execution_count": 46,
     "metadata": {},
     "output_type": "execute_result"
    }
   ],
   "source": [
    "model.score(x_train, y_train)"
   ]
  },
  {
   "cell_type": "code",
   "execution_count": null,
   "metadata": {
    "colab": {
     "base_uri": "https://localhost:8080/"
    },
    "executionInfo": {
     "elapsed": 5,
     "status": "ok",
     "timestamp": 1705859615559,
     "user": {
      "displayName": "Rustem Khakimullin",
      "userId": "08101597593475196688"
     },
     "user_tz": -180
    },
    "id": "9GmZIVu3I2TI",
    "outputId": "3d9ef06c-72de-451d-e134-c42d8738d02f"
   },
   "outputs": [
    {
     "data": {
      "text/plain": [
       "0.724085829978373"
      ]
     },
     "execution_count": 47,
     "metadata": {},
     "output_type": "execute_result"
    }
   ],
   "source": [
    "model.score(x_test, y_test)"
   ]
  },
  {
   "cell_type": "code",
   "execution_count": null,
   "metadata": {
    "colab": {
     "base_uri": "https://localhost:8080/"
    },
    "executionInfo": {
     "elapsed": 5,
     "status": "ok",
     "timestamp": 1705859685737,
     "user": {
      "displayName": "Rustem Khakimullin",
      "userId": "08101597593475196688"
     },
     "user_tz": -180
    },
    "id": "urE3_-BLKJsB",
    "outputId": "9cfef429-fd7b-471c-ffe3-e929e07323f3"
   },
   "outputs": [
    {
     "data": {
      "text/plain": [
       "psk1                  0.003857\n",
       "sum1                  0.003634\n",
       "number1               0.006923\n",
       "psk2                  0.042460\n",
       "sum2                  0.330459\n",
       "number2               0.304355\n",
       "portfolio_previous    0.256184\n",
       "quarter               0.030623\n",
       "yaear                 0.021505\n",
       "dtype: float64"
      ]
     },
     "execution_count": 48,
     "metadata": {},
     "output_type": "execute_result"
    }
   ],
   "source": [
    "imp = pd.Series(model.feature_importances_)\n",
    "imp.index = pd.Series(x_train.columns)\n",
    "imp"
   ]
  },
  {
   "cell_type": "markdown",
   "metadata": {
    "id": "fIe5TFGS4L0W"
   },
   "source": [
    "# **METRICS**"
   ]
  },
  {
   "cell_type": "code",
   "execution_count": 25,
   "metadata": {
    "executionInfo": {
     "elapsed": 274,
     "status": "ok",
     "timestamp": 1709472477387,
     "user": {
      "displayName": "Rustem Khakimullin",
      "userId": "08101597593475196688"
     },
     "user_tz": -180
    },
    "id": "umdY6lPMo7bA"
   },
   "outputs": [],
   "source": [
    "from sklearn.metrics import mean_squared_error"
   ]
  },
  {
   "cell_type": "code",
   "execution_count": null,
   "metadata": {
    "id": "P7qAD_9_KSeP"
   },
   "outputs": [],
   "source": [
    "y_pred = model.predict(x_test)"
   ]
  },
  {
   "cell_type": "code",
   "execution_count": 111,
   "metadata": {
    "executionInfo": {
     "elapsed": 391,
     "status": "ok",
     "timestamp": 1709472940414,
     "user": {
      "displayName": "Rustem Khakimullin",
      "userId": "08101597593475196688"
     },
     "user_tz": -180
    },
    "id": "ri3BL78xgANb"
   },
   "outputs": [],
   "source": [
    "y_test = df['portfolio_current']\n",
    "y_pred = df['portfolio_previous']\n",
    "compared_results = pd.DataFrame({\"true_value\": y_test, \"predicted_value\": y_pred})\n",
    "compared_results['diference'] = np.abs(compared_results['true_value'] - compared_results['predicted_value'])"
   ]
  },
  {
   "cell_type": "code",
   "execution_count": 112,
   "metadata": {
    "colab": {
     "base_uri": "https://localhost:8080/"
    },
    "executionInfo": {
     "elapsed": 5,
     "status": "ok",
     "timestamp": 1709472941540,
     "user": {
      "displayName": "Rustem Khakimullin",
      "userId": "08101597593475196688"
     },
     "user_tz": -180
    },
    "id": "OEYKUCQGLH5V",
    "outputId": "4eb4dc43-d503-4b1f-ffc4-13f47b93c0a1"
   },
   "outputs": [
    {
     "data": {
      "text/plain": [
       "2849.026477605624"
      ]
     },
     "execution_count": 112,
     "metadata": {},
     "output_type": "execute_result"
    }
   ],
   "source": [
    "mse = mean_squared_error(y_test, y_pred)\n",
    "math.sqrt(mse)"
   ]
  },
  {
   "cell_type": "code",
   "execution_count": 28,
   "metadata": {
    "colab": {
     "base_uri": "https://localhost:8080/",
     "height": 306
    },
    "executionInfo": {
     "elapsed": 336,
     "status": "error",
     "timestamp": 1709472678810,
     "user": {
      "displayName": "Rustem Khakimullin",
      "userId": "08101597593475196688"
     },
     "user_tz": -180
    },
    "id": "3X8BRca4LL3a",
    "outputId": "b80da7e9-9cf8-4eb2-8e31-b65779dc0142"
   },
   "outputs": [
    {
     "ename": "AttributeError",
     "evalue": "'Series' object has no attribute 'flatten'",
     "output_type": "error",
     "traceback": [
      "\u001b[0;31m---------------------------------------------------------------------------\u001b[0m",
      "\u001b[0;31mAttributeError\u001b[0m                            Traceback (most recent call last)",
      "\u001b[0;32m<ipython-input-28-d8ab266ab431>\u001b[0m in \u001b[0;36m<cell line: 1>\u001b[0;34m()\u001b[0m\n\u001b[0;32m----> 1\u001b[0;31m \u001b[0my_pred\u001b[0m \u001b[0;34m=\u001b[0m \u001b[0mpd\u001b[0m\u001b[0;34m.\u001b[0m\u001b[0mSeries\u001b[0m\u001b[0;34m(\u001b[0m\u001b[0my_pred\u001b[0m\u001b[0;34m.\u001b[0m\u001b[0mflatten\u001b[0m\u001b[0;34m(\u001b[0m\u001b[0;34m)\u001b[0m\u001b[0;34m)\u001b[0m\u001b[0;34m\u001b[0m\u001b[0;34m\u001b[0m\u001b[0m\n\u001b[0m\u001b[1;32m      2\u001b[0m \u001b[0mcompared_results\u001b[0m \u001b[0;34m=\u001b[0m \u001b[0mpd\u001b[0m\u001b[0;34m.\u001b[0m\u001b[0mDataFrame\u001b[0m\u001b[0;34m(\u001b[0m\u001b[0;34m{\u001b[0m\u001b[0;34m\"true_value\"\u001b[0m\u001b[0;34m:\u001b[0m \u001b[0my_test\u001b[0m\u001b[0;34m,\u001b[0m \u001b[0;34m\"predicted_value\"\u001b[0m\u001b[0;34m:\u001b[0m \u001b[0my_pred\u001b[0m\u001b[0;34m}\u001b[0m\u001b[0;34m)\u001b[0m\u001b[0;34m\u001b[0m\u001b[0;34m\u001b[0m\u001b[0m\n\u001b[1;32m      3\u001b[0m \u001b[0mcompared_results\u001b[0m\u001b[0;34m[\u001b[0m\u001b[0;34m'diference'\u001b[0m\u001b[0;34m]\u001b[0m \u001b[0;34m=\u001b[0m \u001b[0mnp\u001b[0m\u001b[0;34m.\u001b[0m\u001b[0mabs\u001b[0m\u001b[0;34m(\u001b[0m\u001b[0mcompared_results\u001b[0m\u001b[0;34m[\u001b[0m\u001b[0;34m'true_value'\u001b[0m\u001b[0;34m]\u001b[0m \u001b[0;34m-\u001b[0m \u001b[0mcompared_results\u001b[0m\u001b[0;34m[\u001b[0m\u001b[0;34m'predicted_value'\u001b[0m\u001b[0;34m]\u001b[0m\u001b[0;34m)\u001b[0m\u001b[0;34m\u001b[0m\u001b[0;34m\u001b[0m\u001b[0m\n",
      "\u001b[0;32m/usr/local/lib/python3.10/dist-packages/pandas/core/generic.py\u001b[0m in \u001b[0;36m__getattr__\u001b[0;34m(self, name)\u001b[0m\n\u001b[1;32m   5900\u001b[0m         ):\n\u001b[1;32m   5901\u001b[0m             \u001b[0;32mreturn\u001b[0m \u001b[0mself\u001b[0m\u001b[0;34m[\u001b[0m\u001b[0mname\u001b[0m\u001b[0;34m]\u001b[0m\u001b[0;34m\u001b[0m\u001b[0;34m\u001b[0m\u001b[0m\n\u001b[0;32m-> 5902\u001b[0;31m         \u001b[0;32mreturn\u001b[0m \u001b[0mobject\u001b[0m\u001b[0;34m.\u001b[0m\u001b[0m__getattribute__\u001b[0m\u001b[0;34m(\u001b[0m\u001b[0mself\u001b[0m\u001b[0;34m,\u001b[0m \u001b[0mname\u001b[0m\u001b[0;34m)\u001b[0m\u001b[0;34m\u001b[0m\u001b[0;34m\u001b[0m\u001b[0m\n\u001b[0m\u001b[1;32m   5903\u001b[0m \u001b[0;34m\u001b[0m\u001b[0m\n\u001b[1;32m   5904\u001b[0m     \u001b[0;32mdef\u001b[0m \u001b[0m__setattr__\u001b[0m\u001b[0;34m(\u001b[0m\u001b[0mself\u001b[0m\u001b[0;34m,\u001b[0m \u001b[0mname\u001b[0m\u001b[0;34m:\u001b[0m \u001b[0mstr\u001b[0m\u001b[0;34m,\u001b[0m \u001b[0mvalue\u001b[0m\u001b[0;34m)\u001b[0m \u001b[0;34m->\u001b[0m \u001b[0;32mNone\u001b[0m\u001b[0;34m:\u001b[0m\u001b[0;34m\u001b[0m\u001b[0;34m\u001b[0m\u001b[0m\n",
      "\u001b[0;31mAttributeError\u001b[0m: 'Series' object has no attribute 'flatten'"
     ]
    }
   ],
   "source": [
    "y_pred = pd.Series(y_pred.flatten())\n",
    "compared_results = pd.DataFrame({\"true_value\": y_test, \"predicted_value\": y_pred})\n",
    "compared_results['diference'] = np.abs(compared_results['true_value'] - compared_results['predicted_value'])"
   ]
  },
  {
   "cell_type": "code",
   "execution_count": 113,
   "metadata": {
    "colab": {
     "base_uri": "https://localhost:8080/",
     "height": 300
    },
    "executionInfo": {
     "elapsed": 380,
     "status": "ok",
     "timestamp": 1709472947383,
     "user": {
      "displayName": "Rustem Khakimullin",
      "userId": "08101597593475196688"
     },
     "user_tz": -180
    },
    "id": "t7k1nWZnLPA8",
    "outputId": "d9c793ce-07eb-4010-b8c6-f4d6591e33d5"
   },
   "outputs": [
    {
     "data": {
      "application/vnd.google.colaboratory.intrinsic+json": {
       "summary": "{\n  \"name\": \"compared_results\",\n  \"rows\": 8,\n  \"fields\": [\n    {\n      \"column\": \"true_value\",\n      \"properties\": {\n        \"dtype\": \"number\",\n        \"std\": 9838.112171625484,\n        \"min\": 0.0,\n        \"max\": 24151.0,\n        \"num_unique_values\": 8,\n        \"samples\": [\n          2732.149741211544,\n          1157.0,\n          24151.0\n        ],\n        \"semantic_type\": \"\",\n        \"description\": \"\"\n      }\n    },\n    {\n      \"column\": \"predicted_value\",\n      \"properties\": {\n        \"dtype\": \"number\",\n        \"std\": 9696.118876892395,\n        \"min\": 0.0,\n        \"max\": 24151.0,\n        \"num_unique_values\": 8,\n        \"samples\": [\n          2707.997541137013,\n          1157.0,\n          24151.0\n        ],\n        \"semantic_type\": \"\",\n        \"description\": \"\"\n      }\n    },\n    {\n      \"column\": \"diference\",\n      \"properties\": {\n        \"dtype\": \"number\",\n        \"std\": 10151.015323008509,\n        \"min\": 0.0,\n        \"max\": 24151.0,\n        \"num_unique_values\": 8,\n        \"samples\": [\n          1115.1284922363463,\n          174.0,\n          24151.0\n        ],\n        \"semantic_type\": \"\",\n        \"description\": \"\"\n      }\n    }\n  ]\n}",
       "type": "dataframe"
      },
      "text/html": [
       "\n",
       "  <div id=\"df-1900eb5b-0c63-450f-bc4a-5d109f5c7939\" class=\"colab-df-container\">\n",
       "    <div>\n",
       "<style scoped>\n",
       "    .dataframe tbody tr th:only-of-type {\n",
       "        vertical-align: middle;\n",
       "    }\n",
       "\n",
       "    .dataframe tbody tr th {\n",
       "        vertical-align: top;\n",
       "    }\n",
       "\n",
       "    .dataframe thead th {\n",
       "        text-align: right;\n",
       "    }\n",
       "</style>\n",
       "<table border=\"1\" class=\"dataframe\">\n",
       "  <thead>\n",
       "    <tr style=\"text-align: right;\">\n",
       "      <th></th>\n",
       "      <th>true_value</th>\n",
       "      <th>predicted_value</th>\n",
       "      <th>diference</th>\n",
       "    </tr>\n",
       "  </thead>\n",
       "  <tbody>\n",
       "    <tr>\n",
       "      <th>count</th>\n",
       "      <td>24151.000000</td>\n",
       "      <td>24151.000000</td>\n",
       "      <td>24151.000000</td>\n",
       "    </tr>\n",
       "    <tr>\n",
       "      <th>mean</th>\n",
       "      <td>2732.149741</td>\n",
       "      <td>2707.997541</td>\n",
       "      <td>1115.128492</td>\n",
       "    </tr>\n",
       "    <tr>\n",
       "      <th>std</th>\n",
       "      <td>3867.701083</td>\n",
       "      <td>3821.418317</td>\n",
       "      <td>2621.778963</td>\n",
       "    </tr>\n",
       "    <tr>\n",
       "      <th>min</th>\n",
       "      <td>0.000000</td>\n",
       "      <td>0.000000</td>\n",
       "      <td>0.000000</td>\n",
       "    </tr>\n",
       "    <tr>\n",
       "      <th>25%</th>\n",
       "      <td>150.000000</td>\n",
       "      <td>164.500000</td>\n",
       "      <td>20.000000</td>\n",
       "    </tr>\n",
       "    <tr>\n",
       "      <th>50%</th>\n",
       "      <td>1157.000000</td>\n",
       "      <td>1157.000000</td>\n",
       "      <td>174.000000</td>\n",
       "    </tr>\n",
       "    <tr>\n",
       "      <th>75%</th>\n",
       "      <td>3678.000000</td>\n",
       "      <td>3638.000000</td>\n",
       "      <td>702.500000</td>\n",
       "    </tr>\n",
       "    <tr>\n",
       "      <th>max</th>\n",
       "      <td>21645.000000</td>\n",
       "      <td>20939.000000</td>\n",
       "      <td>20939.000000</td>\n",
       "    </tr>\n",
       "  </tbody>\n",
       "</table>\n",
       "</div>\n",
       "    <div class=\"colab-df-buttons\">\n",
       "\n",
       "  <div class=\"colab-df-container\">\n",
       "    <button class=\"colab-df-convert\" onclick=\"convertToInteractive('df-1900eb5b-0c63-450f-bc4a-5d109f5c7939')\"\n",
       "            title=\"Convert this dataframe to an interactive table.\"\n",
       "            style=\"display:none;\">\n",
       "\n",
       "  <svg xmlns=\"http://www.w3.org/2000/svg\" height=\"24px\" viewBox=\"0 -960 960 960\">\n",
       "    <path d=\"M120-120v-720h720v720H120Zm60-500h600v-160H180v160Zm220 220h160v-160H400v160Zm0 220h160v-160H400v160ZM180-400h160v-160H180v160Zm440 0h160v-160H620v160ZM180-180h160v-160H180v160Zm440 0h160v-160H620v160Z\"/>\n",
       "  </svg>\n",
       "    </button>\n",
       "\n",
       "  <style>\n",
       "    .colab-df-container {\n",
       "      display:flex;\n",
       "      gap: 12px;\n",
       "    }\n",
       "\n",
       "    .colab-df-convert {\n",
       "      background-color: #E8F0FE;\n",
       "      border: none;\n",
       "      border-radius: 50%;\n",
       "      cursor: pointer;\n",
       "      display: none;\n",
       "      fill: #1967D2;\n",
       "      height: 32px;\n",
       "      padding: 0 0 0 0;\n",
       "      width: 32px;\n",
       "    }\n",
       "\n",
       "    .colab-df-convert:hover {\n",
       "      background-color: #E2EBFA;\n",
       "      box-shadow: 0px 1px 2px rgba(60, 64, 67, 0.3), 0px 1px 3px 1px rgba(60, 64, 67, 0.15);\n",
       "      fill: #174EA6;\n",
       "    }\n",
       "\n",
       "    .colab-df-buttons div {\n",
       "      margin-bottom: 4px;\n",
       "    }\n",
       "\n",
       "    [theme=dark] .colab-df-convert {\n",
       "      background-color: #3B4455;\n",
       "      fill: #D2E3FC;\n",
       "    }\n",
       "\n",
       "    [theme=dark] .colab-df-convert:hover {\n",
       "      background-color: #434B5C;\n",
       "      box-shadow: 0px 1px 3px 1px rgba(0, 0, 0, 0.15);\n",
       "      filter: drop-shadow(0px 1px 2px rgba(0, 0, 0, 0.3));\n",
       "      fill: #FFFFFF;\n",
       "    }\n",
       "  </style>\n",
       "\n",
       "    <script>\n",
       "      const buttonEl =\n",
       "        document.querySelector('#df-1900eb5b-0c63-450f-bc4a-5d109f5c7939 button.colab-df-convert');\n",
       "      buttonEl.style.display =\n",
       "        google.colab.kernel.accessAllowed ? 'block' : 'none';\n",
       "\n",
       "      async function convertToInteractive(key) {\n",
       "        const element = document.querySelector('#df-1900eb5b-0c63-450f-bc4a-5d109f5c7939');\n",
       "        const dataTable =\n",
       "          await google.colab.kernel.invokeFunction('convertToInteractive',\n",
       "                                                    [key], {});\n",
       "        if (!dataTable) return;\n",
       "\n",
       "        const docLinkHtml = 'Like what you see? Visit the ' +\n",
       "          '<a target=\"_blank\" href=https://colab.research.google.com/notebooks/data_table.ipynb>data table notebook</a>'\n",
       "          + ' to learn more about interactive tables.';\n",
       "        element.innerHTML = '';\n",
       "        dataTable['output_type'] = 'display_data';\n",
       "        await google.colab.output.renderOutput(dataTable, element);\n",
       "        const docLink = document.createElement('div');\n",
       "        docLink.innerHTML = docLinkHtml;\n",
       "        element.appendChild(docLink);\n",
       "      }\n",
       "    </script>\n",
       "  </div>\n",
       "\n",
       "\n",
       "<div id=\"df-fa988e4e-0dbb-4b34-ac31-2c6b2df26883\">\n",
       "  <button class=\"colab-df-quickchart\" onclick=\"quickchart('df-fa988e4e-0dbb-4b34-ac31-2c6b2df26883')\"\n",
       "            title=\"Suggest charts\"\n",
       "            style=\"display:none;\">\n",
       "\n",
       "<svg xmlns=\"http://www.w3.org/2000/svg\" height=\"24px\"viewBox=\"0 0 24 24\"\n",
       "     width=\"24px\">\n",
       "    <g>\n",
       "        <path d=\"M19 3H5c-1.1 0-2 .9-2 2v14c0 1.1.9 2 2 2h14c1.1 0 2-.9 2-2V5c0-1.1-.9-2-2-2zM9 17H7v-7h2v7zm4 0h-2V7h2v10zm4 0h-2v-4h2v4z\"/>\n",
       "    </g>\n",
       "</svg>\n",
       "  </button>\n",
       "\n",
       "<style>\n",
       "  .colab-df-quickchart {\n",
       "      --bg-color: #E8F0FE;\n",
       "      --fill-color: #1967D2;\n",
       "      --hover-bg-color: #E2EBFA;\n",
       "      --hover-fill-color: #174EA6;\n",
       "      --disabled-fill-color: #AAA;\n",
       "      --disabled-bg-color: #DDD;\n",
       "  }\n",
       "\n",
       "  [theme=dark] .colab-df-quickchart {\n",
       "      --bg-color: #3B4455;\n",
       "      --fill-color: #D2E3FC;\n",
       "      --hover-bg-color: #434B5C;\n",
       "      --hover-fill-color: #FFFFFF;\n",
       "      --disabled-bg-color: #3B4455;\n",
       "      --disabled-fill-color: #666;\n",
       "  }\n",
       "\n",
       "  .colab-df-quickchart {\n",
       "    background-color: var(--bg-color);\n",
       "    border: none;\n",
       "    border-radius: 50%;\n",
       "    cursor: pointer;\n",
       "    display: none;\n",
       "    fill: var(--fill-color);\n",
       "    height: 32px;\n",
       "    padding: 0;\n",
       "    width: 32px;\n",
       "  }\n",
       "\n",
       "  .colab-df-quickchart:hover {\n",
       "    background-color: var(--hover-bg-color);\n",
       "    box-shadow: 0 1px 2px rgba(60, 64, 67, 0.3), 0 1px 3px 1px rgba(60, 64, 67, 0.15);\n",
       "    fill: var(--button-hover-fill-color);\n",
       "  }\n",
       "\n",
       "  .colab-df-quickchart-complete:disabled,\n",
       "  .colab-df-quickchart-complete:disabled:hover {\n",
       "    background-color: var(--disabled-bg-color);\n",
       "    fill: var(--disabled-fill-color);\n",
       "    box-shadow: none;\n",
       "  }\n",
       "\n",
       "  .colab-df-spinner {\n",
       "    border: 2px solid var(--fill-color);\n",
       "    border-color: transparent;\n",
       "    border-bottom-color: var(--fill-color);\n",
       "    animation:\n",
       "      spin 1s steps(1) infinite;\n",
       "  }\n",
       "\n",
       "  @keyframes spin {\n",
       "    0% {\n",
       "      border-color: transparent;\n",
       "      border-bottom-color: var(--fill-color);\n",
       "      border-left-color: var(--fill-color);\n",
       "    }\n",
       "    20% {\n",
       "      border-color: transparent;\n",
       "      border-left-color: var(--fill-color);\n",
       "      border-top-color: var(--fill-color);\n",
       "    }\n",
       "    30% {\n",
       "      border-color: transparent;\n",
       "      border-left-color: var(--fill-color);\n",
       "      border-top-color: var(--fill-color);\n",
       "      border-right-color: var(--fill-color);\n",
       "    }\n",
       "    40% {\n",
       "      border-color: transparent;\n",
       "      border-right-color: var(--fill-color);\n",
       "      border-top-color: var(--fill-color);\n",
       "    }\n",
       "    60% {\n",
       "      border-color: transparent;\n",
       "      border-right-color: var(--fill-color);\n",
       "    }\n",
       "    80% {\n",
       "      border-color: transparent;\n",
       "      border-right-color: var(--fill-color);\n",
       "      border-bottom-color: var(--fill-color);\n",
       "    }\n",
       "    90% {\n",
       "      border-color: transparent;\n",
       "      border-bottom-color: var(--fill-color);\n",
       "    }\n",
       "  }\n",
       "</style>\n",
       "\n",
       "  <script>\n",
       "    async function quickchart(key) {\n",
       "      const quickchartButtonEl =\n",
       "        document.querySelector('#' + key + ' button');\n",
       "      quickchartButtonEl.disabled = true;  // To prevent multiple clicks.\n",
       "      quickchartButtonEl.classList.add('colab-df-spinner');\n",
       "      try {\n",
       "        const charts = await google.colab.kernel.invokeFunction(\n",
       "            'suggestCharts', [key], {});\n",
       "      } catch (error) {\n",
       "        console.error('Error during call to suggestCharts:', error);\n",
       "      }\n",
       "      quickchartButtonEl.classList.remove('colab-df-spinner');\n",
       "      quickchartButtonEl.classList.add('colab-df-quickchart-complete');\n",
       "    }\n",
       "    (() => {\n",
       "      let quickchartButtonEl =\n",
       "        document.querySelector('#df-fa988e4e-0dbb-4b34-ac31-2c6b2df26883 button');\n",
       "      quickchartButtonEl.style.display =\n",
       "        google.colab.kernel.accessAllowed ? 'block' : 'none';\n",
       "    })();\n",
       "  </script>\n",
       "</div>\n",
       "    </div>\n",
       "  </div>\n"
      ],
      "text/plain": [
       "         true_value  predicted_value     diference\n",
       "count  24151.000000     24151.000000  24151.000000\n",
       "mean    2732.149741      2707.997541   1115.128492\n",
       "std     3867.701083      3821.418317   2621.778963\n",
       "min        0.000000         0.000000      0.000000\n",
       "25%      150.000000       164.500000     20.000000\n",
       "50%     1157.000000      1157.000000    174.000000\n",
       "75%     3678.000000      3638.000000    702.500000\n",
       "max    21645.000000     20939.000000  20939.000000"
      ]
     },
     "execution_count": 113,
     "metadata": {},
     "output_type": "execute_result"
    }
   ],
   "source": [
    "compared_results.describe()"
   ]
  }
 ],
 "metadata": {
  "colab": {
   "authorship_tag": "ABX9TyN6pF4KoOxT137ZCeNPTN5h",
   "collapsed_sections": [
    "eAsEgrPtgrYM",
    "C5WApgB4iSI7",
    "pHfzeEsEg0_W",
    "AnGjXBOmflAc",
    "xpypI5Roedvc",
    "goNi9A-_cLwj",
    "t1P1Lo8qGyHE",
    "oMt23WeayA-a",
    "QkJYZW0oHjkF",
    "2Gt2kwhcH4zX",
    "X0uSn2DglZBd",
    "YKDQYhht4681",
    "fI-JBX1qJn6O"
   ],
   "provenance": []
  },
  "kernelspec": {
   "display_name": "Python 3 (ipykernel)",
   "language": "python",
   "name": "python3"
  },
  "language_info": {
   "codemirror_mode": {
    "name": "ipython",
    "version": 3
   },
   "file_extension": ".py",
   "mimetype": "text/x-python",
   "name": "python",
   "nbconvert_exporter": "python",
   "pygments_lexer": "ipython3",
   "version": "3.9.12"
  }
 },
 "nbformat": 4,
 "nbformat_minor": 1
}
